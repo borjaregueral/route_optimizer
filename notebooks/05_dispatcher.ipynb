{
 "cells": [
  {
   "cell_type": "code",
   "execution_count": 1,
   "metadata": {},
   "outputs": [
    {
     "name": "stderr",
     "output_type": "stream",
     "text": [
      "24/09/30 12:54:24 WARN Utils: Your hostname, Somnium.local resolves to a loopback address: 127.0.0.1; using 192.168.0.219 instead (on interface en0)\n",
      "24/09/30 12:54:24 WARN Utils: Set SPARK_LOCAL_IP if you need to bind to another address\n",
      "Ivy Default Cache set to: /Users/borja/.ivy2/cache\n",
      "The jars for the packages stored in: /Users/borja/.ivy2/jars\n",
      "io.delta#delta-core_2.12 added as a dependency\n",
      "org.apache.hadoop#hadoop-aws added as a dependency\n",
      "com.amazonaws#aws-java-sdk-bundle added as a dependency\n",
      ":: resolving dependencies :: org.apache.spark#spark-submit-parent-ea9e4f1c-32ed-49f2-98ef-c22145488070;1.0\n",
      "\tconfs: [default]\n"
     ]
    },
    {
     "name": "stdout",
     "output_type": "stream",
     "text": [
      ":: loading settings :: url = jar:file:/Users/borja/Library/Caches/pypoetry/virtualenvs/route-optimizer-AqO2e-Ud-py3.11/lib/python3.11/site-packages/pyspark/jars/ivy-2.5.1.jar!/org/apache/ivy/core/settings/ivysettings.xml\n"
     ]
    },
    {
     "name": "stderr",
     "output_type": "stream",
     "text": [
      "\tfound io.delta#delta-core_2.12;2.4.0 in central\n",
      "\tfound io.delta#delta-storage;2.4.0 in central\n",
      "\tfound org.antlr#antlr4-runtime;4.9.3 in central\n",
      "\tfound org.apache.hadoop#hadoop-aws;3.3.2 in central\n",
      "\tfound com.amazonaws#aws-java-sdk-bundle;1.11.1026 in central\n",
      "\tfound org.wildfly.openssl#wildfly-openssl;1.0.7.Final in central\n",
      ":: resolution report :: resolve 142ms :: artifacts dl 5ms\n",
      "\t:: modules in use:\n",
      "\tcom.amazonaws#aws-java-sdk-bundle;1.11.1026 from central in [default]\n",
      "\tio.delta#delta-core_2.12;2.4.0 from central in [default]\n",
      "\tio.delta#delta-storage;2.4.0 from central in [default]\n",
      "\torg.antlr#antlr4-runtime;4.9.3 from central in [default]\n",
      "\torg.apache.hadoop#hadoop-aws;3.3.2 from central in [default]\n",
      "\torg.wildfly.openssl#wildfly-openssl;1.0.7.Final from central in [default]\n",
      "\t---------------------------------------------------------------------\n",
      "\t|                  |            modules            ||   artifacts   |\n",
      "\t|       conf       | number| search|dwnlded|evicted|| number|dwnlded|\n",
      "\t---------------------------------------------------------------------\n",
      "\t|      default     |   6   |   0   |   0   |   0   ||   6   |   0   |\n",
      "\t---------------------------------------------------------------------\n",
      ":: retrieving :: org.apache.spark#spark-submit-parent-ea9e4f1c-32ed-49f2-98ef-c22145488070\n",
      "\tconfs: [default]\n",
      "\t0 artifacts copied, 6 already retrieved (0kB/3ms)\n",
      "24/09/30 12:54:25 WARN NativeCodeLoader: Unable to load native-hadoop library for your platform... using builtin-java classes where applicable\n",
      "Setting default log level to \"WARN\".\n",
      "To adjust logging level use sc.setLogLevel(newLevel). For SparkR, use setLogLevel(newLevel).\n"
     ]
    }
   ],
   "source": [
    "from pyspark.sql import SparkSession\n",
    "import os\n",
    "\n",
    "# Initialize Spark session with Delta and S3 settings\n",
    "spark = SparkSession.builder \\\n",
    "    .appName(\"KinesisToDeltaLake\") \\\n",
    "    .config(\"spark.sql.extensions\", \"io.delta.sql.DeltaSparkSessionExtension\") \\\n",
    "    .config(\"spark.sql.catalog.spark_catalog\", \"org.apache.spark.sql.delta.catalog.DeltaCatalog\") \\\n",
    "    .config(\"spark.jars.packages\", \"io.delta:delta-core_2.12:2.4.0,org.apache.hadoop:hadoop-aws:3.3.2,com.amazonaws:aws-java-sdk-bundle:1.11.1026\") \\\n",
    "    .config(\"spark.hadoop.fs.s3a.impl\", \"org.apache.hadoop.fs.s3a.S3AFileSystem\") \\\n",
    "    .config(\"spark.hadoop.fs.s3a.access.key\", os.getenv(\"AWS_ACCESS_KEY_ID\")) \\\n",
    "    .config(\"spark.hadoop.fs.s3a.secret.key\", os.getenv(\"AWS_SECRET_ACCESS_KEY\")) \\\n",
    "    .config(\"spark.hadoop.fs.s3a.session.token\", os.getenv(\"AWS_SESSION_TOKEN\")) \\\n",
    "    .config(\"spark.hadoop.fs.s3a.endpoint\", \"s3.amazonaws.com\") \\\n",
    "    .config(\"spark.sql.files.maxPartitionBytes\", \"134217728\") \\\n",
    "    .getOrCreate()\n"
   ]
  },
  {
   "cell_type": "code",
   "execution_count": 2,
   "metadata": {},
   "outputs": [],
   "source": [
    "import boto3\n",
    "import json\n",
    "import time\n",
    "from dotenv import load_dotenv\n",
    "from datetime import datetime\n",
    "\n",
    "# Load environment variables from .env file\n",
    "load_dotenv()\n",
    "\n",
    "# Initialize AWS credentials from the .env file\n",
    "AWS_ACCESS_KEY_ID = os.getenv('AWS_ACCESS_KEY_ID')\n",
    "AWS_SECRET_ACCESS_KEY = os.getenv('AWS_SECRET_ACCESS_KEY')\n",
    "AWS_SESSION_TOKEN = os.getenv('AWS_SESSION_TOKEN')\n",
    "AWS_REGION = os.getenv('AWS_REGION')\n"
   ]
  },
  {
   "cell_type": "code",
   "execution_count": 3,
   "metadata": {},
   "outputs": [],
   "source": [
    "# Initialize boto3 client for Kinesis with your credentials\n",
    "kinesis_client = boto3.client(\n",
    "    'kinesis',\n",
    "    aws_access_key_id=AWS_ACCESS_KEY_ID,\n",
    "    aws_secret_access_key=AWS_SECRET_ACCESS_KEY,\n",
    "    aws_session_token=AWS_SESSION_TOKEN,\n",
    "    region_name=AWS_REGION\n",
    ")"
   ]
  },
  {
   "cell_type": "code",
   "execution_count": 4,
   "metadata": {},
   "outputs": [],
   "source": [
    "import boto3\n",
    "import json\n",
    "import time\n",
    "\n",
    "\n",
    "# Function to get the shard iterator\n",
    "def get_shard_iterator(stream_name, shard_id):\n",
    "    response = kinesis_client.get_shard_iterator(\n",
    "        StreamName=stream_name,\n",
    "        ShardId=shard_id,\n",
    "        ShardIteratorType='TRIM_HORIZON'  # or 'LATEST' for new records\n",
    "    )\n",
    "    return response['ShardIterator']\n",
    "\n",
    "# Function to read records from the Kinesis stream\n",
    "def read_kinesis_records(shard_iterator):\n",
    "    response = kinesis_client.get_records(ShardIterator=shard_iterator, Limit=100)\n",
    "    records = response['Records']\n",
    "    return records, response['NextShardIterator']\n",
    "\n",
    "# Fetch Kinesis records\n",
    "def fetch_kinesis_records(stream_name, shard_id):\n",
    "    shard_iterator = get_shard_iterator(stream_name, shard_id)\n",
    "    \n",
    "    print(\"Fetching records from Kinesis stream...\")\n",
    "    records, shard_iterator = read_kinesis_records(shard_iterator)\n",
    "\n",
    "    # Extract order data from records\n",
    "    orders = []\n",
    "    for record in records:\n",
    "        order_data = record['Data']\n",
    "        order = json.loads(order_data)\n",
    "        print(\"Received order:\", order)\n",
    "        orders.append(order)\n",
    "\n",
    "    return orders\n"
   ]
  },
  {
   "cell_type": "code",
   "execution_count": 5,
   "metadata": {},
   "outputs": [],
   "source": [
    "# Dispatcher function with fetch_kinesis_records integration\n",
    "def dispatcher():\n",
    "    stream_name = 'OrderStreamForDispatching'\n",
    "    shard_id = 'shardId-000000000000'\n",
    "    max_weight = 100  # Threshold for total weight\n",
    "    max_volume = 500  # Threshold for total volume\n",
    "    dispatch_time = datetime.strptime('12:00', '%H:%M').time()  # Dispatch by noon\n",
    "    order_buffer = []\n",
    "    \n",
    "    accumulated_weight = 0\n",
    "    accumulated_volume = 0\n",
    "\n",
    "    print(\"Starting dispatcher...\")\n",
    "\n",
    "    while True:\n",
    "        # Fetch records from Kinesis\n",
    "        orders = fetch_kinesis_records(stream_name, shard_id)\n",
    "\n",
    "        for order in orders:\n",
    "            order_buffer.append(order)\n",
    "            accumulated_weight += order['order']['weight']\n",
    "            accumulated_volume += order['order']['volume']\n",
    "            print(f\"Accumulated weight: {accumulated_weight}, volume: {accumulated_volume}\")\n",
    "\n",
    "        # Check if any dispatch criteria is met: weight, volume, or time\n",
    "        if (accumulated_weight >= max_weight or \n",
    "            accumulated_volume >= max_volume or \n",
    "            datetime.now().time() >= dispatch_time) and order_buffer:\n",
    "            \n",
    "            print(\"Threshold met. Dispatching orders...\")\n",
    "\n",
    "            # Update the order status to \"ready_for_dispatch\"\n",
    "            ready_orders = update_order_status(order_buffer)\n",
    "\n",
    "            # Create a DataFrame for the orders if the buffer is not empty\n",
    "            if ready_orders:\n",
    "                df = spark.createDataFrame(ready_orders)\n",
    "\n",
    "                # Write the orders to the \"ready_for_dispatch\" Delta table\n",
    "                write_to_delta(df, delta_table_path_ready_for_dispatch)\n",
    "\n",
    "                # Send the batch of orders to the route optimizer (Routific)\n",
    "                if send_to_route_optimizer(ready_orders):\n",
    "                    print(\"Orders successfully sent to route optimizer.\")\n",
    "\n",
    "            # Clear buffer and reset accumulators after dispatch\n",
    "            order_buffer = []\n",
    "            accumulated_weight = 0\n",
    "            accumulated_volume = 0\n",
    "\n",
    "        else:\n",
    "            print(f\"Threshold not met yet. Weight: {accumulated_weight}, Volume: {accumulated_volume}\")\n",
    "\n",
    "        # Sleep for a short time before fetching new records (to avoid throttling)\n",
    "        time.sleep(5)\n"
   ]
  },
  {
   "cell_type": "code",
   "execution_count": 6,
   "metadata": {},
   "outputs": [
    {
     "name": "stdout",
     "output_type": "stream",
     "text": [
      "Starting dispatcher...\n"
     ]
    },
    {
     "ename": "AccessDeniedException",
     "evalue": "An error occurred (AccessDeniedException) when calling the GetShardIterator operation: User: arn:aws:sts::277709186030:assumed-role/voclabs/user3002246=borja.gonzalez@alu.mbitschool.com is not authorized to perform: kinesis:GetShardIterator on resource: arn:aws:kinesis:us-east-1:277709186030:stream/OrderStreamForDispatching with an explicit deny in an identity-based policy",
     "output_type": "error",
     "traceback": [
      "\u001b[0;31m---------------------------------------------------------------------------\u001b[0m",
      "\u001b[0;31mAccessDeniedException\u001b[0m                     Traceback (most recent call last)",
      "Cell \u001b[0;32mIn[6], line 1\u001b[0m\n\u001b[0;32m----> 1\u001b[0m \u001b[43mdispatcher\u001b[49m\u001b[43m(\u001b[49m\u001b[43m)\u001b[49m\n",
      "Cell \u001b[0;32mIn[5], line 17\u001b[0m, in \u001b[0;36mdispatcher\u001b[0;34m()\u001b[0m\n\u001b[1;32m     13\u001b[0m \u001b[38;5;28mprint\u001b[39m(\u001b[38;5;124m\"\u001b[39m\u001b[38;5;124mStarting dispatcher...\u001b[39m\u001b[38;5;124m\"\u001b[39m)\n\u001b[1;32m     15\u001b[0m \u001b[38;5;28;01mwhile\u001b[39;00m \u001b[38;5;28;01mTrue\u001b[39;00m:\n\u001b[1;32m     16\u001b[0m     \u001b[38;5;66;03m# Fetch records from Kinesis\u001b[39;00m\n\u001b[0;32m---> 17\u001b[0m     orders \u001b[38;5;241m=\u001b[39m \u001b[43mfetch_kinesis_records\u001b[49m\u001b[43m(\u001b[49m\u001b[43mstream_name\u001b[49m\u001b[43m,\u001b[49m\u001b[43m \u001b[49m\u001b[43mshard_id\u001b[49m\u001b[43m)\u001b[49m\n\u001b[1;32m     19\u001b[0m     \u001b[38;5;28;01mfor\u001b[39;00m order \u001b[38;5;129;01min\u001b[39;00m orders:\n\u001b[1;32m     20\u001b[0m         order_buffer\u001b[38;5;241m.\u001b[39mappend(order)\n",
      "Cell \u001b[0;32mIn[4], line 23\u001b[0m, in \u001b[0;36mfetch_kinesis_records\u001b[0;34m(stream_name, shard_id)\u001b[0m\n\u001b[1;32m     22\u001b[0m \u001b[38;5;28;01mdef\u001b[39;00m \u001b[38;5;21mfetch_kinesis_records\u001b[39m(stream_name, shard_id):\n\u001b[0;32m---> 23\u001b[0m     shard_iterator \u001b[38;5;241m=\u001b[39m \u001b[43mget_shard_iterator\u001b[49m\u001b[43m(\u001b[49m\u001b[43mstream_name\u001b[49m\u001b[43m,\u001b[49m\u001b[43m \u001b[49m\u001b[43mshard_id\u001b[49m\u001b[43m)\u001b[49m\n\u001b[1;32m     25\u001b[0m     \u001b[38;5;28mprint\u001b[39m(\u001b[38;5;124m\"\u001b[39m\u001b[38;5;124mFetching records from Kinesis stream...\u001b[39m\u001b[38;5;124m\"\u001b[39m)\n\u001b[1;32m     26\u001b[0m     records, shard_iterator \u001b[38;5;241m=\u001b[39m read_kinesis_records(shard_iterator)\n",
      "Cell \u001b[0;32mIn[4], line 8\u001b[0m, in \u001b[0;36mget_shard_iterator\u001b[0;34m(stream_name, shard_id)\u001b[0m\n\u001b[1;32m      7\u001b[0m \u001b[38;5;28;01mdef\u001b[39;00m \u001b[38;5;21mget_shard_iterator\u001b[39m(stream_name, shard_id):\n\u001b[0;32m----> 8\u001b[0m     response \u001b[38;5;241m=\u001b[39m \u001b[43mkinesis_client\u001b[49m\u001b[38;5;241;43m.\u001b[39;49m\u001b[43mget_shard_iterator\u001b[49m\u001b[43m(\u001b[49m\n\u001b[1;32m      9\u001b[0m \u001b[43m        \u001b[49m\u001b[43mStreamName\u001b[49m\u001b[38;5;241;43m=\u001b[39;49m\u001b[43mstream_name\u001b[49m\u001b[43m,\u001b[49m\n\u001b[1;32m     10\u001b[0m \u001b[43m        \u001b[49m\u001b[43mShardId\u001b[49m\u001b[38;5;241;43m=\u001b[39;49m\u001b[43mshard_id\u001b[49m\u001b[43m,\u001b[49m\n\u001b[1;32m     11\u001b[0m \u001b[43m        \u001b[49m\u001b[43mShardIteratorType\u001b[49m\u001b[38;5;241;43m=\u001b[39;49m\u001b[38;5;124;43m'\u001b[39;49m\u001b[38;5;124;43mTRIM_HORIZON\u001b[39;49m\u001b[38;5;124;43m'\u001b[39;49m\u001b[43m  \u001b[49m\u001b[38;5;66;43;03m# or 'LATEST' for new records\u001b[39;49;00m\n\u001b[1;32m     12\u001b[0m \u001b[43m    \u001b[49m\u001b[43m)\u001b[49m\n\u001b[1;32m     13\u001b[0m     \u001b[38;5;28;01mreturn\u001b[39;00m response[\u001b[38;5;124m'\u001b[39m\u001b[38;5;124mShardIterator\u001b[39m\u001b[38;5;124m'\u001b[39m]\n",
      "File \u001b[0;32m~/Library/Caches/pypoetry/virtualenvs/route-optimizer-AqO2e-Ud-py3.11/lib/python3.11/site-packages/botocore/client.py:569\u001b[0m, in \u001b[0;36mClientCreator._create_api_method.<locals>._api_call\u001b[0;34m(self, *args, **kwargs)\u001b[0m\n\u001b[1;32m    565\u001b[0m     \u001b[38;5;28;01mraise\u001b[39;00m \u001b[38;5;167;01mTypeError\u001b[39;00m(\n\u001b[1;32m    566\u001b[0m         \u001b[38;5;124mf\u001b[39m\u001b[38;5;124m\"\u001b[39m\u001b[38;5;132;01m{\u001b[39;00mpy_operation_name\u001b[38;5;132;01m}\u001b[39;00m\u001b[38;5;124m() only accepts keyword arguments.\u001b[39m\u001b[38;5;124m\"\u001b[39m\n\u001b[1;32m    567\u001b[0m     )\n\u001b[1;32m    568\u001b[0m \u001b[38;5;66;03m# The \"self\" in this scope is referring to the BaseClient.\u001b[39;00m\n\u001b[0;32m--> 569\u001b[0m \u001b[38;5;28;01mreturn\u001b[39;00m \u001b[38;5;28;43mself\u001b[39;49m\u001b[38;5;241;43m.\u001b[39;49m\u001b[43m_make_api_call\u001b[49m\u001b[43m(\u001b[49m\u001b[43moperation_name\u001b[49m\u001b[43m,\u001b[49m\u001b[43m \u001b[49m\u001b[43mkwargs\u001b[49m\u001b[43m)\u001b[49m\n",
      "File \u001b[0;32m~/Library/Caches/pypoetry/virtualenvs/route-optimizer-AqO2e-Ud-py3.11/lib/python3.11/site-packages/botocore/client.py:1023\u001b[0m, in \u001b[0;36mBaseClient._make_api_call\u001b[0;34m(self, operation_name, api_params)\u001b[0m\n\u001b[1;32m   1019\u001b[0m     error_code \u001b[38;5;241m=\u001b[39m error_info\u001b[38;5;241m.\u001b[39mget(\u001b[38;5;124m\"\u001b[39m\u001b[38;5;124mQueryErrorCode\u001b[39m\u001b[38;5;124m\"\u001b[39m) \u001b[38;5;129;01mor\u001b[39;00m error_info\u001b[38;5;241m.\u001b[39mget(\n\u001b[1;32m   1020\u001b[0m         \u001b[38;5;124m\"\u001b[39m\u001b[38;5;124mCode\u001b[39m\u001b[38;5;124m\"\u001b[39m\n\u001b[1;32m   1021\u001b[0m     )\n\u001b[1;32m   1022\u001b[0m     error_class \u001b[38;5;241m=\u001b[39m \u001b[38;5;28mself\u001b[39m\u001b[38;5;241m.\u001b[39mexceptions\u001b[38;5;241m.\u001b[39mfrom_code(error_code)\n\u001b[0;32m-> 1023\u001b[0m     \u001b[38;5;28;01mraise\u001b[39;00m error_class(parsed_response, operation_name)\n\u001b[1;32m   1024\u001b[0m \u001b[38;5;28;01melse\u001b[39;00m:\n\u001b[1;32m   1025\u001b[0m     \u001b[38;5;28;01mreturn\u001b[39;00m parsed_response\n",
      "\u001b[0;31mAccessDeniedException\u001b[0m: An error occurred (AccessDeniedException) when calling the GetShardIterator operation: User: arn:aws:sts::277709186030:assumed-role/voclabs/user3002246=borja.gonzalez@alu.mbitschool.com is not authorized to perform: kinesis:GetShardIterator on resource: arn:aws:kinesis:us-east-1:277709186030:stream/OrderStreamForDispatching with an explicit deny in an identity-based policy"
     ]
    }
   ],
   "source": [
    "dispatcher()"
   ]
  },
  {
   "cell_type": "code",
   "execution_count": null,
   "metadata": {},
   "outputs": [],
   "source": []
  }
 ],
 "metadata": {
  "kernelspec": {
   "display_name": "route-optimizer-AqO2e-Ud-py3.11",
   "language": "python",
   "name": "python3"
  },
  "language_info": {
   "codemirror_mode": {
    "name": "ipython",
    "version": 3
   },
   "file_extension": ".py",
   "mimetype": "text/x-python",
   "name": "python",
   "nbconvert_exporter": "python",
   "pygments_lexer": "ipython3",
   "version": "3.11.8"
  }
 },
 "nbformat": 4,
 "nbformat_minor": 2
}

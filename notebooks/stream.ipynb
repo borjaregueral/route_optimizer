{
 "cells": [
  {
   "cell_type": "code",
   "execution_count": 28,
   "metadata": {},
   "outputs": [],
   "source": [
    "# from pyspark.sql import SparkSession\n",
    "# from pyspark.sql.types import StructType, StructField, StringType, DoubleType, IntegerType\n",
    "\n",
    "# # Initialize Spark session\n",
    "# spark = SparkSession.builder \\\n",
    "#     .appName(\"PySparkStreamingFromJSON\") \\\n",
    "#     .getOrCreate()\n",
    "\n",
    "# # Define the schema of the orders\n",
    "# schema = StructType([\n",
    "#     StructField(\"client_id\", StringType(), True),\n",
    "#     StructField(\"location\", StructType([\n",
    "#         StructField(\"address\", StringType(), True),\n",
    "#         StructField(\"lat\", DoubleType(), True),\n",
    "#         StructField(\"lon\", DoubleType(), True)\n",
    "#     ]), True),\n",
    "#     StructField(\"order_id\", StringType(), True),\n",
    "#     StructField(\"order\", StructType([\n",
    "#         StructField(\"n_objects\", IntegerType(), True),\n",
    "#         StructField(\"volume\", DoubleType(), True),\n",
    "#         StructField(\"weight\", DoubleType(), True)\n",
    "#     ]), True),\n",
    "#     StructField(\"status\", StringType(), True),\n",
    "#     StructField(\"timestamp\", StringType(), True)\n",
    "# ])\n",
    "\n",
    "# # Read the JSON files in streaming mode\n",
    "# json_stream = spark.readStream \\\n",
    "#     .format(\"json\") \\\n",
    "#     .schema(schema) \\\n",
    "#     .option(\"maxFilesPerTrigger\", 1) \\\n",
    "#     .load(\"/Users/borja/Documents/Somniumrema/projects/de/route_optimizer/data/\")  # The directory where JSON files are being written\n",
    "\n",
    "# # # Write the DataFrame to Parquet files\n",
    "# # query = json_stream.writeStream \\\n",
    "# #     .format(\"parquet\") \\\n",
    "# #     .option(\"path\", \"/Users/borja/Documents/Somniumrema/projects/de/route_optimizer/data/parquet\") \\\n",
    "# #     .option(\"checkpointLocation\", \"/Users/borja/Documents/Somniumrema/projects/de/route_optimizer/data/checkpoint\") \\\n",
    "# #     .outputMode(\"append\") \\\n",
    "# #     .start()\n",
    "\n",
    "# # # Await termination of the query\n",
    "# # query.awaitTermination()\n",
    "\n",
    "# query = json_stream.writeStream \\\n",
    "#     .format(\"console\") \\\n",
    "#     .outputMode(\"append\") \\\n",
    "#     .trigger(processingTime='10 seconds') \\\n",
    "#     .start()\n",
    "\n",
    "# query.awaitTermination()\n"
   ]
  },
  {
   "cell_type": "code",
   "execution_count": 49,
   "metadata": {},
   "outputs": [],
   "source": [
    "spark.stop()"
   ]
  },
  {
   "cell_type": "code",
   "execution_count": null,
   "metadata": {},
   "outputs": [],
   "source": []
  }
 ],
 "metadata": {
  "kernelspec": {
   "display_name": "route-optimizer-AqO2e-Ud-py3.11",
   "language": "python",
   "name": "python3"
  },
  "language_info": {
   "codemirror_mode": {
    "name": "ipython",
    "version": 3
   },
   "file_extension": ".py",
   "mimetype": "text/x-python",
   "name": "python",
   "nbconvert_exporter": "python",
   "pygments_lexer": "ipython3",
   "version": "3.11.8"
  }
 },
 "nbformat": 4,
 "nbformat_minor": 2
}

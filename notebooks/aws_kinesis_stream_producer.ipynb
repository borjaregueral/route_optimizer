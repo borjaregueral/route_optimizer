{
 "cells": [
  {
   "cell_type": "code",
   "execution_count": 9,
   "metadata": {},
   "outputs": [],
   "source": [
    "import os\n",
    "import random\n",
    "import uuid\n",
    "import numpy as np\n",
    "from faker import Faker\n",
    "from datetime import datetime\n",
    "import time\n",
    "import boto3\n",
    "import json\n",
    "from dotenv import load_dotenv"
   ]
  },
  {
   "cell_type": "code",
   "execution_count": 10,
   "metadata": {},
   "outputs": [],
   "source": [
    "# Load environment variables from .env file\n",
    "load_dotenv()\n",
    "\n",
    "# Initialize AWS credentials from the .env file\n",
    "AWS_ACCESS_KEY_ID = os.getenv('AWS_ACCESS_KEY_ID_AWS')\n",
    "AWS_SECRET_ACCESS_KEY = os.getenv('AWS_SECRET_ACCESS_KEY_AWS')\n",
    "AWS_SESSION_TOKEN = os.getenv('AWS_SESSION_TOKEN')\n",
    "AWS_REGION = os.getenv('AWS_REGION_AWS')"
   ]
  },
  {
   "cell_type": "code",
   "execution_count": 11,
   "metadata": {},
   "outputs": [],
   "source": [
    "# Setup boto3 client with real credentials\n",
    "kinesis_client = boto3.client('kinesis', \n",
    "                              aws_access_key_id=AWS_ACCESS_KEY_ID,\n",
    "                              aws_secret_access_key=AWS_SECRET_ACCESS_KEY,\n",
    "                              region_name=AWS_REGION)"
   ]
  },
  {
   "cell_type": "code",
   "execution_count": 12,
   "metadata": {},
   "outputs": [],
   "source": [
    "def send_to_kinesis(order, stream_name):\n",
    "    kinesis_client.put_record(\n",
    "        StreamName=stream_name,\n",
    "        Data=json.dumps(order),\n",
    "        PartitionKey=order[\"order_id\"]\n",
    "    )"
   ]
  },
  {
   "cell_type": "code",
   "execution_count": 13,
   "metadata": {},
   "outputs": [],
   "source": [
    "# Initialize Faker\n",
    "fake = Faker('es-ES')\n",
    "\n",
    "# Constants for random address generation in Madrid\n",
    "LAT_MIN, LAT_MAX = 40.3121, 40.6521\n",
    "LON_MIN, LON_MAX = -3.8666, -3.5673\n",
    "max_vol_per_order = 500.0\n",
    "max_weight_per_order = 100.0\n",
    "status = \"RECEIVED\"\n",
    "\n",
    "stream_name = 'OrderStreamForDispatching'  # Update with your Kinesis stream name"
   ]
  },
  {
   "cell_type": "code",
   "execution_count": 14,
   "metadata": {},
   "outputs": [],
   "source": [
    "# Function to generate a random address in Madrid\n",
    "def generate_random_address():\n",
    "    street_name = fake.street_name()\n",
    "    street_number = fake.building_number()\n",
    "    lat = random.uniform(LAT_MIN, LAT_MAX)\n",
    "    lon = random.uniform(LON_MIN, LON_MAX)\n",
    "    address = f\"{street_name}, {street_number}, Madrid, Spain\"\n",
    "    return {\n",
    "        \"address\": address,\n",
    "        \"lat\": lat,\n",
    "        \"lon\": lon\n",
    "    }\n",
    "\n",
    "# Function to generate a random order\n",
    "def generate_random_order(client_id):\n",
    "    order_id = str(uuid.uuid4())\n",
    "    volume = np.random.uniform(1, max_vol_per_order)\n",
    "    weight = np.random.uniform(1, max_weight_per_order)\n",
    "    n_objects = np.random.randint(1, 10)\n",
    "    \n",
    "    # Ensure the timestamp is generated in the correct format (Y-M-D H:M:S)\n",
    "    order_timestamp = datetime.now().strftime(\"%Y-%m-%d %H:%M:%S\")\n",
    "    \n",
    "    # Ensure the total price is a random float and never 0\n",
    "    total_price = np.random.uniform(10.0, 1000.0)\n",
    "    \n",
    "    order = {\n",
    "        \"order_id\": order_id,\n",
    "        \"customer_id\": f\"cus-{uuid.uuid4()}\",  # Simulating customer_id format\n",
    "        \"total_weight\": weight,\n",
    "        \"total_volume\": volume,\n",
    "        \"total_price\": total_price,\n",
    "        \"order_timestamp\": order_timestamp,  # Formatted timestamp\n",
    "        \"status\": status,\n",
    "        \"lat\": random.uniform(LAT_MIN, LAT_MAX),\n",
    "        \"lon\": random.uniform(LON_MIN, LON_MAX)\n",
    "    }\n",
    "    print(\"Generated order:\", order)  # Print the generated order for debugging\n",
    "    return order"
   ]
  },
  {
   "cell_type": "code",
   "execution_count": 15,
   "metadata": {},
   "outputs": [],
   "source": [
    "# Function to send the generated order to Kinesis\n",
    "def send_order_to_kinesis(stream_name, order):\n",
    "    order_data = json.dumps(order)\n",
    "    \n",
    "    response = kinesis_client.put_record(\n",
    "        StreamName=stream_name,\n",
    "        Data=order_data.encode('utf-8'),\n",
    "        PartitionKey=str(order['customer_id'])  # Partition based on customer_id\n",
    "    )\n",
    "    print(f\"Order {order['order_id']} sent to Kinesis. Response: {response}\")\n",
    "\n",
    "# Function to generate orders at random intervals and send them to Kinesis\n",
    "def order_stream_generator(stream_name):\n",
    "    while True:\n",
    "        client_id = random.randint(100000000000, 999999999999)\n",
    "        order = generate_random_order(client_id)\n",
    "        send_order_to_kinesis(stream_name, order)\n",
    "        \n",
    "        # Sleep for a random amount of time between 10 and 50 seconds (can be adjusted)\n",
    "        sleep_time = random.randint(10, 30)  # Random sleep time in seconds\n",
    "        print(f\"Sleeping for {sleep_time / 60} minutes\")\n",
    "        time.sleep(sleep_time)\n"
   ]
  },
  {
   "cell_type": "code",
   "execution_count": 16,
   "metadata": {},
   "outputs": [
    {
     "name": "stdout",
     "output_type": "stream",
     "text": [
      "Generated order: {'order_id': 'c7cf890d-de87-4a5a-9240-3b36ef0585fa', 'customer_id': 'cus-bb1812de-2ce5-4845-8a4f-a9e89cffca15', 'total_weight': 71.35465825237074, 'total_volume': 439.7739130906643, 'total_price': 286.63515411509513, 'order_timestamp': '2024-10-08 18:24:45', 'status': 'RECEIVED', 'lat': 40.343698265769135, 'lon': -3.6269222039103233}\n",
      "Order c7cf890d-de87-4a5a-9240-3b36ef0585fa sent to Kinesis. Response: {'ShardId': 'shardId-000000000000', 'SequenceNumber': '49656572502580504910622657994153777067251454247109132290', 'ResponseMetadata': {'RequestId': 'f0c81ed4-9f12-aad3-afb7-41d935c3b6cf', 'HTTPStatusCode': 200, 'HTTPHeaders': {'x-amzn-requestid': 'f0c81ed4-9f12-aad3-afb7-41d935c3b6cf', 'x-amz-id-2': '8iwZRZEJtMUe3pLHtGwEnOv5uduZwiBZ1c6rLhEr8ewPfqWC4oH72/fobDZvm4CT7+A5MHeN0a5OnVGVTjRMxEJ4wskswrE7', 'date': 'Tue, 08 Oct 2024 16:24:45 GMT', 'content-type': 'application/x-amz-json-1.1', 'content-length': '110', 'connection': 'keep-alive'}, 'RetryAttempts': 0}}\n",
      "Sleeping for 0.16666666666666666 minutes\n",
      "Generated order: {'order_id': '2edb86a5-f3a4-4adb-a397-b7a8b4b5b158', 'customer_id': 'cus-6759eee4-cebb-4ac9-ad45-873056f25123', 'total_weight': 32.544259119313544, 'total_volume': 40.42397004292903, 'total_price': 570.6667358110437, 'order_timestamp': '2024-10-08 18:24:55', 'status': 'RECEIVED', 'lat': 40.589241616595174, 'lon': -3.831324392652409}\n",
      "Order 2edb86a5-f3a4-4adb-a397-b7a8b4b5b158 sent to Kinesis. Response: {'ShardId': 'shardId-000000000000', 'SequenceNumber': '49656572502580504910622657994154985993071069632198082562', 'ResponseMetadata': {'RequestId': 'c0d7c832-375d-5da5-9fa8-972a4fcf5ab0', 'HTTPStatusCode': 200, 'HTTPHeaders': {'x-amzn-requestid': 'c0d7c832-375d-5da5-9fa8-972a4fcf5ab0', 'x-amz-id-2': 'K0hGWMq9BZqH32IkUsP6luvDOLVl5vJNLx2t96BR2QvyBFhD+oxnIyKAuP1yqun1zC/eHIP/+KkN/48L0cUhNwrwVK/c7Swv', 'date': 'Tue, 08 Oct 2024 16:24:56 GMT', 'content-type': 'application/x-amz-json-1.1', 'content-length': '110', 'connection': 'keep-alive'}, 'RetryAttempts': 0}}\n",
      "Sleeping for 0.25 minutes\n",
      "Generated order: {'order_id': 'c752e71e-f5fa-4c62-bd10-61015c42baea', 'customer_id': 'cus-69e6914c-23eb-496d-96ad-826b1474b78f', 'total_weight': 57.711295128107274, 'total_volume': 322.05732366089603, 'total_price': 308.1293055754464, 'order_timestamp': '2024-10-08 18:25:11', 'status': 'RECEIVED', 'lat': 40.50045892112968, 'lon': -3.7066501406246912}\n",
      "Order c752e71e-f5fa-4c62-bd10-61015c42baea sent to Kinesis. Response: {'ShardId': 'shardId-000000000000', 'SequenceNumber': '49656572502580504910622657994156194918890685292164939778', 'ResponseMetadata': {'RequestId': 'd623cd2d-cbe8-28de-895c-920a01cd5802', 'HTTPStatusCode': 200, 'HTTPHeaders': {'x-amzn-requestid': 'd623cd2d-cbe8-28de-895c-920a01cd5802', 'x-amz-id-2': 'cAKKrsE6y5iAiSxyvv/y9hCfG1dThP28Ho18/5bWRTAEAE7Chp3rEiJ5FUYM0/SWnM1Ejy81pTze8W4QDUWHaH+geIDSLXSr', 'date': 'Tue, 08 Oct 2024 16:25:11 GMT', 'content-type': 'application/x-amz-json-1.1', 'content-length': '110', 'connection': 'keep-alive'}, 'RetryAttempts': 0}}\n",
      "Sleeping for 0.45 minutes\n",
      "Generated order: {'order_id': '90a0d27e-1778-412d-9a16-4eeeb1c6d804', 'customer_id': 'cus-b0377634-9ebc-4e68-86c1-3fd690e2a3ed', 'total_weight': 4.091125522277478, 'total_volume': 241.74444903704645, 'total_price': 680.4292426167372, 'order_timestamp': '2024-10-08 18:25:38', 'status': 'RECEIVED', 'lat': 40.60254450376558, 'lon': -3.7293976816835426}\n",
      "Order 90a0d27e-1778-412d-9a16-4eeeb1c6d804 sent to Kinesis. Response: {'ShardId': 'shardId-000000000000', 'SequenceNumber': '49656572502580504910622657994157403844710301845484994562', 'ResponseMetadata': {'RequestId': 'f9ffcb60-8e5e-17cb-a680-9423c759a869', 'HTTPStatusCode': 200, 'HTTPHeaders': {'x-amzn-requestid': 'f9ffcb60-8e5e-17cb-a680-9423c759a869', 'x-amz-id-2': 'cCXacAPL2YZs43JnkWuiw/zVj+NSPve27/+8+vkwjPZwRitygtrKfM4nu8f7vu9r0y5T1Y3HAwOI/rMJPTgTL6aeb5tx3k1C', 'date': 'Tue, 08 Oct 2024 16:25:39 GMT', 'content-type': 'application/x-amz-json-1.1', 'content-length': '110', 'connection': 'keep-alive'}, 'RetryAttempts': 0}}\n",
      "Sleeping for 0.36666666666666664 minutes\n",
      "Generated order: {'order_id': '599fcfd3-3a51-4b3a-9bb3-75ddf3929717', 'customer_id': 'cus-d6db8e61-16f1-4a80-9f4c-4afb631da64d', 'total_weight': 48.02118342984612, 'total_volume': 360.0760602712646, 'total_price': 403.5803708156652, 'order_timestamp': '2024-10-08 18:26:01', 'status': 'RECEIVED', 'lat': 40.317089348708514, 'lon': -3.7727648958368714}\n",
      "Order 599fcfd3-3a51-4b3a-9bb3-75ddf3929717 sent to Kinesis. Response: {'ShardId': 'shardId-000000000000', 'SequenceNumber': '49656572502580504910622657994158612770529917917768712194', 'ResponseMetadata': {'RequestId': 'ec28e370-ac48-9511-b357-bc29acb2c434', 'HTTPStatusCode': 200, 'HTTPHeaders': {'x-amzn-requestid': 'ec28e370-ac48-9511-b357-bc29acb2c434', 'x-amz-id-2': 'kkJZuLRhOpkrCnCbt50piOKRSQqdmjLkMMlFMAXx6t8orupABOelxhLxa45T+IVs1RMOFYGCgTvRwxaGd3UiYzym5pDjeeAXRXlZYPlJnRk=', 'date': 'Tue, 08 Oct 2024 16:26:01 GMT', 'content-type': 'application/x-amz-json-1.1', 'content-length': '110', 'connection': 'keep-alive'}, 'RetryAttempts': 0}}\n",
      "Sleeping for 0.35 minutes\n",
      "Generated order: {'order_id': 'c279f327-a3bf-4db9-a389-e22af95fdf8e', 'customer_id': 'cus-aa6d2d79-58d7-4628-9915-1bd92a199b93', 'total_weight': 65.04230708926177, 'total_volume': 353.26480192995274, 'total_price': 84.32218684658142, 'order_timestamp': '2024-10-08 18:26:22', 'status': 'RECEIVED', 'lat': 40.536565535763, 'lon': -3.6662376657840183}\n",
      "Order c279f327-a3bf-4db9-a389-e22af95fdf8e sent to Kinesis. Response: {'ShardId': 'shardId-000000000000', 'SequenceNumber': '49656572502580504910622657994159821696349534058771906562', 'ResponseMetadata': {'RequestId': 'e3305064-67ac-3477-bc4f-0f0a959b0e20', 'HTTPStatusCode': 200, 'HTTPHeaders': {'x-amzn-requestid': 'e3305064-67ac-3477-bc4f-0f0a959b0e20', 'x-amz-id-2': '3Z9UF1svO+EuaZoSiswRpSaqe7nHUGyaA3pR+1NpawMYSUq2H3wb8OVPHwDmpZGmLI1NbvAN9ywZ5m3hgZziqCCF0AEjdmcUm+fch/bLZp8=', 'date': 'Tue, 08 Oct 2024 16:26:22 GMT', 'content-type': 'application/x-amz-json-1.1', 'content-length': '110', 'connection': 'keep-alive'}, 'RetryAttempts': 0}}\n",
      "Sleeping for 0.26666666666666666 minutes\n",
      "Generated order: {'order_id': '0816c26d-9881-4ce5-b963-3b14107ec9eb', 'customer_id': 'cus-f1a5a7fa-d92d-4460-b4f5-39a496af6b23', 'total_weight': 79.79352460930048, 'total_volume': 411.7194773432715, 'total_price': 66.95529213559611, 'order_timestamp': '2024-10-08 18:26:39', 'status': 'RECEIVED', 'lat': 40.3822576219318, 'lon': -3.8509088693660325}\n",
      "Order 0816c26d-9881-4ce5-b963-3b14107ec9eb sent to Kinesis. Response: {'ShardId': 'shardId-000000000000', 'SequenceNumber': '49656572502580504910622657994161030622169149856177717250', 'ResponseMetadata': {'RequestId': 'e26d3234-6dd2-72a2-bd12-6d4bfa295940', 'HTTPStatusCode': 200, 'HTTPHeaders': {'x-amzn-requestid': 'e26d3234-6dd2-72a2-bd12-6d4bfa295940', 'x-amz-id-2': 'D+460IyOSH78xXitdpTTrQ6oaAKxiEPV8ZdkdY0Qer71vmJwQf2id8pcfz4nmodIdJAFCj6mJGhASwvxv7HRAPZP7IpwB1kLnb+L3aLNx8M=', 'date': 'Tue, 08 Oct 2024 16:26:39 GMT', 'content-type': 'application/x-amz-json-1.1', 'content-length': '110', 'connection': 'keep-alive'}, 'RetryAttempts': 0}}\n",
      "Sleeping for 0.48333333333333334 minutes\n",
      "Generated order: {'order_id': '5332adf9-b944-4f70-8c6f-68fa8b16d529', 'customer_id': 'cus-b3c3679f-1194-4d40-9951-f000c35dcf70', 'total_weight': 91.22270182168342, 'total_volume': 8.805703444652126, 'total_price': 427.8709994256461, 'order_timestamp': '2024-10-08 18:27:08', 'status': 'RECEIVED', 'lat': 40.40379895923363, 'lon': -3.7616035916476362}\n",
      "Order 5332adf9-b944-4f70-8c6f-68fa8b16d529 sent to Kinesis. Response: {'ShardId': 'shardId-000000000000', 'SequenceNumber': '49656572502580504910622657994162239547988766478217248770', 'ResponseMetadata': {'RequestId': 'ffa3f496-5e14-75e9-a0dc-ab0a6ff20ef0', 'HTTPStatusCode': 200, 'HTTPHeaders': {'x-amzn-requestid': 'ffa3f496-5e14-75e9-a0dc-ab0a6ff20ef0', 'x-amz-id-2': 'DFinQO6wTGN2VCLOWvsSaU5OQa3Fk23Ruar9sFa3h4I5vj5axWI5k1h2ELFTBR4MbHVu3MgDbQVkL7VEruCKc0ecyuSW5Fq74qaMjOEKo00=', 'date': 'Tue, 08 Oct 2024 16:27:08 GMT', 'content-type': 'application/x-amz-json-1.1', 'content-length': '110', 'connection': 'keep-alive'}, 'RetryAttempts': 0}}\n",
      "Sleeping for 0.26666666666666666 minutes\n",
      "Generated order: {'order_id': '9e452cdd-9a23-4a67-9c1d-a0818702bfde', 'customer_id': 'cus-f581ef1c-3614-4229-81fd-29cb88980f69', 'total_weight': 81.02997402813946, 'total_volume': 421.1838725913498, 'total_price': 952.6583196067754, 'order_timestamp': '2024-10-08 18:27:24', 'status': 'RECEIVED', 'lat': 40.549410546186955, 'lon': -3.650927195068152}\n",
      "Order 9e452cdd-9a23-4a67-9c1d-a0818702bfde sent to Kinesis. Response: {'ShardId': 'shardId-000000000000', 'SequenceNumber': '49656572502580504910622657994163448473808382275623059458', 'ResponseMetadata': {'RequestId': 'cf476d1c-00e3-7c4a-9038-32b1d5b7b3b1', 'HTTPStatusCode': 200, 'HTTPHeaders': {'x-amzn-requestid': 'cf476d1c-00e3-7c4a-9038-32b1d5b7b3b1', 'x-amz-id-2': 'yPnp7szvp+hIgshTZYeij6XmYnqvbjpphRspVREYgzC981D24XWCwcDWWx1MMSDtXQ+FsOWSe6Qo4swl3yltH7xJTbHA5XV0', 'date': 'Tue, 08 Oct 2024 16:27:25 GMT', 'content-type': 'application/x-amz-json-1.1', 'content-length': '110', 'connection': 'keep-alive'}, 'RetryAttempts': 0}}\n",
      "Sleeping for 0.25 minutes\n",
      "Generated order: {'order_id': '229604e8-b971-4fff-8b6b-9eafc878db55', 'customer_id': 'cus-6e984ef0-3757-4ac5-b74b-c7078cd62055', 'total_weight': 22.517164999185635, 'total_volume': 217.13879640067967, 'total_price': 127.08308443020452, 'order_timestamp': '2024-10-08 18:27:40', 'status': 'RECEIVED', 'lat': 40.3753515476312, 'lon': -3.7254055359428304}\n",
      "Order 229604e8-b971-4fff-8b6b-9eafc878db55 sent to Kinesis. Response: {'ShardId': 'shardId-000000000000', 'SequenceNumber': '49656572502580504910622657994164657399627998004309393410', 'ResponseMetadata': {'RequestId': 'e23d42db-02e7-d189-bd42-1d6722cac446', 'HTTPStatusCode': 200, 'HTTPHeaders': {'x-amzn-requestid': 'e23d42db-02e7-d189-bd42-1d6722cac446', 'x-amz-id-2': 'wQsliTqe8pSB6LrnTLOhZ/axDdAkViHyx6USgh3fTIFu4PYxHWACNnU2zX4G2ytvT0DbvZwkSth1WJgMi33l3qJymFezwobH', 'date': 'Tue, 08 Oct 2024 16:27:40 GMT', 'content-type': 'application/x-amz-json-1.1', 'content-length': '110', 'connection': 'keep-alive'}, 'RetryAttempts': 0}}\n",
      "Sleeping for 0.31666666666666665 minutes\n",
      "Generated order: {'order_id': 'a680e63b-cba4-4717-b964-494eaa4bbddb', 'customer_id': 'cus-687e5816-316f-4f64-9a02-e02afa101bc5', 'total_weight': 99.82125573654712, 'total_volume': 404.84744135928423, 'total_price': 783.5581024157516, 'order_timestamp': '2024-10-08 18:27:59', 'status': 'RECEIVED', 'lat': 40.49816104895718, 'lon': -3.699081814618444}\n",
      "Order a680e63b-cba4-4717-b964-494eaa4bbddb sent to Kinesis. Response: {'ShardId': 'shardId-000000000000', 'SequenceNumber': '49656572502580504910622657994165866325447613939154157570', 'ResponseMetadata': {'RequestId': 'debad73a-5f63-71de-81c5-88eae66dad7e', 'HTTPStatusCode': 200, 'HTTPHeaders': {'x-amzn-requestid': 'debad73a-5f63-71de-81c5-88eae66dad7e', 'x-amz-id-2': 'R1wdNvVbf4FYLaQUTIxPs+DiTrtulLO5Tzefa/ABd2nW+0k+TX3dF0K3xr4SmrECZDnOroKOFlfw3ia9GdpJUPSl/wMjHma8', 'date': 'Tue, 08 Oct 2024 16:28:00 GMT', 'content-type': 'application/x-amz-json-1.1', 'content-length': '110', 'connection': 'keep-alive'}, 'RetryAttempts': 0}}\n",
      "Sleeping for 0.43333333333333335 minutes\n",
      "Generated order: {'order_id': '30451908-93d2-4510-af54-b0c3d39b1156', 'customer_id': 'cus-229f0ae3-d9e5-47a3-9156-b83b961e44ec', 'total_weight': 5.249678173571052, 'total_volume': 482.6761839411362, 'total_price': 739.8246725722653, 'order_timestamp': '2024-10-08 18:28:26', 'status': 'RECEIVED', 'lat': 40.58741574308122, 'lon': -3.764382440923141}\n",
      "Order 30451908-93d2-4510-af54-b0c3d39b1156 sent to Kinesis. Response: {'ShardId': 'shardId-000000000000', 'SequenceNumber': '49656572502580504910622657994167075251267230355035258882', 'ResponseMetadata': {'RequestId': 'e566491b-fa85-69cf-ba19-16f17ffcb965', 'HTTPStatusCode': 200, 'HTTPHeaders': {'x-amzn-requestid': 'e566491b-fa85-69cf-ba19-16f17ffcb965', 'x-amz-id-2': '3F760sNW+Vf4s7MkYRQlSXNwndZDwZ7cuuTZmZl58cUoPhMfV8HKsi/v/8AzmgRTx771fdBgBt9M/zfFsOHH6wob+dWAJ0Ym', 'date': 'Tue, 08 Oct 2024 16:28:26 GMT', 'content-type': 'application/x-amz-json-1.1', 'content-length': '110', 'connection': 'keep-alive'}, 'RetryAttempts': 0}}\n",
      "Sleeping for 0.31666666666666665 minutes\n",
      "Generated order: {'order_id': '91e2ffdb-a429-4ac3-a74d-0dacb585527b', 'customer_id': 'cus-31fc3d22-c8ea-487e-b0d2-31842a0db282', 'total_weight': 5.244489347735022, 'total_volume': 376.5269004199191, 'total_price': 798.4010034292836, 'order_timestamp': '2024-10-08 18:28:45', 'status': 'RECEIVED', 'lat': 40.63551775893873, 'lon': -3.8376408730283895}\n",
      "Order 91e2ffdb-a429-4ac3-a74d-0dacb585527b sent to Kinesis. Response: {'ShardId': 'shardId-000000000000', 'SequenceNumber': '49656572502580504910622657994168284177086846289880023042', 'ResponseMetadata': {'RequestId': 'e9f422da-0cc6-5b1b-b68b-7d24210b50c9', 'HTTPStatusCode': 200, 'HTTPHeaders': {'x-amzn-requestid': 'e9f422da-0cc6-5b1b-b68b-7d24210b50c9', 'x-amz-id-2': 'cN7kLtIdYvHQDW8Fpr85YkzOIWf7s+B0t3d3Swt+aHMgdUd+8OYr0C2goliFDgC0JOVJrLVlfTbhS0RNVZBcE0EMRIePHxpw', 'date': 'Tue, 08 Oct 2024 16:28:46 GMT', 'content-type': 'application/x-amz-json-1.1', 'content-length': '110', 'connection': 'keep-alive'}, 'RetryAttempts': 0}}\n",
      "Sleeping for 0.4 minutes\n",
      "Generated order: {'order_id': '653c7922-7d04-41dc-8624-ff8871f15cb7', 'customer_id': 'cus-f1d2b9af-4fcc-4f22-964a-ce59668f9196', 'total_weight': 23.823097884619777, 'total_volume': 83.83511496246238, 'total_price': 220.56753498988758, 'order_timestamp': '2024-10-08 18:29:10', 'status': 'RECEIVED', 'lat': 40.438316501047545, 'lon': -3.7159647533050535}\n",
      "Order 653c7922-7d04-41dc-8624-ff8871f15cb7 sent to Kinesis. Response: {'ShardId': 'shardId-000000000000', 'SequenceNumber': '49656572502580504910622657994169493102906462637041647618', 'ResponseMetadata': {'RequestId': 'ed8ec24b-5eee-c0c7-b2f1-a25df3efc4e7', 'HTTPStatusCode': 200, 'HTTPHeaders': {'x-amzn-requestid': 'ed8ec24b-5eee-c0c7-b2f1-a25df3efc4e7', 'x-amz-id-2': 'aUB5A87cRhgeq7fiG/nlhaqgLAr8SmwXo0hDAlefnQqBoewAjY89ezOZxKETVibkEeX1K/lNSIAglCcKTMe6UGCk2LgZgBcj', 'date': 'Tue, 08 Oct 2024 16:29:10 GMT', 'content-type': 'application/x-amz-json-1.1', 'content-length': '110', 'connection': 'keep-alive'}, 'RetryAttempts': 0}}\n",
      "Sleeping for 0.38333333333333336 minutes\n",
      "Generated order: {'order_id': '907e8a2d-f5a1-40c3-b923-5d379a6df8ba', 'customer_id': 'cus-ff3c931d-e197-4c09-981a-e38d5a469b04', 'total_weight': 84.01777511475014, 'total_volume': 253.87452910027233, 'total_price': 298.96014384805426, 'order_timestamp': '2024-10-08 18:29:33', 'status': 'RECEIVED', 'lat': 40.60478709450832, 'lon': -3.6620346640828756}\n",
      "Order 907e8a2d-f5a1-40c3-b923-5d379a6df8ba sent to Kinesis. Response: {'ShardId': 'shardId-000000000000', 'SequenceNumber': '49656572502580504910622657994170702028726078915483795458', 'ResponseMetadata': {'RequestId': 'c943752f-ff7f-ed80-963c-1502658c42d8', 'HTTPStatusCode': 200, 'HTTPHeaders': {'x-amzn-requestid': 'c943752f-ff7f-ed80-963c-1502658c42d8', 'x-amz-id-2': 'O/9cAw2HeWX2pG1XwImn5CmIeikZSKcecC4wVLE1cxRLj/tRzwH3PRDA+nfZZ3UEqBQKHTf3ryUS7AdoQiRjQPaUw/Aml0vq', 'date': 'Tue, 08 Oct 2024 16:29:33 GMT', 'content-type': 'application/x-amz-json-1.1', 'content-length': '110', 'connection': 'keep-alive'}, 'RetryAttempts': 0}}\n",
      "Sleeping for 0.21666666666666667 minutes\n",
      "Generated order: {'order_id': '1bd3b0cf-7f57-499f-8bbf-f70480cc0ab8', 'customer_id': 'cus-00578e27-8670-4073-8457-da1986f6f3f8', 'total_weight': 34.8118073046724, 'total_volume': 128.84615982814896, 'total_price': 555.4959522243531, 'order_timestamp': '2024-10-08 18:29:46', 'status': 'RECEIVED', 'lat': 40.378466557462865, 'lon': -3.6888387662065973}\n",
      "Order 1bd3b0cf-7f57-499f-8bbf-f70480cc0ab8 sent to Kinesis. Response: {'ShardId': 'shardId-000000000000', 'SequenceNumber': '49656572502580504910622657994171910954545694438011699202', 'ResponseMetadata': {'RequestId': 'dc48b3b3-ab62-25a9-8337-d388af01a71a', 'HTTPStatusCode': 200, 'HTTPHeaders': {'x-amzn-requestid': 'dc48b3b3-ab62-25a9-8337-d388af01a71a', 'x-amz-id-2': 'KKQO9OLzqy1T7r2ksoYDRxUkhSXPVn64hAccX5gmoJvO6qB5buUn+joTqhjQI9524JNn8H/jbnf4PujIjYvWrmDKNKa5s67Y', 'date': 'Tue, 08 Oct 2024 16:29:47 GMT', 'content-type': 'application/x-amz-json-1.1', 'content-length': '110', 'connection': 'keep-alive'}, 'RetryAttempts': 0}}\n",
      "Sleeping for 0.26666666666666666 minutes\n",
      "Generated order: {'order_id': 'c22919f5-c20a-47ef-b3f8-8aad8eb557d7', 'customer_id': 'cus-01d1b2a9-be78-4385-b80e-678ead4daeb7', 'total_weight': 73.83630789891782, 'total_volume': 464.43790661873356, 'total_price': 267.85066244305716, 'order_timestamp': '2024-10-08 18:30:03', 'status': 'RECEIVED', 'lat': 40.39626768070221, 'lon': -3.8261788152042473}\n",
      "Order c22919f5-c20a-47ef-b3f8-8aad8eb557d7 sent to Kinesis. Response: {'ShardId': 'shardId-000000000000', 'SequenceNumber': '49656572502580504910622657994173119880365310166698033154', 'ResponseMetadata': {'RequestId': 'f336a0c7-ae1f-86c2-ac49-c08cab451630', 'HTTPStatusCode': 200, 'HTTPHeaders': {'x-amzn-requestid': 'f336a0c7-ae1f-86c2-ac49-c08cab451630', 'x-amz-id-2': 'JotNASGORePNoTdeJ9jlEH2UZypv3lRoygEndP3NmgTa6KN4zD1aYfNSUeKd+Xw/8BSmqRngWyfVBKpSszKL+zgzEsPPEeat', 'date': 'Tue, 08 Oct 2024 16:30:03 GMT', 'content-type': 'application/x-amz-json-1.1', 'content-length': '110', 'connection': 'keep-alive'}, 'RetryAttempts': 0}}\n",
      "Sleeping for 0.2 minutes\n",
      "Generated order: {'order_id': 'ef64794a-6d71-4ff9-8090-71f14fd89a1b', 'customer_id': 'cus-105656b5-0c28-4f88-8f45-39a59d91582d', 'total_weight': 24.226236118989945, 'total_volume': 362.440554099968, 'total_price': 28.381755860976185, 'order_timestamp': '2024-10-08 18:30:15', 'status': 'RECEIVED', 'lat': 40.36934395517227, 'lon': -3.839898664103117}\n",
      "Order ef64794a-6d71-4ff9-8090-71f14fd89a1b sent to Kinesis. Response: {'ShardId': 'shardId-000000000000', 'SequenceNumber': '49656572502580504910622657994174328806184925620506460162', 'ResponseMetadata': {'RequestId': 'c31f7983-666f-2f9d-9c60-19db6335bf6f', 'HTTPStatusCode': 200, 'HTTPHeaders': {'x-amzn-requestid': 'c31f7983-666f-2f9d-9c60-19db6335bf6f', 'x-amz-id-2': 'v/2dL1E99dZM4pRkRvpBNISQ3k0nZzNaUZFphhd3GAxzxu5FbIEThvMXQ490BMKrnz7YHrFU/d+31rHeY098BnlYKQZcK6pS', 'date': 'Tue, 08 Oct 2024 16:30:16 GMT', 'content-type': 'application/x-amz-json-1.1', 'content-length': '110', 'connection': 'keep-alive'}, 'RetryAttempts': 0}}\n",
      "Sleeping for 0.36666666666666664 minutes\n"
     ]
    },
    {
     "ename": "KeyboardInterrupt",
     "evalue": "",
     "output_type": "error",
     "traceback": [
      "\u001b[0;31m---------------------------------------------------------------------------\u001b[0m",
      "\u001b[0;31mKeyboardInterrupt\u001b[0m                         Traceback (most recent call last)",
      "Cell \u001b[0;32mIn[16], line 2\u001b[0m\n\u001b[1;32m      1\u001b[0m \u001b[38;5;66;03m# Start the order stream generator\u001b[39;00m\n\u001b[0;32m----> 2\u001b[0m \u001b[43morder_stream_generator\u001b[49m\u001b[43m(\u001b[49m\u001b[43mstream_name\u001b[49m\u001b[43m)\u001b[49m\n",
      "Cell \u001b[0;32mIn[15], line 22\u001b[0m, in \u001b[0;36morder_stream_generator\u001b[0;34m(stream_name)\u001b[0m\n\u001b[1;32m     20\u001b[0m sleep_time \u001b[38;5;241m=\u001b[39m random\u001b[38;5;241m.\u001b[39mrandint(\u001b[38;5;241m10\u001b[39m, \u001b[38;5;241m30\u001b[39m)  \u001b[38;5;66;03m# Random sleep time in seconds\u001b[39;00m\n\u001b[1;32m     21\u001b[0m \u001b[38;5;28mprint\u001b[39m(\u001b[38;5;124mf\u001b[39m\u001b[38;5;124m\"\u001b[39m\u001b[38;5;124mSleeping for \u001b[39m\u001b[38;5;132;01m{\u001b[39;00msleep_time\u001b[38;5;250m \u001b[39m\u001b[38;5;241m/\u001b[39m\u001b[38;5;250m \u001b[39m\u001b[38;5;241m60\u001b[39m\u001b[38;5;132;01m}\u001b[39;00m\u001b[38;5;124m minutes\u001b[39m\u001b[38;5;124m\"\u001b[39m)\n\u001b[0;32m---> 22\u001b[0m time\u001b[38;5;241m.\u001b[39msleep(sleep_time)\n",
      "\u001b[0;31mKeyboardInterrupt\u001b[0m: "
     ]
    }
   ],
   "source": [
    "# Start the order stream generator\n",
    "order_stream_generator(stream_name)"
   ]
  },
  {
   "cell_type": "code",
   "execution_count": null,
   "metadata": {},
   "outputs": [],
   "source": []
  },
  {
   "cell_type": "code",
   "execution_count": null,
   "metadata": {},
   "outputs": [],
   "source": []
  }
 ],
 "metadata": {
  "kernelspec": {
   "display_name": "route-optimizer-AqO2e-Ud-py3.11",
   "language": "python",
   "name": "python3"
  },
  "language_info": {
   "codemirror_mode": {
    "name": "ipython",
    "version": 3
   },
   "file_extension": ".py",
   "mimetype": "text/x-python",
   "name": "python",
   "nbconvert_exporter": "python",
   "pygments_lexer": "ipython3",
   "version": "3.11.8"
  }
 },
 "nbformat": 4,
 "nbformat_minor": 2
}

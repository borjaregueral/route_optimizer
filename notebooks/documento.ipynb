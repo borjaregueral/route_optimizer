{
 "cells": [
  {
   "cell_type": "code",
   "execution_count": 5,
   "metadata": {},
   "outputs": [
    {
     "data": {
      "text/plain": [
       "'/Users/borja/Documents/Somniumrema/projects/de/route_optimizer/notebooks/morralla/Funcionamiento_Sistema_Optimizacion_Pedidos.docx'"
      ]
     },
     "execution_count": 5,
     "metadata": {},
     "output_type": "execute_result"
    }
   ],
   "source": [
    "from docx import Document\n",
    "\n",
    "# Create a new Document\n",
    "doc = Document()\n",
    "\n",
    "# Add a title\n",
    "doc.add_heading('Funcionamiento del sistema de optimización y despacho de pedidos con Delta Lake y Spark Streaming', 0)\n",
    "\n",
    "# Add introduction section\n",
    "doc.add_heading('Introducción', level=1)\n",
    "doc.add_paragraph(\n",
    "    \"Este documento explica el funcionamiento de un sistema de optimización y despacho de pedidos utilizando \"\n",
    "    \"Delta Lake, Spark Streaming y servicios de AWS. El sistema tiene como objetivo procesar órdenes en tiempo real, \"\n",
    "    \"acumulando datos hasta alcanzar ciertos umbrales (peso, volumen) y enviarlos a un optimizador de rutas para \"\n",
    "    \"organizar el despacho de las órdenes.\"\n",
    ")\n",
    "\n",
    "# Add section on Streaming Data with Delta Lake\n",
    "doc.add_heading('Procesamiento de Datos en Streaming con Delta Lake', level=1)\n",
    "doc.add_paragraph(\n",
    "    \"Delta Lake es una capa de almacenamiento que permite transacciones ACID sobre datos de grandes volúmenes. \"\n",
    "    \"Al integrarlo con Spark Streaming, el sistema puede manejar flujos de datos de manera confiable, escribiendo y \"\n",
    "    \"leyendo datos continuamente a medida que se generan nuevas órdenes.\"\n",
    ")\n",
    "doc.add_paragraph(\n",
    "    \"El sistema recibe datos de pedidos en formato JSON, los cuales se almacenan inicialmente en una tabla en el nivel \"\n",
    "    \"Bronce. A través de un proceso en streaming, se realiza la agregación de los pedidos para verificar si se han \"\n",
    "    \"alcanzado los umbrales necesarios para iniciar el despacho.\"\n",
    ")\n",
    "\n",
    "# Add section on Threshold Logic and Optimization\n",
    "doc.add_heading('Lógica de Umbrales y Optimización de Despacho', level=1)\n",
    "doc.add_paragraph(\n",
    "    \"El sistema está diseñado para despachar pedidos una vez que el volumen total o el peso total acumulado alcanza \"\n",
    "    \"ciertos umbrales predefinidos. La lógica del sistema incluye la agrupación de pedidos por ventanas de tiempo \"\n",
    "    \"(por ejemplo, 10 minutos) y la verificación de estos umbrales antes de marcar los pedidos como listos para despacho.\"\n",
    ")\n",
    "doc.add_paragraph(\n",
    "    \"En caso de que el volumen o peso total supere la capacidad máxima de los camiones disponibles, el sistema debe \"\n",
    "    \"dividir los pedidos en lotes más pequeños, asegurando que cada camión reciba un volumen y peso manejable.\"\n",
    ")\n",
    "\n",
    "# Add section on Handling Leftover Orders\n",
    "doc.add_heading('Manejo de Órdenes Restantes', level=1)\n",
    "doc.add_paragraph(\n",
    "    \"Una vez que se procesa un lote de pedidos y es enviado para optimización, cualquier pedido restante que no haya sido \"\n",
    "    \"despachado se mantiene en estado 'RECEIVED'. Estos pedidos serán reanalizados en las próximas ventanas de tiempo \"\n",
    "    \"para su despacho.\"\n",
    ")\n",
    "\n",
    "# Add section on Integration with Route Optimizer\n",
    "doc.add_heading('Integración con el Optimizador de Rutas', level=1)\n",
    "doc.add_paragraph(\n",
    "    \"Cuando los pedidos están listos para ser despachados, se envían al optimizador de rutas (por ejemplo, Routific) para \"\n",
    "    \"determinar las rutas óptimas para los camiones. Este paso asegura que las entregas se realicen de manera eficiente \"\n",
    "    \"y se minimicen los costos de transporte.\"\n",
    ")\n",
    "\n",
    "# Add section on Batch vs. Streaming Logic\n",
    "doc.add_heading('Lógica Batch versus Streaming', level=1)\n",
    "doc.add_paragraph(\n",
    "    \"El sistema puede operar en modo batch o en streaming, dependiendo de los requerimientos de procesamiento de los \"\n",
    "    \"pedidos. En modo streaming, los pedidos se procesan en tiempo real a medida que se generan, mientras que en modo \"\n",
    "    \"batch, los datos se acumulan y se procesan de una sola vez, generalmente en intervalos de tiempo predefinidos.\"\n",
    ")\n",
    "\n",
    "# Add section on AWS Infrastructure\n",
    "doc.add_heading('Infraestructura de AWS', level=1)\n",
    "doc.add_paragraph(\n",
    "    \"El sistema utiliza varios servicios de AWS, como S3 para el almacenamiento de datos, Kinesis para la ingesta de \"\n",
    "    \"datos en tiempo real, y AWS EMR para ejecutar los trabajos de Spark. Estos servicios permiten que el sistema escale \"\n",
    "    \"según las necesidades de procesamiento de datos y garantizan una alta disponibilidad.\"\n",
    ")\n",
    "\n",
    "# Add conclusion\n",
    "doc.add_heading('Conclusión', level=1)\n",
    "doc.add_paragraph(\n",
    "    \"El sistema descrito en este documento combina tecnologías de procesamiento en tiempo real, almacenamiento transaccional \"\n",
    "    \"y optimización de rutas para gestionar de manera eficiente el despacho de pedidos. Utilizando Spark Streaming y Delta \"\n",
    "    \"Lake, el sistema puede manejar grandes volúmenes de datos en tiempo real y despachar pedidos de manera óptima.\"\n",
    ")\n",
    "\n",
    "# Save the document\n",
    "doc_path = \"/Users/borja/Documents/Somniumrema/projects/de/route_optimizer/notebooks/morralla/Funcionamiento_Sistema_Optimizacion_Pedidos.docx\"\n",
    "doc.save(doc_path)\n",
    "\n",
    "doc_path\n"
   ]
  },
  {
   "cell_type": "code",
   "execution_count": null,
   "metadata": {},
   "outputs": [],
   "source": []
  },
  {
   "cell_type": "code",
   "execution_count": null,
   "metadata": {},
   "outputs": [],
   "source": []
  }
 ],
 "metadata": {
  "kernelspec": {
   "display_name": "route-optimizer-AqO2e-Ud-py3.11",
   "language": "python",
   "name": "python3"
  },
  "language_info": {
   "codemirror_mode": {
    "name": "ipython",
    "version": 3
   },
   "file_extension": ".py",
   "mimetype": "text/x-python",
   "name": "python",
   "nbconvert_exporter": "python",
   "pygments_lexer": "ipython3",
   "version": "3.11.8"
  }
 },
 "nbformat": 4,
 "nbformat_minor": 2
}

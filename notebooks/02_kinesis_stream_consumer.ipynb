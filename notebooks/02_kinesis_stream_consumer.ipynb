{
 "cells": [
  {
   "cell_type": "code",
   "execution_count": 1,
   "metadata": {},
   "outputs": [],
   "source": [
    "import boto3\n",
    "import json\n",
    "import time\n",
    "from dotenv import load_dotenv\n",
    "from datetime import datetime\n",
    "import os"
   ]
  },
  {
   "cell_type": "code",
   "execution_count": 2,
   "metadata": {},
   "outputs": [],
   "source": [
    "# Load environment variables from .env file\n",
    "load_dotenv()\n",
    "\n",
    "# Initialize AWS credentials from the .env file\n",
    "AWS_ACCESS_KEY_ID = os.getenv('AWS_ACCESS_KEY_ID')\n",
    "AWS_SECRET_ACCESS_KEY = os.getenv('AWS_SECRET_ACCESS_KEY')\n",
    "AWS_SESSION_TOKEN = os.getenv('AWS_SESSION_TOKEN')\n",
    "AWS_REGION = os.getenv('AWS_REGION')"
   ]
  },
  {
   "cell_type": "code",
   "execution_count": 3,
   "metadata": {},
   "outputs": [],
   "source": [
    "# Initialize boto3 client for Kinesis with your credentials\n",
    "kinesis_client = boto3.client(\n",
    "    'kinesis',\n",
    "    aws_access_key_id=AWS_ACCESS_KEY_ID,\n",
    "    aws_secret_access_key=AWS_SECRET_ACCESS_KEY,\n",
    "    aws_session_token=AWS_SESSION_TOKEN,\n",
    "    region_name=AWS_REGION\n",
    ")"
   ]
  },
  {
   "cell_type": "code",
   "execution_count": 4,
   "metadata": {},
   "outputs": [],
   "source": [
    "\n",
    "# Function to get the shard iterator\n",
    "def get_shard_iterator(stream_name, shard_id):\n",
    "    response = kinesis_client.get_shard_iterator(\n",
    "        StreamName=stream_name,\n",
    "        ShardId=shard_id,\n",
    "        ShardIteratorType='LATEST'  # or 'LATEST' for new records\n",
    "    )\n",
    "    return response['ShardIterator']\n",
    "\n",
    "# Function to read records from the Kinesis stream\n",
    "def read_kinesis_records(stream_name, shard_iterator):\n",
    "    while True:\n",
    "        response = kinesis_client.get_records(ShardIterator=shard_iterator, Limit=100)\n",
    "        records = response['Records']\n",
    "        for record in records:\n",
    "            # No need to base64 decode, just parse the data directly\n",
    "            order_data = record['Data']\n",
    "            order = json.loads(order_data)\n",
    "            print(\"Received order:\", order)\n",
    "\n",
    "        # Update the shard iterator for the next batch of records\n",
    "        shard_iterator = response['NextShardIterator']\n",
    "\n",
    "        # Sleep to avoid hitting API rate limits\n",
    "        time.sleep(1)\n"
   ]
  },
  {
   "cell_type": "code",
   "execution_count": 5,
   "metadata": {},
   "outputs": [
    {
     "name": "stdout",
     "output_type": "stream",
     "text": [
      "Received order: {'event_id': 'de292515-a4c7-4ed0-91c4-87d890e7ccc0', 'event_type': 'ORDER_CREATED', 'event_timestamp': '2024-10-13 23:43:22', 'order_id': '4c4082fc-c3aa-41ce-a3a1-41105a1b3def', 'order_details': {'customer_id': 'cus-93ba3752-3840-443d-ba2b-0b6034458994', 'order_timestamp': '2024-10-13 23:43:22', 'order_date': '2024-10-13', 'items': [{'product_id': '973f7b7e-0e91-47a9-ac88-801f17ca9f6a', 'product_name': 'illum', 'price': 129.7480125782148, 'quantity': 2, 'packages': [{'package_id': '6422383d-5e97-4511-87cb-b842038f2117', 'subpackage_id': 73, 'quantity': 2, 'weight': 8.395773678895077, 'volume': 1.7482534213944958}, {'package_id': 'c781f4a3-3edd-4d39-9890-12ea7073e226', 'subpackage_id': 59, 'quantity': 1, 'weight': 4.678758546199668, 'volume': 3.331867937025425}, {'package_id': '0e31bf25-dd2d-4d07-a2c3-1644bc16b8a4', 'subpackage_id': 89, 'quantity': 2, 'weight': 1.1290095042006996, 'volume': 0.3375527767259017}]}, {'product_id': '9a3d63ef-38f4-4657-9d38-ff78f849c07e', 'product_name': 'blanditiis', 'price': 61.561310485651326, 'quantity': 5, 'packages': [{'package_id': '76213775-46ec-4da6-b43a-7038616b18ed', 'subpackage_id': 1, 'quantity': 4, 'weight': 6.081031183385873, 'volume': 0.8078887678177668}]}], 'total_amount': 615.6463222990898, 'total_volume': 87.42061225123176, 'total_weight': 44.85331955838573, 'status': 'RECEIVED', 'destination_address': {'address_id': '7b5223b7-d4f2-4b7e-8d22-cbb4cd61aa44', 'neighborhood': 'Lavapiés', 'coordinates': [40.56870841479985, -3.8651443071709255], 'road': 'Cuesta de Eliana Rocha', 'house_number': '38', 'suburb': 'Ville', 'city_district': 'Badajoz', 'state': 'Badajoz', 'postcode': '25385', 'country': 'Spain', 'lat': 40.56870841479985, 'lon': -3.8651443071709255}, 'payment_details': {'payment_method': 'Cash', 'payment_status': 'PENDING', 'transaction_id': '6cdbcdaa-6e2a-4ccb-9b77-992a3505f68b'}}}\n",
      "Received order: {'event_id': 'bd6b060b-ed7c-4e5d-af42-057b7013017d', 'event_type': 'ORDER_CREATED', 'event_timestamp': '2024-10-13 23:43:24', 'order_id': '37136f0f-4430-44a0-b6b5-2a87e3d34951', 'order_details': {'customer_id': 'cus-536745c8-9819-4bb0-a129-ecce45ddd384', 'order_timestamp': '2024-10-13 23:43:24', 'order_date': '2024-10-13', 'items': [{'product_id': '6a7692be-c871-4c8a-bea5-6234a891c1b9', 'product_name': 'excepturi', 'price': 157.1816437653348, 'quantity': 9, 'packages': [{'package_id': '9411ba5b-6f0b-4025-a5f6-997a3629ca4b', 'subpackage_id': 25, 'quantity': 5, 'weight': 7.839216421543837, 'volume': 4.496243054387363}, {'package_id': '7872b257-b7b1-41f8-ba78-303a198b028a', 'subpackage_id': 15, 'quantity': 6, 'weight': 8.671489276077887, 'volume': 4.688963844003198}, {'package_id': 'b4397889-cb7a-4775-b05b-519ee1cc38de', 'subpackage_id': 55, 'quantity': 6, 'weight': 2.2892131837290743, 'volume': 2.8858948434526517}]}, {'product_id': '5c3cf185-96bf-46f6-a603-01f3f91a7c92', 'product_name': 'saepe', 'price': 77.59132763274319, 'quantity': 7, 'packages': [{'package_id': '1df891e4-9972-444a-ab12-8c9f84fda3ed', 'subpackage_id': 26, 'quantity': 5, 'weight': 9.324945950067798, 'volume': 0.9010659382000038}, {'package_id': '19a044fa-a257-4a26-a303-9d7855909901', 'subpackage_id': 53, 'quantity': 1, 'weight': 4.431377417679364, 'volume': 4.427835758191504}]}, {'product_id': 'c00c9c2b-2a1b-467e-8f7a-0b66c3165cc6', 'product_name': 'quos', 'price': 81.33858119111213, 'quantity': 7, 'packages': [{'package_id': 'cf887a82-6719-4674-b787-923982732718', 'subpackage_id': 18, 'quantity': 1, 'weight': 7.439659692788529, 'volume': 0.8481751333431685}, {'package_id': 'a00da6c6-3dbb-44fe-9493-b6a7926bb275', 'subpackage_id': 29, 'quantity': 2, 'weight': 7.538652616124777, 'volume': 0.4689005566517793}, {'package_id': '6e84a4f6-ed1b-4596-aa68-876f67b308be', 'subpackage_id': 20, 'quantity': 2, 'weight': 8.12162847367086, 'volume': 4.243561844377458}]}, {'product_id': '8e9cf22d-809a-40eb-b142-27b7f9314fd1', 'product_name': 'iure', 'price': 131.9507227438337, 'quantity': 6, 'packages': [{'package_id': 'b260d4d7-3441-4d60-872d-908d46ca2beb', 'subpackage_id': 40, 'quantity': 6, 'weight': 1.8827444395240622, 'volume': 1.5982358405509969}, {'package_id': 'a26a142a-a67f-446f-82f9-663fc7d939ac', 'subpackage_id': 48, 'quantity': 3, 'weight': 2.6504735444907572, 'volume': 1.883549977891644}]}], 'total_amount': 893.4200667804686, 'total_volume': 89.71441118427603, 'total_weight': 10.973663834594337, 'status': 'RECEIVED', 'destination_address': {'address_id': '9e312aa6-ac08-4bf8-98c1-e2c49810d91c', 'neighborhood': 'Chamberí', 'coordinates': [40.39387704823641, -3.713419125658283], 'road': 'Callejón de César Santamaria', 'house_number': '3', 'suburb': 'Ville', 'city_district': 'Sevilla', 'state': 'Cáceres', 'postcode': '47559', 'country': 'Spain', 'lat': 40.39387704823641, 'lon': -3.713419125658283}, 'payment_details': {'payment_method': 'PayPal', 'payment_status': 'PAID', 'transaction_id': 'fc11c7e7-c727-4d18-ae84-414e5f26fda6'}}}\n",
      "Received order: {'event_id': 'c910a8ca-d447-4c6b-8cae-9c3dea21331c', 'event_type': 'ORDER_CREATED', 'event_timestamp': '2024-10-13 23:43:25', 'order_id': '69653f11-b8ec-43a5-8aa9-f26c0a52c1c5', 'order_details': {'customer_id': 'cus-742536c9-d611-44f2-8224-623000f0c812', 'order_timestamp': '2024-10-13 23:43:25', 'order_date': '2024-10-13', 'items': [{'product_id': 'adc086e3-56f8-4c97-a33f-e544fcf9dc1a', 'product_name': 'mollitia', 'price': 87.06610012528442, 'quantity': 1, 'packages': [{'package_id': '20749d0d-8f44-4090-b436-bc7459fabc19', 'subpackage_id': 45, 'quantity': 1, 'weight': 5.98838963535242, 'volume': 2.5739422268642587}]}, {'product_id': '2a3a8e06-3f16-49c4-8238-6e46909e31e8', 'product_name': 'quas', 'price': 18.43259947707657, 'quantity': 8, 'packages': [{'package_id': 'cce84c06-d861-4d50-9d22-662b73db509e', 'subpackage_id': 53, 'quantity': 2, 'weight': 4.080718804000142, 'volume': 3.681129044979951}]}, {'product_id': '56d00f5e-a169-4547-8a53-d3c629329a09', 'product_name': 'provident', 'price': 10.633409129001572, 'quantity': 9, 'packages': [{'package_id': '531a4d55-1712-491e-9a8a-bcc2e6f47ddf', 'subpackage_id': 55, 'quantity': 7, 'weight': 9.687952891313772, 'volume': 2.1150464102001725}, {'package_id': '7e9c670e-c4f7-4610-bc14-98d053923bd0', 'subpackage_id': 43, 'quantity': 1, 'weight': 6.04442653275727, 'volume': 3.0987256993817036}, {'package_id': '0ef3db57-da95-45e3-a6f8-b86abde4c87a', 'subpackage_id': 56, 'quantity': 3, 'weight': 5.934960334919935, 'volume': 3.568906583868601}]}, {'product_id': 'a772b725-d073-4267-a6e4-eb4bf3afaf77', 'product_name': 'minus', 'price': 29.130697063674706, 'quantity': 4, 'packages': [{'package_id': 'b4f61847-f5e6-4008-8371-3fc5d3fb2c00', 'subpackage_id': 65, 'quantity': 3, 'weight': 3.637786492262248, 'volume': 0.9817207451741232}, {'package_id': '2c4cf4ff-e29c-4d15-a640-122bf63b2188', 'subpackage_id': 18, 'quantity': 1, 'weight': 5.414764323532081, 'volume': 0.735052604436829}, {'package_id': '15567b1a-5884-4cf9-962c-2b5ff01312e0', 'subpackage_id': 74, 'quantity': 2, 'weight': 4.722057037774027, 'volume': 1.0658234091275656}]}], 'total_amount': 802.8098447748272, 'total_volume': 223.5863101839466, 'total_weight': 36.10975896986514, 'status': 'RECEIVED', 'destination_address': {'address_id': 'e4780af2-1acd-4cbd-84cd-76200b68e64b', 'neighborhood': 'Retiro', 'coordinates': [40.46572483438885, -3.6726248365548324], 'road': 'Ronda de Bruno Cueto', 'house_number': '574', 'suburb': 'Ville', 'city_district': 'Segovia', 'state': 'Valladolid', 'postcode': '38750', 'country': 'Spain', 'lat': 40.46572483438885, 'lon': -3.6726248365548324}, 'payment_details': {'payment_method': 'Cash', 'payment_status': 'PAID', 'transaction_id': '0edf58da-a239-4fe7-abdd-798369179d76'}}}\n",
      "Received order: {'event_id': '85805927-a2ab-4bfc-8c32-af51f29f468a', 'event_type': 'ORDER_CREATED', 'event_timestamp': '2024-10-13 23:43:27', 'order_id': '00ad33a9-a126-468f-b16c-bb1af2c318f1', 'order_details': {'customer_id': 'cus-2d519446-31f7-49f3-b33e-3a15e15eb8c3', 'order_timestamp': '2024-10-13 23:43:27', 'order_date': '2024-10-13', 'items': [{'product_id': 'b8a75a40-0982-465f-be20-05284a9f73a0', 'product_name': 'error', 'price': 154.25904047469766, 'quantity': 7, 'packages': [{'package_id': '58207dd1-f0ed-4d29-9b09-f97e5371a12a', 'subpackage_id': 76, 'quantity': 7, 'weight': 8.11967897071016, 'volume': 2.95964725722732}, {'package_id': '85ce5d80-bfc7-46f8-a348-5544ddb1514f', 'subpackage_id': 16, 'quantity': 7, 'weight': 2.2998335109618964, 'volume': 1.5808861118889563}]}], 'total_amount': 685.6813207158301, 'total_volume': 281.9820141270581, 'total_weight': 81.36567124638177, 'status': 'RECEIVED', 'destination_address': {'address_id': '7aae5a04-5a36-4ebb-803b-4ffb8f2af14b', 'neighborhood': 'Moncloa', 'coordinates': [40.37268406780093, -3.7918642285968533], 'road': 'Avenida de Gerardo Guzmán', 'house_number': '61', 'suburb': 'Ville', 'city_district': 'Zaragoza', 'state': 'Soria', 'postcode': '07289', 'country': 'Spain', 'lat': 40.37268406780093, 'lon': -3.7918642285968533}, 'payment_details': {'payment_method': 'PayPal', 'payment_status': 'PENDING', 'transaction_id': 'b271079d-b535-4184-b282-4864d192a122'}}}\n"
     ]
    },
    {
     "ename": "KeyboardInterrupt",
     "evalue": "",
     "output_type": "error",
     "traceback": [
      "\u001b[0;31m---------------------------------------------------------------------------\u001b[0m",
      "\u001b[0;31mKeyboardInterrupt\u001b[0m                         Traceback (most recent call last)",
      "Cell \u001b[0;32mIn[5], line 8\u001b[0m\n\u001b[1;32m      5\u001b[0m shard_iterator \u001b[38;5;241m=\u001b[39m get_shard_iterator(stream_name, shard_id)\n\u001b[1;32m      7\u001b[0m \u001b[38;5;66;03m# Start reading records\u001b[39;00m\n\u001b[0;32m----> 8\u001b[0m \u001b[43mread_kinesis_records\u001b[49m\u001b[43m(\u001b[49m\u001b[43mstream_name\u001b[49m\u001b[43m,\u001b[49m\u001b[43m \u001b[49m\u001b[43mshard_iterator\u001b[49m\u001b[43m)\u001b[49m\n",
      "Cell \u001b[0;32mIn[4], line 25\u001b[0m, in \u001b[0;36mread_kinesis_records\u001b[0;34m(stream_name, shard_iterator)\u001b[0m\n\u001b[1;32m     22\u001b[0m shard_iterator \u001b[38;5;241m=\u001b[39m response[\u001b[38;5;124m'\u001b[39m\u001b[38;5;124mNextShardIterator\u001b[39m\u001b[38;5;124m'\u001b[39m]\n\u001b[1;32m     24\u001b[0m \u001b[38;5;66;03m# Sleep to avoid hitting API rate limits\u001b[39;00m\n\u001b[0;32m---> 25\u001b[0m time\u001b[38;5;241m.\u001b[39msleep(\u001b[38;5;241m1\u001b[39m)\n",
      "\u001b[0;31mKeyboardInterrupt\u001b[0m: "
     ]
    }
   ],
   "source": [
    "# Get the shard iterator\n",
    "stream_name = 'OrderStreamForDispatching'  # Replace with your stream name\n",
    "shard_id = 'shardId-000000000000'  # Get the shard ID from the stream's details\n",
    "\n",
    "shard_iterator = get_shard_iterator(stream_name, shard_id)\n",
    "\n",
    "# Start reading records\n",
    "read_kinesis_records(stream_name, shard_iterator)"
   ]
  }
 ],
 "metadata": {
  "kernelspec": {
   "display_name": "route-optimizer-AqO2e-Ud-py3.11",
   "language": "python",
   "name": "python3"
  },
  "language_info": {
   "codemirror_mode": {
    "name": "ipython",
    "version": 3
   },
   "file_extension": ".py",
   "mimetype": "text/x-python",
   "name": "python",
   "nbconvert_exporter": "python",
   "pygments_lexer": "ipython3",
   "version": "3.11.8"
  }
 },
 "nbformat": 4,
 "nbformat_minor": 2
}

{
 "cells": [
  {
   "cell_type": "code",
   "execution_count": 1,
   "metadata": {},
   "outputs": [],
   "source": [
    "import boto3\n",
    "import json\n",
    "import time\n",
    "from dotenv import load_dotenv\n",
    "from datetime import datetime\n",
    "import os"
   ]
  },
  {
   "cell_type": "code",
   "execution_count": 2,
   "metadata": {},
   "outputs": [],
   "source": [
    "# Load environment variables from .env file\n",
    "load_dotenv()\n",
    "\n",
    "# Initialize AWS credentials from the .env file\n",
    "AWS_ACCESS_KEY_ID = os.getenv('AWS_ACCESS_KEY_ID')\n",
    "AWS_SECRET_ACCESS_KEY = os.getenv('AWS_SECRET_ACCESS_KEY')\n",
    "AWS_SESSION_TOKEN = os.getenv('AWS_SESSION_TOKEN')\n",
    "AWS_REGION = os.getenv('AWS_REGION')"
   ]
  },
  {
   "cell_type": "code",
   "execution_count": 3,
   "metadata": {},
   "outputs": [],
   "source": [
    "# Initialize boto3 client for Kinesis with your credentials\n",
    "kinesis_client = boto3.client(\n",
    "    'kinesis',\n",
    "    aws_access_key_id=AWS_ACCESS_KEY_ID,\n",
    "    aws_secret_access_key=AWS_SECRET_ACCESS_KEY,\n",
    "    aws_session_token=AWS_SESSION_TOKEN,\n",
    "    region_name=AWS_REGION\n",
    ")"
   ]
  },
  {
   "cell_type": "code",
   "execution_count": 4,
   "metadata": {},
   "outputs": [],
   "source": [
    "\n",
    "# Function to get the shard iterator\n",
    "def get_shard_iterator(stream_name, shard_id):\n",
    "    response = kinesis_client.get_shard_iterator(\n",
    "        StreamName=stream_name,\n",
    "        ShardId=shard_id,\n",
    "        ShardIteratorType='LATEST'  # or 'LATEST' for new records\n",
    "    )\n",
    "    return response['ShardIterator']\n",
    "\n",
    "# Function to read records from the Kinesis stream\n",
    "def read_kinesis_records(stream_name, shard_iterator):\n",
    "    while True:\n",
    "        response = kinesis_client.get_records(ShardIterator=shard_iterator, Limit=100)\n",
    "        records = response['Records']\n",
    "        for record in records:\n",
    "            # No need to base64 decode, just parse the data directly\n",
    "            order_data = record['Data']\n",
    "            order = json.loads(order_data)\n",
    "            print(\"Received order:\", order)\n",
    "\n",
    "        # Update the shard iterator for the next batch of records\n",
    "        shard_iterator = response['NextShardIterator']\n",
    "\n",
    "        # Sleep to avoid hitting API rate limits\n",
    "        time.sleep(1)\n"
   ]
  },
  {
   "cell_type": "code",
   "execution_count": null,
   "metadata": {},
   "outputs": [
    {
     "name": "stdout",
     "output_type": "stream",
     "text": [
      "Received order: {'order_id': '0a25ffaf-6c3a-449f-8186-26404589a99c', 'customer_id': 'cus-8013e39c-fd35-46d7-b848-444a1bce3e40', 'total_weight': 5.280120806305849, 'total_volume': 6.732114742872454, 'total_price': 31.778692370129995, 'order_timestamp': '2024-10-06 21:30:27', 'status': 'RECEIVED', 'lat': 40.486373862839756, 'lon': -3.8634417986933403}\n",
      "Received order: {'order_id': 'b9107a69-7b47-4c3d-90e3-412e0c172c2f', 'customer_id': 'cus-4fbd8f83-38e3-4849-a1d9-90203fe192a8', 'total_weight': 51.694554967777215, 'total_volume': 128.25475237489894, 'total_price': 333.31860252016804, 'order_timestamp': '2024-10-06 21:30:49', 'status': 'RECEIVED', 'lat': 40.48317967431831, 'lon': -3.6175914087175625}\n",
      "Received order: {'order_id': '8d193412-5ae8-4d1c-9484-be88f42e0da2', 'customer_id': 'cus-75ec4e4d-efcb-4852-bfaa-c9bd34e00d60', 'total_weight': 27.132723946923647, 'total_volume': 350.18619232668374, 'total_price': 470.1481905620631, 'order_timestamp': '2024-10-06 21:31:14', 'status': 'RECEIVED', 'lat': 40.46546972017736, 'lon': -3.8207260806399526}\n",
      "Received order: {'order_id': '67617651-9a94-47ec-8c2e-28e149af118e', 'customer_id': 'cus-14c60284-d40f-438a-95e7-3d286ae0fd29', 'total_weight': 47.738371970088394, 'total_volume': 79.510888824709, 'total_price': 815.2413349407162, 'order_timestamp': '2024-10-06 21:31:38', 'status': 'RECEIVED', 'lat': 40.405327469318074, 'lon': -3.608002710060882}\n",
      "Received order: {'order_id': '7512abf5-5a47-40c7-b06b-cdede272a2c5', 'customer_id': 'cus-04256634-77a4-46e8-946b-31a245ba3545', 'total_weight': 6.356933999535162, 'total_volume': 406.19381809402955, 'total_price': 626.5926086677781, 'order_timestamp': '2024-10-06 21:32:01', 'status': 'RECEIVED', 'lat': 40.37126419804717, 'lon': -3.6568796508985546}\n",
      "Received order: {'order_id': 'fbd5851d-8ac0-4988-8397-93b789b67576', 'customer_id': 'cus-4b280913-5015-440a-8768-c91f15ff926f', 'total_weight': 2.900852147003987, 'total_volume': 464.3216610915236, 'total_price': 915.7381245098983, 'order_timestamp': '2024-10-06 21:32:32', 'status': 'RECEIVED', 'lat': 40.616671952458674, 'lon': -3.7738427395566725}\n",
      "Received order: {'order_id': '85846ccb-6b7e-42dd-ba21-591ba6dd3fbc', 'customer_id': 'cus-b538e09c-327a-425c-9a65-03c9989d7c31', 'total_weight': 14.696698971324837, 'total_volume': 367.1473131973749, 'total_price': 890.8834023370456, 'order_timestamp': '2024-10-06 21:32:58', 'status': 'RECEIVED', 'lat': 40.56600262026086, 'lon': -3.619250843466686}\n",
      "Received order: {'order_id': 'e813a13e-4eca-477b-a45a-5975b5dc58a1', 'customer_id': 'cus-170ca8bc-f6cc-4f49-a0fd-99a420ca6a64', 'total_weight': 85.96233467062355, 'total_volume': 244.55763444376325, 'total_price': 698.3805091577217, 'order_timestamp': '2024-10-06 21:33:15', 'status': 'RECEIVED', 'lat': 40.51382564750419, 'lon': -3.60313591669734}\n",
      "Received order: {'order_id': '81bd9f8d-e290-4e88-ae96-a9a7c70e0f12', 'customer_id': 'cus-e83a001c-3552-40b0-ae59-fe1f515e5f12', 'total_weight': 44.688942565384814, 'total_volume': 74.45479041087567, 'total_price': 478.20090155002845, 'order_timestamp': '2024-10-06 21:33:31', 'status': 'RECEIVED', 'lat': 40.451716681653465, 'lon': -3.810046770824317}\n",
      "Received order: {'order_id': 'e0284f52-1902-494c-972d-b0c8996d6624', 'customer_id': 'cus-e1cb06c3-3694-45e5-82ec-b78c90d4440b', 'total_weight': 66.85513157023162, 'total_volume': 490.8564837171456, 'total_price': 857.9636731958234, 'order_timestamp': '2024-10-06 21:34:00', 'status': 'RECEIVED', 'lat': 40.44404665629126, 'lon': -3.6205595557550443}\n",
      "Received order: {'order_id': '18b56129-6ac4-466d-bff9-4b7abb70a242', 'customer_id': 'cus-9dba86e3-398b-4a39-aecf-2dd510aa4816', 'total_weight': 28.068727591708072, 'total_volume': 421.5981301507094, 'total_price': 94.87971393994745, 'order_timestamp': '2024-10-06 21:34:19', 'status': 'RECEIVED', 'lat': 40.462311678814686, 'lon': -3.7556100263656385}\n",
      "Received order: {'order_id': '16045d5d-ecfa-437c-accf-a4291666194c', 'customer_id': 'cus-1dc1927e-b0ed-42e5-8ffe-720323d90297', 'total_weight': 22.84135650127635, 'total_volume': 418.31403772091653, 'total_price': 954.5764010435562, 'order_timestamp': '2024-10-06 21:34:37', 'status': 'RECEIVED', 'lat': 40.41904314466712, 'lon': -3.6958020756742886}\n",
      "Received order: {'order_id': '32733ed6-f620-4680-8f23-234cea80c265', 'customer_id': 'cus-5560e8a8-644a-4800-b8c3-cc2929efb0d3', 'total_weight': 49.9540186106186, 'total_volume': 289.0245974908118, 'total_price': 530.217038080114, 'order_timestamp': '2024-10-06 21:35:06', 'status': 'RECEIVED', 'lat': 40.39287249500149, 'lon': -3.7418539101004193}\n",
      "Received order: {'order_id': '30e11cd0-b9c8-465f-a590-5bee94122204', 'customer_id': 'cus-2956baad-bc66-40d9-b9d7-5f8189fb46aa', 'total_weight': 41.76532072494963, 'total_volume': 145.22310795391414, 'total_price': 409.51566744323566, 'order_timestamp': '2024-10-06 21:35:19', 'status': 'RECEIVED', 'lat': 40.52256217855529, 'lon': -3.7635934359573846}\n",
      "Received order: {'order_id': '09ac1d7a-74d8-4b9d-854d-ea252a02cf98', 'customer_id': 'cus-804b9404-7513-4127-8ba0-b8e3fecb6ad4', 'total_weight': 20.977623489952208, 'total_volume': 148.44546400087526, 'total_price': 95.37708579732569, 'order_timestamp': '2024-10-06 21:35:43', 'status': 'RECEIVED', 'lat': 40.374824946622624, 'lon': -3.5966035943206296}\n",
      "Received order: {'order_id': '15945cd2-bdba-49cc-81f0-5cf49e73b106', 'customer_id': 'cus-9f774cfb-9e5c-4b10-bcdc-0881960c7f38', 'total_weight': 94.01669900881149, 'total_volume': 153.60394627270622, 'total_price': 776.4375598602087, 'order_timestamp': '2024-10-06 21:36:08', 'status': 'RECEIVED', 'lat': 40.331633745433585, 'lon': -3.852818033361473}\n",
      "Received order: {'order_id': '75dc2792-2f2b-4b90-8f53-76e5fbb695bf', 'customer_id': 'cus-570786aa-85dc-4c1e-9c7f-336de416b268', 'total_weight': 23.404358420138454, 'total_volume': 256.69045554496216, 'total_price': 581.7456700201304, 'order_timestamp': '2024-10-06 21:39:52', 'status': 'RECEIVED', 'lat': 40.61927751103353, 'lon': -3.6799706163331223}\n",
      "Received order: {'order_id': 'e0469e91-7703-4c8d-beb5-854d1d1a934c', 'customer_id': 'cus-5be9289d-6d63-4c4a-9769-6172bc423371', 'total_weight': 14.597707724499479, 'total_volume': 389.8694549676822, 'total_price': 253.22955492906556, 'order_timestamp': '2024-10-06 21:40:19', 'status': 'RECEIVED', 'lat': 40.622941840713615, 'lon': -3.603057881576992}\n",
      "Received order: {'order_id': '10a06a80-f36a-44ba-a748-a2a75abe1a95', 'customer_id': 'cus-c1aef5e9-8352-4f3e-a09f-34f63b0cb811', 'total_weight': 41.16115405994654, 'total_volume': 480.29077496769577, 'total_price': 662.5350100100675, 'order_timestamp': '2024-10-06 21:40:34', 'status': 'RECEIVED', 'lat': 40.570689119574936, 'lon': -3.835356187514956}\n",
      "Received order: {'order_id': '9de5440f-e96b-4ea5-bf9a-bc7532a0932d', 'customer_id': 'cus-e9477353-df77-4afc-b961-e58e7d9b6896', 'total_weight': 76.42521001573878, 'total_volume': 392.15686868126295, 'total_price': 948.53615868996, 'order_timestamp': '2024-10-06 21:40:57', 'status': 'RECEIVED', 'lat': 40.59354358838209, 'lon': -3.7961876466288467}\n",
      "Received order: {'order_id': 'cae34ca8-0b3f-40c3-8876-753a8d7611de', 'customer_id': 'cus-b8637b4d-2898-4e8f-924c-f4a4d4f5aa89', 'total_weight': 58.46354277764553, 'total_volume': 307.56073074071094, 'total_price': 140.78547379586917, 'order_timestamp': '2024-10-06 21:41:11', 'status': 'RECEIVED', 'lat': 40.5944520166111, 'lon': -3.7275488553830263}\n",
      "Received order: {'order_id': '53db6ed4-90b8-4e9a-9710-4e3f140c3374', 'customer_id': 'cus-96f56ac2-0c0f-4fac-86d8-099e452f4e29', 'total_weight': 50.73262649393302, 'total_volume': 190.44385165145806, 'total_price': 980.7997692409006, 'order_timestamp': '2024-10-06 21:41:21', 'status': 'RECEIVED', 'lat': 40.549209890297696, 'lon': -3.7227035885231077}\n"
     ]
    }
   ],
   "source": [
    "# Get the shard iterator\n",
    "stream_name = 'OrderStreamForDispatching'  # Replace with your stream name\n",
    "shard_id = 'shardId-000000000000'  # Get the shard ID from the stream's details\n",
    "\n",
    "shard_iterator = get_shard_iterator(stream_name, shard_id)\n",
    "\n",
    "# Start reading records\n",
    "read_kinesis_records(stream_name, shard_iterator)"
   ]
  }
 ],
 "metadata": {
  "kernelspec": {
   "display_name": "route-optimizer-AqO2e-Ud-py3.11",
   "language": "python",
   "name": "python3"
  },
  "language_info": {
   "codemirror_mode": {
    "name": "ipython",
    "version": 3
   },
   "file_extension": ".py",
   "mimetype": "text/x-python",
   "name": "python",
   "nbconvert_exporter": "python",
   "pygments_lexer": "ipython3",
   "version": "3.11.8"
  }
 },
 "nbformat": 4,
 "nbformat_minor": 2
}

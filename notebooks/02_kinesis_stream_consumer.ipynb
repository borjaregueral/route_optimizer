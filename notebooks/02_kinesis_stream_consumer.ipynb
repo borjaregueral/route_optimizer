{
 "cells": [
  {
   "cell_type": "code",
   "execution_count": 1,
   "metadata": {},
   "outputs": [],
   "source": [
    "import boto3\n",
    "import json\n",
    "import time\n",
    "from dotenv import load_dotenv\n",
    "from datetime import datetime\n",
    "import os"
   ]
  },
  {
   "cell_type": "code",
   "execution_count": 2,
   "metadata": {},
   "outputs": [],
   "source": [
    "# Load environment variables from .env file\n",
    "load_dotenv()\n",
    "\n",
    "# Initialize AWS credentials from the .env file\n",
    "AWS_ACCESS_KEY_ID = os.getenv('AWS_ACCESS_KEY_ID')\n",
    "AWS_SECRET_ACCESS_KEY = os.getenv('AWS_SECRET_ACCESS_KEY')\n",
    "AWS_SESSION_TOKEN = os.getenv('AWS_SESSION_TOKEN')\n",
    "AWS_REGION = os.getenv('AWS_REGION')"
   ]
  },
  {
   "cell_type": "code",
   "execution_count": 3,
   "metadata": {},
   "outputs": [],
   "source": [
    "# Initialize boto3 client for Kinesis with your credentials\n",
    "kinesis_client = boto3.client(\n",
    "    'kinesis',\n",
    "    aws_access_key_id=AWS_ACCESS_KEY_ID,\n",
    "    aws_secret_access_key=AWS_SECRET_ACCESS_KEY,\n",
    "    aws_session_token=AWS_SESSION_TOKEN,\n",
    "    region_name=AWS_REGION\n",
    ")"
   ]
  },
  {
   "cell_type": "code",
   "execution_count": 4,
   "metadata": {},
   "outputs": [],
   "source": [
    "\n",
    "# Function to get the shard iterator\n",
    "def get_shard_iterator(stream_name, shard_id):\n",
    "    response = kinesis_client.get_shard_iterator(\n",
    "        StreamName=stream_name,\n",
    "        ShardId=shard_id,\n",
    "        ShardIteratorType='LATEST'  # or 'LATEST' for new records\n",
    "    )\n",
    "    return response['ShardIterator']\n",
    "\n",
    "# Function to read records from the Kinesis stream\n",
    "def read_kinesis_records(stream_name, shard_iterator):\n",
    "    while True:\n",
    "        response = kinesis_client.get_records(ShardIterator=shard_iterator, Limit=100)\n",
    "        records = response['Records']\n",
    "        for record in records:\n",
    "            # No need to base64 decode, just parse the data directly\n",
    "            order_data = record['Data']\n",
    "            order = json.loads(order_data)\n",
    "            print(\"Received order:\", order)\n",
    "\n",
    "        # Update the shard iterator for the next batch of records\n",
    "        shard_iterator = response['NextShardIterator']\n",
    "\n",
    "        # Sleep to avoid hitting API rate limits\n",
    "        time.sleep(1)\n"
   ]
  },
  {
   "cell_type": "code",
   "execution_count": null,
   "metadata": {},
   "outputs": [],
   "source": [
    "# Get the shard iterator\n",
    "stream_name = 'OrderStreamForDispatching'  # Replace with your stream name\n",
    "shard_id = 'shardId-000000000000'  # Get the shard ID from the stream's details\n",
    "\n",
    "shard_iterator = get_shard_iterator(stream_name, shard_id)\n",
    "\n",
    "# Start reading records\n",
    "read_kinesis_records(stream_name, shard_iterator)"
   ]
  }
 ],
 "metadata": {
  "kernelspec": {
   "display_name": "route-optimizer-AqO2e-Ud-py3.11",
   "language": "python",
   "name": "python3"
  },
  "language_info": {
   "codemirror_mode": {
    "name": "ipython",
    "version": 3
   },
   "file_extension": ".py",
   "mimetype": "text/x-python",
   "name": "python",
   "nbconvert_exporter": "python",
   "pygments_lexer": "ipython3",
   "version": "3.11.8"
  }
 },
 "nbformat": 4,
 "nbformat_minor": 2
}

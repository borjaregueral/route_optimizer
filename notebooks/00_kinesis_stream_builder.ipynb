{
 "cells": [
  {
   "cell_type": "code",
   "execution_count": 1,
   "metadata": {},
   "outputs": [],
   "source": [
    "import boto3\n",
    "import time\n",
    "import os\n",
    "from dotenv import load_dotenv"
   ]
  },
  {
   "cell_type": "code",
   "execution_count": 2,
   "metadata": {},
   "outputs": [],
   "source": [
    "# Load environment variables from .env file\n",
    "load_dotenv()\n",
    "\n",
    "# Initialize AWS credentials from the .env file\n",
    "AWS_ACCESS_KEY_ID = os.getenv('AWS_ACCESS_KEY_ID')\n",
    "AWS_SECRET_ACCESS_KEY = os.getenv('AWS_SECRET_ACCESS_KEY')\n",
    "AWS_SESSION_TOKEN = os.getenv('AWS_SESSION_TOKEN')\n",
    "AWS_REGION = os.getenv('AWS_REGION')"
   ]
  },
  {
   "cell_type": "code",
   "execution_count": 3,
   "metadata": {},
   "outputs": [],
   "source": [
    "# Initialize boto3 client for Kinesis with your credentials\n",
    "kinesis_client = boto3.client(\n",
    "    'kinesis',\n",
    "    aws_access_key_id=AWS_ACCESS_KEY_ID,\n",
    "    aws_secret_access_key=AWS_SECRET_ACCESS_KEY,\n",
    "    aws_session_token=AWS_SESSION_TOKEN,\n",
    "    region_name=AWS_REGION\n",
    ")"
   ]
  },
  {
   "cell_type": "code",
   "execution_count": 4,
   "metadata": {},
   "outputs": [
    {
     "name": "stdout",
     "output_type": "stream",
     "text": [
      "Stream 'OrderStreamForDispatching' already exists.\n",
      "Current stream status: ACTIVE\n",
      "Stream 'OrderStreamForDispatching' is now active.\n"
     ]
    }
   ],
   "source": [
    "# Function to create a Kinesis Data Stream\n",
    "def create_kinesis_stream(stream_name, shard_count):\n",
    "    try:\n",
    "        response = kinesis_client.create_stream(\n",
    "            StreamName=stream_name,\n",
    "            ShardCount=shard_count  # Number of shards, adjust according to your needs\n",
    "        )\n",
    "        print(f\"Kinesis Stream '{stream_name}' created successfully!\")\n",
    "    except kinesis_client.exceptions.ResourceInUseException:\n",
    "        print(f\"Stream '{stream_name}' already exists.\")\n",
    "    except Exception as e:\n",
    "        print(f\"An error occurred: {e}\")\n",
    "\n",
    "# Function to check stream status\n",
    "def wait_for_stream_active(stream_name):\n",
    "    while True:\n",
    "        response = kinesis_client.describe_stream(StreamName=stream_name)\n",
    "        stream_status = response['StreamDescription']['StreamStatus']\n",
    "        print(f\"Current stream status: {stream_status}\")\n",
    "        \n",
    "        if stream_status == 'ACTIVE':\n",
    "            print(f\"Stream '{stream_name}' is now active.\")\n",
    "            break\n",
    "        time.sleep(10)\n",
    "\n",
    "# Define the stream name and shard count\n",
    "stream_name = 'OrderStreamForDispatching'  # Replace with your stream name\n",
    "shard_count = 1  # Set the number of shards (you can increase this based on throughput)\n",
    "\n",
    "# Create the Kinesis stream\n",
    "create_kinesis_stream(stream_name, shard_count)\n",
    "\n",
    "# Wait for the stream to become active\n",
    "wait_for_stream_active(stream_name)\n"
   ]
  }
 ],
 "metadata": {
  "kernelspec": {
   "display_name": "route-optimizer-AqO2e-Ud-py3.11",
   "language": "python",
   "name": "python3"
  },
  "language_info": {
   "codemirror_mode": {
    "name": "ipython",
    "version": 3
   },
   "file_extension": ".py",
   "mimetype": "text/x-python",
   "name": "python",
   "nbconvert_exporter": "python",
   "pygments_lexer": "ipython3",
   "version": "3.11.8"
  }
 },
 "nbformat": 4,
 "nbformat_minor": 2
}

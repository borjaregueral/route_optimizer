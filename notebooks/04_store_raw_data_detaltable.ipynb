{
 "cells": [
  {
   "cell_type": "code",
   "execution_count": 1,
   "metadata": {},
   "outputs": [],
   "source": [
    "from pyspark.sql import SparkSession\n",
    "from pyspark.sql.functions import col, from_json\n",
    "from pyspark.sql.types import StructType, StructField, StringType, DoubleType, IntegerType, LongType, TimestampType\n",
    "from dotenv import load_dotenv\n",
    "import os\n",
    "import json\n",
    "import time\n",
    "import boto3\n",
    "from pyspark.sql import SparkSession\n",
    "from datetime import datetime "
   ]
  },
  {
   "cell_type": "code",
   "execution_count": 2,
   "metadata": {},
   "outputs": [],
   "source": [
    "# Load environment variables from .env file\n",
    "load_dotenv()\n",
    "\n",
    "# Initialize AWS credentials from the .env file\n",
    "AWS_ACCESS_KEY_ID = os.getenv('AWS_ACCESS_KEY_ID')\n",
    "AWS_SECRET_ACCESS_KEY = os.getenv('AWS_SECRET_ACCESS_KEY')\n",
    "AWS_SESSION_TOKEN = os.getenv('AWS_SESSION_TOKEN')\n",
    "AWS_REGION = os.getenv('AWS_REGION')"
   ]
  },
  {
   "cell_type": "code",
   "execution_count": 9,
   "metadata": {},
   "outputs": [],
   "source": [
    "spark.stop()"
   ]
  },
  {
   "cell_type": "code",
   "execution_count": 4,
   "metadata": {},
   "outputs": [
    {
     "name": "stdout",
     "output_type": "stream",
     "text": [
      ":: loading settings :: url = jar:file:/Users/borja/Library/Caches/pypoetry/virtualenvs/route-optimizer-AqO2e-Ud-py3.11/lib/python3.11/site-packages/pyspark/jars/ivy-2.5.1.jar!/org/apache/ivy/core/settings/ivysettings.xml\n"
     ]
    },
    {
     "name": "stderr",
     "output_type": "stream",
     "text": [
      "Ivy Default Cache set to: /Users/borja/.ivy2/cache\n",
      "The jars for the packages stored in: /Users/borja/.ivy2/jars\n",
      "io.delta#delta-core_2.12 added as a dependency\n",
      "org.apache.hadoop#hadoop-aws added as a dependency\n",
      "com.amazonaws#aws-java-sdk-bundle added as a dependency\n",
      ":: resolving dependencies :: org.apache.spark#spark-submit-parent-48b4f624-75bb-4103-a3e3-ff9351b571f4;1.0\n",
      "\tconfs: [default]\n",
      "\tfound io.delta#delta-core_2.12;2.4.0 in central\n",
      "\tfound io.delta#delta-storage;2.4.0 in central\n",
      "\tfound org.antlr#antlr4-runtime;4.9.3 in central\n",
      "\tfound org.apache.hadoop#hadoop-aws;3.3.2 in central\n",
      "\tfound com.amazonaws#aws-java-sdk-bundle;1.11.1026 in central\n",
      "\tfound org.wildfly.openssl#wildfly-openssl;1.0.7.Final in central\n",
      ":: resolution report :: resolve 153ms :: artifacts dl 7ms\n",
      "\t:: modules in use:\n",
      "\tcom.amazonaws#aws-java-sdk-bundle;1.11.1026 from central in [default]\n",
      "\tio.delta#delta-core_2.12;2.4.0 from central in [default]\n",
      "\tio.delta#delta-storage;2.4.0 from central in [default]\n",
      "\torg.antlr#antlr4-runtime;4.9.3 from central in [default]\n",
      "\torg.apache.hadoop#hadoop-aws;3.3.2 from central in [default]\n",
      "\torg.wildfly.openssl#wildfly-openssl;1.0.7.Final from central in [default]\n",
      "\t---------------------------------------------------------------------\n",
      "\t|                  |            modules            ||   artifacts   |\n",
      "\t|       conf       | number| search|dwnlded|evicted|| number|dwnlded|\n",
      "\t---------------------------------------------------------------------\n",
      "\t|      default     |   6   |   0   |   0   |   0   ||   6   |   0   |\n",
      "\t---------------------------------------------------------------------\n",
      ":: retrieving :: org.apache.spark#spark-submit-parent-48b4f624-75bb-4103-a3e3-ff9351b571f4\n",
      "\tconfs: [default]\n",
      "\t0 artifacts copied, 6 already retrieved (0kB/3ms)\n",
      "24/10/05 20:10:33 WARN NativeCodeLoader: Unable to load native-hadoop library for your platform... using builtin-java classes where applicable\n",
      "Setting default log level to \"WARN\".\n",
      "To adjust logging level use sc.setLogLevel(newLevel). For SparkR, use setLogLevel(newLevel).\n"
     ]
    }
   ],
   "source": [
    "from pyspark.sql import SparkSession\n",
    "\n",
    "# Path to your local JAR files\n",
    "local_jars = \"/Users/borja/Documents/Somniumrema/projects/de/route_optimizer/jars/aws-java-sdk-kinesis-1.12.364.jar\"\n",
    "\n",
    "# Initialize Spark session with Delta and S3 settings\n",
    "spark = SparkSession.builder \\\n",
    "    .appName(\"KinesisToDeltaLake\") \\\n",
    "    .config(\"spark.sql.extensions\", \"io.delta.sql.DeltaSparkSessionExtension\") \\\n",
    "    .config(\"spark.sql.catalog.spark_catalog\", \"org.apache.spark.sql.delta.catalog.DeltaCatalog\") \\\n",
    "    .config(\"spark.jars.packages\", \"io.delta:delta-core_2.12:2.4.0,org.apache.hadoop:hadoop-aws:3.3.2,com.amazonaws:aws-java-sdk-bundle:1.11.1026\") \\\n",
    "    .config(\"spark.hadoop.fs.s3a.impl\", \"org.apache.hadoop.fs.s3a.S3AFileSystem\") \\\n",
    "    .config(\"spark.hadoop.fs.s3a.access.key\", AWS_ACCESS_KEY_ID) \\\n",
    "    .config(\"spark.hadoop.fs.s3a.secret.key\", AWS_SECRET_ACCESS_KEY) \\\n",
    "    .config(\"spark.hadoop.fs.s3a.session.token\", AWS_SESSION_TOKEN) \\\n",
    "    .config(\"spark.hadoop.fs.s3a.endpoint\", \"s3.amazonaws.com\") \\\n",
    "    .config(\"spark.sql.files.maxPartitionBytes\", \"134217728\") \\\n",
    "    .config(\"spark.driver.memory\", \"4g\") \\\n",
    "    .config(\"spark.executor.memory\", \"4g\") \\\n",
    "    .getOrCreate()\n",
    "\n",
    "# Optional: Adjust logging level\n",
    "spark.sparkContext.setLogLevel(\"WARN\")"
   ]
  },
  {
   "cell_type": "code",
   "execution_count": 5,
   "metadata": {},
   "outputs": [],
   "source": [
    "# Initialize boto3 client for Kinesis with your credentials\n",
    "kinesis_client = boto3.client(\n",
    "    'kinesis',\n",
    "    aws_access_key_id=AWS_ACCESS_KEY_ID,\n",
    "    aws_secret_access_key=AWS_SECRET_ACCESS_KEY,\n",
    "    aws_session_token=AWS_SESSION_TOKEN,\n",
    "    region_name=AWS_REGION\n",
    ")"
   ]
  },
  {
   "cell_type": "code",
   "execution_count": 6,
   "metadata": {},
   "outputs": [],
   "source": [
    "# Define the schema\n",
    "schema = StructType([\n",
    "    StructField(\"order_id\", StringType(), True),\n",
    "    StructField(\"customer_id\", StringType(), True),\n",
    "    StructField(\"total_weight\", DoubleType(), True),\n",
    "    StructField(\"total_volume\", DoubleType(), True),\n",
    "    StructField(\"total_price\", DoubleType(), True),\n",
    "    StructField(\"order_timestamp\", TimestampType(), True),\n",
    "    StructField(\"status\", StringType(), True),\n",
    "    StructField(\"lat\", DoubleType(), True),\n",
    "    StructField(\"lon\", DoubleType(), True)\n",
    "])"
   ]
  },
  {
   "cell_type": "code",
   "execution_count": 7,
   "metadata": {},
   "outputs": [],
   "source": [
    "# Function to convert the timestamps to proper datetime objects\n",
    "def convert_timestamps(orders):\n",
    "    for order in orders:\n",
    "        if isinstance(order['order_timestamp'], str):\n",
    "            # Only convert if the timestamp is a string\n",
    "            order['order_timestamp'] = datetime.strptime(order['order_timestamp'], '%Y-%m-%d %H:%M:%S')\n",
    "    return orders\n",
    "\n",
    "# Function to convert the location field from MapType to StructType\n",
    "def transform_location(order):\n",
    "    if isinstance(order['location'], dict):\n",
    "        location_data = order['location']\n",
    "        order['location'] = {\n",
    "            \"address\": location_data['address'],\n",
    "            \"lat\": float(location_data['lat']),\n",
    "            \"lon\": float(location_data['lon'])\n",
    "        }\n",
    "    return order\n",
    "\n",
    "# Function to get the shard iterator\n",
    "def get_shard_iterator(stream_name, shard_id):\n",
    "    response = kinesis_client.get_shard_iterator(\n",
    "        StreamName=stream_name,\n",
    "        ShardId=shard_id,\n",
    "        ShardIteratorType='LATEST'  # or 'LATEST' for new records\n",
    "    )\n",
    "    return response['ShardIterator']\n",
    "\n",
    "# Function to read records from the Kinesis stream\n",
    "def read_kinesis_records(stream_name, shard_iterator):\n",
    "    while True:\n",
    "        response = kinesis_client.get_records(ShardIterator=shard_iterator, Limit=100)\n",
    "        records = response['Records']\n",
    "        for record in records:\n",
    "            # No need to base64 decode, just parse the data directly\n",
    "            order_data = record['Data']\n",
    "            order = json.loads(order_data)\n",
    "            print(\"Received order:\", order)\n",
    "\n",
    "        # Update the shard iterator for the next batch of records\n",
    "        shard_iterator = response['NextShardIterator']\n",
    "\n",
    "        # Sleep to avoid hitting API rate limits\n",
    "        time.sleep(1)"
   ]
  },
  {
   "cell_type": "code",
   "execution_count": 8,
   "metadata": {},
   "outputs": [
    {
     "name": "stdout",
     "output_type": "stream",
     "text": [
      "Accumulated order: {'order_id': 'a582af42-53c8-42bd-b240-4c7eabdc776f', 'customer_id': 'cus-42fa4fe5-ce3a-45f9-ad18-6c1d61b179b4', 'total_weight': 27.4355171659557, 'total_volume': 381.54823546388553, 'total_price': 648.89984812418, 'order_timestamp': '2024-10-05 20:10:40', 'status': 'RECEIVED', 'lat': 40.348948379328654, 'lon': -3.687971612608781}\n",
      "Accumulated order: {'order_id': '44e06181-b121-459f-9b33-862d8f36e5df', 'customer_id': 'cus-32f7d4c8-01c3-4796-aa0d-be7879b1d408', 'total_weight': 35.18021419665379, 'total_volume': 423.5040864509453, 'total_price': 874.6671088619494, 'order_timestamp': '2024-10-05 20:10:52', 'status': 'RECEIVED', 'lat': 40.61135913254186, 'lon': -3.8292090835154835}\n",
      "Threshold met: Dispatching 2 orders.\n"
     ]
    },
    {
     "name": "stderr",
     "output_type": "stream",
     "text": [
      "24/10/05 20:10:56 WARN MetricsConfig: Cannot locate configuration: tried hadoop-metrics2-s3a-file-system.properties,hadoop-metrics2.properties\n",
      "24/10/05 20:11:06 WARN package: Truncated the string representation of a plan since it was too large. This behavior can be adjusted by setting 'spark.sql.debug.maxToStringFields'.\n",
      "                                                                                \r"
     ]
    },
    {
     "name": "stdout",
     "output_type": "stream",
     "text": [
      "Saved 2 orders to Delta table.\n",
      "Accumulated order: {'order_id': 'b8e451c7-4d4c-428f-8105-5fab9a354914', 'customer_id': 'cus-c2bcb3ae-8118-4e92-8620-2063da2da939', 'total_weight': 91.2790296088143, 'total_volume': 362.2745298883178, 'total_price': 246.82891145812798, 'order_timestamp': '2024-10-05 20:11:11', 'status': 'RECEIVED', 'lat': 40.59457455696566, 'lon': -3.765600802671365}\n",
      "Accumulated order: {'order_id': 'bd5d6757-54b2-427f-b1bd-916761482b7a', 'customer_id': 'cus-b059a6a0-5703-4198-bb2b-cd2a13146de9', 'total_weight': 60.513459564260174, 'total_volume': 429.17743077954367, 'total_price': 271.4189290462663, 'order_timestamp': '2024-10-05 20:11:34', 'status': 'RECEIVED', 'lat': 40.59588071338949, 'lon': -3.8057194310823563}\n",
      "Threshold met: Dispatching 2 orders.\n"
     ]
    },
    {
     "name": "stderr",
     "output_type": "stream",
     "text": [
      "                                                                                \r"
     ]
    },
    {
     "name": "stdout",
     "output_type": "stream",
     "text": [
      "Saved 2 orders to Delta table.\n",
      "Accumulated order: {'order_id': '73a4e65e-e450-4e9f-b321-30371d43837a', 'customer_id': 'cus-516f5414-a7e1-474d-8108-f00fbfdfbaec', 'total_weight': 75.6963534018612, 'total_volume': 95.91137991366476, 'total_price': 75.30102099140262, 'order_timestamp': '2024-10-05 20:11:53', 'status': 'RECEIVED', 'lat': 40.64422320695071, 'lon': -3.8012655984148522}\n",
      "Accumulated order: {'order_id': 'c3bb2282-cad9-4484-9104-d1a6c617cf6c', 'customer_id': 'cus-f176e720-c9ed-4340-a965-290c23599084', 'total_weight': 89.93411221339048, 'total_volume': 71.47627779318901, 'total_price': 894.8478004028301, 'order_timestamp': '2024-10-05 20:12:12', 'status': 'RECEIVED', 'lat': 40.481463770970855, 'lon': -3.8592446256198474}\n",
      "Accumulated order: {'order_id': 'ae028421-cf5f-4eec-a153-510dd897caaf', 'customer_id': 'cus-62209290-b925-4fc9-b012-c050e7d008e3', 'total_weight': 72.00706126721471, 'total_volume': 225.39375256384164, 'total_price': 135.7980091676473, 'order_timestamp': '2024-10-05 20:12:28', 'status': 'RECEIVED', 'lat': 40.63623256391989, 'lon': -3.755928428383192}\n",
      "Accumulated order: {'order_id': 'b6bf82ea-1087-432d-a98a-bfd5605de1d7', 'customer_id': 'cus-73acd766-4c3b-4444-83b4-669c6011a765', 'total_weight': 13.937046974081134, 'total_volume': 480.19794449722235, 'total_price': 529.985816004683, 'order_timestamp': '2024-10-05 20:12:50', 'status': 'RECEIVED', 'lat': 40.465161849885234, 'lon': -3.770682972924679}\n",
      "Threshold met: Dispatching 4 orders.\n"
     ]
    },
    {
     "name": "stderr",
     "output_type": "stream",
     "text": [
      "                                                                                \r"
     ]
    },
    {
     "name": "stdout",
     "output_type": "stream",
     "text": [
      "Saved 4 orders to Delta table.\n",
      "Accumulated order: {'order_id': 'b404cbbd-65da-4552-a062-6d0cc054de3b', 'customer_id': 'cus-e5385b0c-2083-45a1-8df1-67d259af1200', 'total_weight': 31.428246018807688, 'total_volume': 438.4141903472967, 'total_price': 970.307187012231, 'order_timestamp': '2024-10-05 20:13:18', 'status': 'RECEIVED', 'lat': 40.3553672160869, 'lon': -3.8273277684294724}\n",
      "Accumulated order: {'order_id': 'b80745c0-1447-4587-9055-f7d07f153f64', 'customer_id': 'cus-9df343ac-f9e8-4c27-bd33-55d57fa7d46a', 'total_weight': 86.24744493868062, 'total_volume': 461.43552609580513, 'total_price': 667.2547260565223, 'order_timestamp': '2024-10-05 20:13:43', 'status': 'RECEIVED', 'lat': 40.47596705459622, 'lon': -3.5971934962812417}\n",
      "Threshold met: Dispatching 2 orders.\n"
     ]
    },
    {
     "name": "stderr",
     "output_type": "stream",
     "text": [
      "                                                                                \r"
     ]
    },
    {
     "name": "stdout",
     "output_type": "stream",
     "text": [
      "Saved 2 orders to Delta table.\n",
      "Accumulated order: {'order_id': 'f06237d6-8f02-4224-a2e7-3c4a8f82239b', 'customer_id': 'cus-74f2368c-1ee8-4863-b74d-a00cdc7ee061', 'total_weight': 86.60469731758458, 'total_volume': 206.1379171496059, 'total_price': 330.3661334327614, 'order_timestamp': '2024-10-05 20:13:58', 'status': 'RECEIVED', 'lat': 40.4260329640847, 'lon': -3.776600856914509}\n",
      "Accumulated order: {'order_id': '38a4ac23-54ea-4ba1-8024-7cad9689128a', 'customer_id': 'cus-1d66a2b3-af7f-44ab-bfd0-eee8a319ddc8', 'total_weight': 32.28944726856404, 'total_volume': 155.88845780701263, 'total_price': 936.0170447117015, 'order_timestamp': '2024-10-05 20:14:10', 'status': 'RECEIVED', 'lat': 40.44878862868058, 'lon': -3.7314658534271214}\n",
      "Accumulated order: {'order_id': 'a4ee2510-8b0e-4741-bb1d-40039f102315', 'customer_id': 'cus-0446c048-bf18-4ceb-8d04-fc1f4fe311ad', 'total_weight': 49.814423780914844, 'total_volume': 355.7687431386376, 'total_price': 899.5104680217572, 'order_timestamp': '2024-10-05 20:14:37', 'status': 'RECEIVED', 'lat': 40.50543805288762, 'lon': -3.638553245150345}\n",
      "Threshold met: Dispatching 3 orders.\n"
     ]
    },
    {
     "name": "stderr",
     "output_type": "stream",
     "text": [
      "                                                                                \r"
     ]
    },
    {
     "name": "stdout",
     "output_type": "stream",
     "text": [
      "Saved 3 orders to Delta table.\n",
      "Accumulated order: {'order_id': '9a9eacc4-4e1b-41c3-aba0-205698881846', 'customer_id': 'cus-85cd124a-5535-443a-9b87-f54badba46bb', 'total_weight': 12.786086803861469, 'total_volume': 88.10505883383563, 'total_price': 950.5976400676745, 'order_timestamp': '2024-10-05 20:15:04', 'status': 'RECEIVED', 'lat': 40.557615462445014, 'lon': -3.6175078703128905}\n",
      "Accumulated order: {'order_id': '54a04d1c-cb41-4fc2-8076-334415462786', 'customer_id': 'cus-811f754b-0513-41f5-afc2-5920a703c8ba', 'total_weight': 61.171536176162334, 'total_volume': 426.05799760389397, 'total_price': 32.38093892429045, 'order_timestamp': '2024-10-05 20:15:20', 'status': 'RECEIVED', 'lat': 40.55176878365622, 'lon': -3.737009725428771}\n",
      "Threshold met: Dispatching 2 orders.\n"
     ]
    },
    {
     "name": "stderr",
     "output_type": "stream",
     "text": [
      "                                                                                \r"
     ]
    },
    {
     "name": "stdout",
     "output_type": "stream",
     "text": [
      "Saved 2 orders to Delta table.\n",
      "Accumulated order: {'order_id': '7a0f62bd-da83-4d68-8cad-5d5c595adfef', 'customer_id': 'cus-3a5fafde-a709-4bd9-90c9-f8fc604aae89', 'total_weight': 90.21030538456056, 'total_volume': 444.77434361561615, 'total_price': 396.90762555861284, 'order_timestamp': '2024-10-05 20:15:36', 'status': 'RECEIVED', 'lat': 40.421808742890214, 'lon': -3.7170935683868622}\n",
      "Accumulated order: {'order_id': '0744e717-fade-4517-a23e-241978ee826b', 'customer_id': 'cus-d1189bdb-34e7-4dd1-9649-46df37e9e5ea', 'total_weight': 12.780809507733288, 'total_volume': 177.26554415037177, 'total_price': 362.29610447824604, 'order_timestamp': '2024-10-05 20:15:47', 'status': 'RECEIVED', 'lat': 40.512020604217945, 'lon': -3.831688915268693}\n",
      "Threshold met: Dispatching 2 orders.\n"
     ]
    },
    {
     "name": "stderr",
     "output_type": "stream",
     "text": [
      "                                                                                \r"
     ]
    },
    {
     "name": "stdout",
     "output_type": "stream",
     "text": [
      "Saved 2 orders to Delta table.\n",
      "Accumulated order: {'order_id': 'fae81b80-b234-4ba7-b60a-f575e4bf1069', 'customer_id': 'cus-d8ae9028-1d35-4cf2-9ec7-8f83aaf322ef', 'total_weight': 77.04859939273537, 'total_volume': 8.783894098085531, 'total_price': 515.1561112846188, 'order_timestamp': '2024-10-05 20:16:17', 'status': 'RECEIVED', 'lat': 40.329071798191585, 'lon': -3.863922144759828}\n",
      "Accumulated order: {'order_id': '8a9f9961-13d5-4856-88b6-b4b2a25323f9', 'customer_id': 'cus-16cf2a3d-5180-4f25-ab80-c9b28dc6c4d8', 'total_weight': 18.353883060805806, 'total_volume': 103.38526016814596, 'total_price': 591.4535951979952, 'order_timestamp': '2024-10-05 20:16:36', 'status': 'RECEIVED', 'lat': 40.62277924886457, 'lon': -3.6929138703129802}\n",
      "Accumulated order: {'order_id': '5d6849fe-e14c-47a6-a217-97e29c48e6a6', 'customer_id': 'cus-df081a38-69c6-4176-a322-f80f6580bff2', 'total_weight': 51.640585796330825, 'total_volume': 300.6240885020712, 'total_price': 956.5952568451437, 'order_timestamp': '2024-10-05 20:16:52', 'status': 'RECEIVED', 'lat': 40.427379598433845, 'lon': -3.687985924991812}\n",
      "Accumulated order: {'order_id': '991b109b-656c-4563-a731-9a9848dd9256', 'customer_id': 'cus-2633ca98-6b70-4ea9-944e-69de71792508', 'total_weight': 64.3734902612397, 'total_volume': 362.7659938387551, 'total_price': 891.8392272474371, 'order_timestamp': '2024-10-05 20:17:15', 'status': 'RECEIVED', 'lat': 40.4042958865552, 'lon': -3.5966244853929443}\n",
      "Threshold met: Dispatching 4 orders.\n"
     ]
    },
    {
     "name": "stderr",
     "output_type": "stream",
     "text": [
      "                                                                                \r"
     ]
    },
    {
     "name": "stdout",
     "output_type": "stream",
     "text": [
      "Saved 4 orders to Delta table.\n",
      "Accumulated order: {'order_id': 'bdd93fac-86f0-4bfd-8c91-1224ca78a217', 'customer_id': 'cus-c1c1e8d9-f813-4d01-b5d5-b82e54cb410f', 'total_weight': 68.28648881584519, 'total_volume': 387.4145131391294, 'total_price': 989.6422835631198, 'order_timestamp': '2024-10-05 20:17:42', 'status': 'RECEIVED', 'lat': 40.467325781112706, 'lon': -3.839059560101239}\n",
      "Accumulated order: {'order_id': '95d0b1bc-3141-4cfd-b4e6-0cc4389f3366', 'customer_id': 'cus-41d073ae-af0d-4c5d-ae88-49ff3935b75f', 'total_weight': 45.04778866860917, 'total_volume': 66.88255909173674, 'total_price': 733.8301366523349, 'order_timestamp': '2024-10-05 20:18:04', 'status': 'RECEIVED', 'lat': 40.55716768839834, 'lon': -3.5923701185511856}\n",
      "Accumulated order: {'order_id': '6c19e147-9634-4768-8346-c03557c39036', 'customer_id': 'cus-2b391ba7-0976-4955-abfb-365085c78056', 'total_weight': 58.74555618523128, 'total_volume': 214.98605849722577, 'total_price': 747.4119071137663, 'order_timestamp': '2024-10-05 20:18:16', 'status': 'RECEIVED', 'lat': 40.58535460631445, 'lon': -3.6529594794707156}\n",
      "Threshold met: Dispatching 3 orders.\n"
     ]
    },
    {
     "name": "stderr",
     "output_type": "stream",
     "text": [
      "                                                                                \r"
     ]
    },
    {
     "name": "stdout",
     "output_type": "stream",
     "text": [
      "Saved 3 orders to Delta table.\n",
      "Accumulated order: {'order_id': '79e118ee-e928-463b-ab97-ea17da71e0b8', 'customer_id': 'cus-3765b66d-68af-4984-98b3-f305492db931', 'total_weight': 73.00855954634467, 'total_volume': 60.26840103798629, 'total_price': 757.2618499471939, 'order_timestamp': '2024-10-05 20:18:33', 'status': 'RECEIVED', 'lat': 40.58367810496679, 'lon': -3.7458494320899676}\n",
      "Accumulated order: {'order_id': 'b5ba2560-ac9f-40b8-8b44-eb387bbd63bc', 'customer_id': 'cus-cbc57b0e-798c-40df-8522-96850ed84317', 'total_weight': 17.89368132035567, 'total_volume': 463.3973906099288, 'total_price': 266.0905150241993, 'order_timestamp': '2024-10-05 20:18:54', 'status': 'RECEIVED', 'lat': 40.539610797322204, 'lon': -3.837410813560735}\n",
      "Threshold met: Dispatching 2 orders.\n"
     ]
    },
    {
     "name": "stderr",
     "output_type": "stream",
     "text": [
      "                                                                                \r"
     ]
    },
    {
     "name": "stdout",
     "output_type": "stream",
     "text": [
      "Saved 2 orders to Delta table.\n",
      "Accumulated order: {'order_id': '91814cc7-47c5-4490-aec2-337610e172a7', 'customer_id': 'cus-4c8a056c-822a-4eab-8100-aaa1bec07ff4', 'total_weight': 89.70462146861557, 'total_volume': 176.4007527450687, 'total_price': 446.4346971845675, 'order_timestamp': '2024-10-05 20:19:04', 'status': 'RECEIVED', 'lat': 40.495627247514, 'lon': -3.8178056112619783}\n",
      "Accumulated order: {'order_id': '0e636a3c-b079-406e-8813-9dc188662f0b', 'customer_id': 'cus-5a9fa61e-d1a2-419d-8103-5334ea8abba4', 'total_weight': 85.96520484068515, 'total_volume': 323.60928257306966, 'total_price': 745.1171426983512, 'order_timestamp': '2024-10-05 20:19:21', 'status': 'RECEIVED', 'lat': 40.50954078911735, 'lon': -3.752925249503021}\n",
      "Threshold met: Dispatching 2 orders.\n"
     ]
    },
    {
     "name": "stderr",
     "output_type": "stream",
     "text": [
      "                                                                                \r"
     ]
    },
    {
     "name": "stdout",
     "output_type": "stream",
     "text": [
      "Saved 2 orders to Delta table.\n",
      "Accumulated order: {'order_id': '86e0525f-8d77-4286-934e-bd95e1f197ba', 'customer_id': 'cus-548650aa-f87a-474f-a5f5-79f6fd076410', 'total_weight': 87.68609793598432, 'total_volume': 385.3949911868183, 'total_price': 180.79103752839333, 'order_timestamp': '2024-10-05 20:19:38', 'status': 'RECEIVED', 'lat': 40.48793990413005, 'lon': -3.8289876557782434}\n",
      "Accumulated order: {'order_id': '0beb54d6-2cd9-46fa-8bc7-bea87a0b0f6e', 'customer_id': 'cus-a1cf8649-b231-402f-8691-cf39ec7cbbd1', 'total_weight': 1.3441130900509282, 'total_volume': 115.99813409817456, 'total_price': 223.98623112904062, 'order_timestamp': '2024-10-05 20:20:04', 'status': 'RECEIVED', 'lat': 40.31698307502607, 'lon': -3.77830653687978}\n",
      "Threshold met: Dispatching 2 orders.\n"
     ]
    },
    {
     "name": "stderr",
     "output_type": "stream",
     "text": [
      "                                                                                \r"
     ]
    },
    {
     "name": "stdout",
     "output_type": "stream",
     "text": [
      "Saved 2 orders to Delta table.\n",
      "Accumulated order: {'order_id': 'eddc1ef8-2896-497a-b514-9f291bd60223', 'customer_id': 'cus-9d88ddf3-9cbe-4632-bc64-c3ed297a4fba', 'total_weight': 7.11875456088472, 'total_volume': 364.18213927829527, 'total_price': 50.538957173890836, 'order_timestamp': '2024-10-05 20:20:22', 'status': 'RECEIVED', 'lat': 40.45088965432108, 'lon': -3.572567271589414}\n",
      "Accumulated order: {'order_id': 'c2f5360f-722d-4a57-82ac-751af74d70c2', 'customer_id': 'cus-dfbbeb34-3171-44f6-bb8d-feaf79628bdc', 'total_weight': 10.659770347339098, 'total_volume': 5.5049876689315544, 'total_price': 717.3670879425707, 'order_timestamp': '2024-10-05 20:20:51', 'status': 'RECEIVED', 'lat': 40.457434389531585, 'lon': -3.571298792123459}\n",
      "Accumulated order: {'order_id': '1593c3e1-daa7-4e81-b7b4-668401f8b58f', 'customer_id': 'cus-72254672-3a63-4858-af90-31252d7cf2b6', 'total_weight': 2.1263201999197925, 'total_volume': 208.50046742482496, 'total_price': 198.66792592575243, 'order_timestamp': '2024-10-05 20:21:18', 'status': 'RECEIVED', 'lat': 40.59398070408187, 'lon': -3.681219500246846}\n",
      "Threshold met: Dispatching 3 orders.\n"
     ]
    },
    {
     "name": "stderr",
     "output_type": "stream",
     "text": [
      "                                                                                \r"
     ]
    },
    {
     "name": "stdout",
     "output_type": "stream",
     "text": [
      "Saved 3 orders to Delta table.\n",
      "Accumulated order: {'order_id': '9b9be4cd-6bdc-4cdc-a483-2e0ce32bb10e', 'customer_id': 'cus-290d6434-39e5-4636-ae74-efb67513c3f4', 'total_weight': 82.6926131996024, 'total_volume': 497.7083162458662, 'total_price': 277.061165928953, 'order_timestamp': '2024-10-05 20:21:31', 'status': 'RECEIVED', 'lat': 40.398326397559195, 'lon': -3.598137459090693}\n",
      "Accumulated order: {'order_id': '16d13069-f068-4321-8207-640b1335bf05', 'customer_id': 'cus-bb2afd30-b03d-4831-bd74-ca82c396dfd3', 'total_weight': 14.674018713926591, 'total_volume': 352.2519853272686, 'total_price': 515.3213253995792, 'order_timestamp': '2024-10-05 20:21:48', 'status': 'RECEIVED', 'lat': 40.4142363663373, 'lon': -3.6996200978344707}\n",
      "Threshold met: Dispatching 2 orders.\n"
     ]
    },
    {
     "name": "stderr",
     "output_type": "stream",
     "text": [
      "                                                                                \r"
     ]
    },
    {
     "name": "stdout",
     "output_type": "stream",
     "text": [
      "Saved 2 orders to Delta table.\n",
      "Accumulated order: {'order_id': 'eb76b04b-9a0b-4246-a0fb-8d214133cc88', 'customer_id': 'cus-a334c5ff-8a6e-40ca-879b-39bba5a95f77', 'total_weight': 16.479408147490506, 'total_volume': 495.5580592686633, 'total_price': 668.91133957571, 'order_timestamp': '2024-10-05 20:22:12', 'status': 'RECEIVED', 'lat': 40.38905130766329, 'lon': -3.769077383991557}\n",
      "Accumulated order: {'order_id': 'a35e61b0-ed19-4b2a-b00b-d17e8e08592a', 'customer_id': 'cus-d32a1dd2-3708-4ce3-88d8-e4cca3316b85', 'total_weight': 37.52436266019153, 'total_volume': 103.27499818119209, 'total_price': 369.6189813864937, 'order_timestamp': '2024-10-05 20:22:30', 'status': 'RECEIVED', 'lat': 40.38403656317996, 'lon': -3.839204753093666}\n",
      "Threshold met: Dispatching 2 orders.\n"
     ]
    },
    {
     "name": "stderr",
     "output_type": "stream",
     "text": [
      "                                                                                \r"
     ]
    },
    {
     "name": "stdout",
     "output_type": "stream",
     "text": [
      "Saved 2 orders to Delta table.\n",
      "Accumulated order: {'order_id': '2767121b-8941-4df3-ae2c-5e3e1cdc460a', 'customer_id': 'cus-79f08cf1-014c-4bc2-831e-53317235a0db', 'total_weight': 56.10422221122829, 'total_volume': 89.40950465702825, 'total_price': 606.2014619613635, 'order_timestamp': '2024-10-05 20:22:54', 'status': 'RECEIVED', 'lat': 40.552063411345834, 'lon': -3.7077107618832383}\n",
      "Accumulated order: {'order_id': '4c4faf3f-a8b1-4cb4-bd51-797f7f4b56ab', 'customer_id': 'cus-d5bd5e8b-fc57-4bfe-bd52-21ff7f9006ec', 'total_weight': 31.04931973530884, 'total_volume': 428.21858053713885, 'total_price': 470.3329396416331, 'order_timestamp': '2024-10-05 20:23:15', 'status': 'RECEIVED', 'lat': 40.42693131589948, 'lon': -3.570487488960998}\n",
      "Threshold met: Dispatching 2 orders.\n"
     ]
    },
    {
     "name": "stderr",
     "output_type": "stream",
     "text": [
      "                                                                                \r"
     ]
    },
    {
     "name": "stdout",
     "output_type": "stream",
     "text": [
      "Saved 2 orders to Delta table.\n",
      "Accumulated order: {'order_id': 'b3004c5f-f0ec-4890-b996-e62de85f0cd7', 'customer_id': 'cus-99864ac6-3738-4823-9043-3fbb4d04ad1c', 'total_weight': 79.26775809241404, 'total_volume': 416.35850357940905, 'total_price': 256.10210315633725, 'order_timestamp': '2024-10-05 20:23:42', 'status': 'RECEIVED', 'lat': 40.31232404318786, 'lon': -3.791077070245305}\n",
      "Accumulated order: {'order_id': 'c19787b2-f045-4ad9-aa88-56c5f741f7d3', 'customer_id': 'cus-e8b212a5-c563-4017-b39d-313a10f977d3', 'total_weight': 96.01298091284497, 'total_volume': 452.00619152489867, 'total_price': 648.5573624905193, 'order_timestamp': '2024-10-05 20:23:59', 'status': 'RECEIVED', 'lat': 40.41633233035472, 'lon': -3.6308098822703596}\n",
      "Threshold met: Dispatching 2 orders.\n"
     ]
    },
    {
     "name": "stderr",
     "output_type": "stream",
     "text": [
      "                                                                                \r"
     ]
    },
    {
     "name": "stdout",
     "output_type": "stream",
     "text": [
      "Saved 2 orders to Delta table.\n",
      "Accumulated order: {'order_id': '7e596c66-a1da-4430-a78f-79c596bf0f8a', 'customer_id': 'cus-5b13ca7a-9b70-4bf2-9ef6-131ff36f8dfb', 'total_weight': 40.049996310438644, 'total_volume': 266.08990806779246, 'total_price': 139.72482228938114, 'order_timestamp': '2024-10-05 20:24:27', 'status': 'RECEIVED', 'lat': 40.638765637749685, 'lon': -3.7199088158973095}\n",
      "Accumulated order: {'order_id': '19d8ae10-9d88-4338-aae2-888ddcc03490', 'customer_id': 'cus-d50ad08d-fa15-4a14-876a-f1bdf2e63d2d', 'total_weight': 80.72157472697096, 'total_volume': 470.02241540207757, 'total_price': 58.115329085335176, 'order_timestamp': '2024-10-05 20:24:56', 'status': 'RECEIVED', 'lat': 40.550472149832785, 'lon': -3.7270389318044543}\n",
      "Threshold met: Dispatching 2 orders.\n"
     ]
    },
    {
     "name": "stderr",
     "output_type": "stream",
     "text": [
      "                                                                                \r"
     ]
    },
    {
     "name": "stdout",
     "output_type": "stream",
     "text": [
      "Saved 2 orders to Delta table.\n",
      "Accumulated order: {'order_id': '6cdbd82b-44a9-4779-92d2-1ad483ec9efc', 'customer_id': 'cus-49eeebc8-a160-494b-9e0e-b0e9218a041b', 'total_weight': 30.141300702263766, 'total_volume': 115.57229256077119, 'total_price': 266.5491144704982, 'order_timestamp': '2024-10-05 20:25:21', 'status': 'RECEIVED', 'lat': 40.50045845222592, 'lon': -3.5914232448691443}\n",
      "Accumulated order: {'order_id': '5bd1ed73-852f-4722-8d8a-a03a945878f5', 'customer_id': 'cus-00097f86-37a7-4582-b693-293c6211efa8', 'total_weight': 82.88708162871943, 'total_volume': 247.80889397383274, 'total_price': 995.4142218721298, 'order_timestamp': '2024-10-05 20:25:50', 'status': 'RECEIVED', 'lat': 40.39944715216579, 'lon': -3.6339109399149723}\n",
      "Accumulated order: {'order_id': '488fcdd0-5f23-4f74-89c5-803994f76eae', 'customer_id': 'cus-f5a5e67e-5640-48f0-a906-67b3ae81b52b', 'total_weight': 48.00180602590836, 'total_volume': 339.8517668799646, 'total_price': 160.43870741573932, 'order_timestamp': '2024-10-05 20:26:01', 'status': 'RECEIVED', 'lat': 40.48434492296084, 'lon': -3.7055768896646293}\n",
      "Threshold met: Dispatching 3 orders.\n"
     ]
    },
    {
     "name": "stderr",
     "output_type": "stream",
     "text": [
      "                                                                                \r"
     ]
    },
    {
     "name": "stdout",
     "output_type": "stream",
     "text": [
      "Saved 3 orders to Delta table.\n",
      "Accumulated order: {'order_id': 'd246f9f4-0dda-43f7-92ff-ff5d47605fb8', 'customer_id': 'cus-3321f8ca-1dc2-466b-bb1d-aa88ddb22c65', 'total_weight': 24.79718652861794, 'total_volume': 18.322192244574396, 'total_price': 130.4715385695824, 'order_timestamp': '2024-10-05 20:26:24', 'status': 'RECEIVED', 'lat': 40.61909843530705, 'lon': -3.7283973423904775}\n",
      "Accumulated order: {'order_id': '1055d246-4059-4bf9-b597-333047c9d4e3', 'customer_id': 'cus-0e11566c-4bbe-414c-bae1-51d5333a1855', 'total_weight': 42.541217581464934, 'total_volume': 360.95416378477285, 'total_price': 290.26237867120955, 'order_timestamp': '2024-10-05 20:26:47', 'status': 'RECEIVED', 'lat': 40.561960080596585, 'lon': -3.8598681690656083}\n",
      "Accumulated order: {'order_id': 'dbee82c0-55e6-4ee4-bc1d-bfd6e97be755', 'customer_id': 'cus-c04f9b2f-c4ab-4054-ae87-7b38af342670', 'total_weight': 40.12264034600407, 'total_volume': 177.10920995115708, 'total_price': 59.66731700411299, 'order_timestamp': '2024-10-05 20:27:00', 'status': 'RECEIVED', 'lat': 40.35481398351116, 'lon': -3.5876524292412}\n",
      "Threshold met: Dispatching 3 orders.\n"
     ]
    },
    {
     "name": "stderr",
     "output_type": "stream",
     "text": [
      "                                                                                \r"
     ]
    },
    {
     "name": "stdout",
     "output_type": "stream",
     "text": [
      "Saved 3 orders to Delta table.\n",
      "Accumulated order: {'order_id': '2e10b026-1b94-4251-97e7-b7ab59c3e73a', 'customer_id': 'cus-a6c2f921-9b79-4f2c-baa9-a59f5abfaf9a', 'total_weight': 94.41835095878609, 'total_volume': 164.14998295176693, 'total_price': 597.0769093066157, 'order_timestamp': '2024-10-05 20:27:27', 'status': 'RECEIVED', 'lat': 40.36745054636125, 'lon': -3.668932344715317}\n",
      "Accumulated order: {'order_id': 'b0a65b6f-3ca9-43d3-9da3-ac7e3c816fe6', 'customer_id': 'cus-0361ae09-8485-4583-b79d-a63536c99581', 'total_weight': 23.104403024938684, 'total_volume': 485.6561980695319, 'total_price': 185.70565065167534, 'order_timestamp': '2024-10-05 20:27:56', 'status': 'RECEIVED', 'lat': 40.582472047802945, 'lon': -3.7237190242495175}\n",
      "Threshold met: Dispatching 2 orders.\n"
     ]
    },
    {
     "name": "stderr",
     "output_type": "stream",
     "text": [
      "                                                                                \r"
     ]
    },
    {
     "name": "stdout",
     "output_type": "stream",
     "text": [
      "Saved 2 orders to Delta table.\n",
      "Accumulated order: {'order_id': '0bb84045-4add-4e27-83a3-f2aec5caa2df', 'customer_id': 'cus-447614fa-52ba-4fa5-9340-2678dcbe96ad', 'total_weight': 83.73579088546752, 'total_volume': 31.616799641092225, 'total_price': 760.3526086050654, 'order_timestamp': '2024-10-05 20:28:19', 'status': 'RECEIVED', 'lat': 40.44640880300795, 'lon': -3.6986996650252233}\n",
      "Accumulated order: {'order_id': '4317f9a8-7abc-4364-aed2-aa9cfb9574ed', 'customer_id': 'cus-7950ef3e-8573-44fa-8e18-ac7e81a45fb0', 'total_weight': 85.3651372965385, 'total_volume': 199.91015828228706, 'total_price': 212.86381560978074, 'order_timestamp': '2024-10-05 20:28:43', 'status': 'RECEIVED', 'lat': 40.485635935744476, 'lon': -3.7310533711174263}\n",
      "Accumulated order: {'order_id': '423ba676-7192-4812-b94b-b2754073e4fe', 'customer_id': 'cus-2d4f3f10-f1b0-41e5-a8b5-69f8ce58d624', 'total_weight': 75.35676140026804, 'total_volume': 118.74790285992128, 'total_price': 360.911636216236, 'order_timestamp': '2024-10-05 20:29:12', 'status': 'RECEIVED', 'lat': 40.4720410388027, 'lon': -3.7680343283355247}\n",
      "Accumulated order: {'order_id': '14563b63-0ec5-4d67-b780-d85cf5821af0', 'customer_id': 'cus-47f8c8f6-98f5-4fdf-9462-a984463a6262', 'total_weight': 71.92876277835545, 'total_volume': 255.5993839035746, 'total_price': 189.28350773708135, 'order_timestamp': '2024-10-05 20:29:32', 'status': 'RECEIVED', 'lat': 40.47935083986012, 'lon': -3.68752142694429}\n",
      "Threshold met: Dispatching 4 orders.\n"
     ]
    },
    {
     "name": "stderr",
     "output_type": "stream",
     "text": [
      "                                                                                \r"
     ]
    },
    {
     "name": "stdout",
     "output_type": "stream",
     "text": [
      "Saved 4 orders to Delta table.\n",
      "Accumulated order: {'order_id': '761c36b4-9947-47e7-b120-013cb2c7d873', 'customer_id': 'cus-5de58b93-4f99-4a24-8231-17f86f32b3bf', 'total_weight': 33.78508959223261, 'total_volume': 42.813537055517244, 'total_price': 194.86764969084203, 'order_timestamp': '2024-10-05 20:29:49', 'status': 'RECEIVED', 'lat': 40.43635264690259, 'lon': -3.818244706869084}\n",
      "Accumulated order: {'order_id': 'ce8b56b5-3b7c-4e62-bbe9-db60b422b763', 'customer_id': 'cus-7fbc8eb2-324e-4874-93eb-364475f51b8b', 'total_weight': 51.900029193141634, 'total_volume': 63.09417476343221, 'total_price': 466.6595915050284, 'order_timestamp': '2024-10-05 20:30:01', 'status': 'RECEIVED', 'lat': 40.38107837189181, 'lon': -3.8094346553617724}\n",
      "Accumulated order: {'order_id': 'e219e1af-397d-44e0-94a9-5459787456de', 'customer_id': 'cus-cc4157eb-7e09-4d5a-95ef-0ad28609d91e', 'total_weight': 58.258605105239525, 'total_volume': 45.918506740210894, 'total_price': 956.4549301624764, 'order_timestamp': '2024-10-05 20:30:29', 'status': 'RECEIVED', 'lat': 40.537642962197765, 'lon': -3.8037119887394004}\n",
      "Accumulated order: {'order_id': '2feea922-7010-4179-b7b8-42ca542c9de7', 'customer_id': 'cus-18818ff1-6683-473d-a6c4-a0a0d3ed3c20', 'total_weight': 18.07706642625221, 'total_volume': 406.9219205256971, 'total_price': 792.705930953888, 'order_timestamp': '2024-10-05 20:30:54', 'status': 'RECEIVED', 'lat': 40.55801310385431, 'lon': -3.595886660739651}\n",
      "Threshold met: Dispatching 4 orders.\n"
     ]
    },
    {
     "name": "stderr",
     "output_type": "stream",
     "text": [
      "                                                                                \r"
     ]
    },
    {
     "name": "stdout",
     "output_type": "stream",
     "text": [
      "Saved 4 orders to Delta table.\n",
      "Accumulated order: {'order_id': '75d76964-45e0-4ea8-9024-4b81eea21ad9', 'customer_id': 'cus-dce58a2d-f3a8-425f-a74b-ff1b338dd73a', 'total_weight': 34.88869214481892, 'total_volume': 473.89455567689475, 'total_price': 917.8236686436388, 'order_timestamp': '2024-10-05 20:31:17', 'status': 'RECEIVED', 'lat': 40.62527353394663, 'lon': -3.7068902406227497}\n",
      "Accumulated order: {'order_id': '81fc91ae-871d-47d2-bd94-3f4b398cfce6', 'customer_id': 'cus-eaf6010e-e9f2-46a6-bb51-06206b6a7e6f', 'total_weight': 8.564754594209866, 'total_volume': 468.94692487186876, 'total_price': 922.1419792625402, 'order_timestamp': '2024-10-05 20:31:42', 'status': 'RECEIVED', 'lat': 40.605588953511734, 'lon': -3.6059403947532984}\n",
      "Threshold met: Dispatching 2 orders.\n"
     ]
    },
    {
     "name": "stderr",
     "output_type": "stream",
     "text": [
      "                                                                                \r"
     ]
    },
    {
     "name": "stdout",
     "output_type": "stream",
     "text": [
      "Saved 2 orders to Delta table.\n",
      "Accumulated order: {'order_id': '6d959e84-d953-471a-8598-5d713243406d', 'customer_id': 'cus-8ae5bb0e-0c1e-4ee1-9c85-14661912a79e', 'total_weight': 30.563421310640226, 'total_volume': 357.1335118447459, 'total_price': 608.1940051190887, 'order_timestamp': '2024-10-05 20:32:00', 'status': 'RECEIVED', 'lat': 40.55634181056684, 'lon': -3.7031527686828083}\n",
      "Accumulated order: {'order_id': '75919185-4cf1-4cf3-8a23-9ad70d3293da', 'customer_id': 'cus-84e414ab-76f0-47f7-8d26-a993b00d6660', 'total_weight': 2.004647525186456, 'total_volume': 63.22251989131597, 'total_price': 449.7262244505143, 'order_timestamp': '2024-10-05 20:32:20', 'status': 'RECEIVED', 'lat': 40.621050147582785, 'lon': -3.5864777693850223}\n"
     ]
    },
    {
     "ename": "KeyboardInterrupt",
     "evalue": "",
     "output_type": "error",
     "traceback": [
      "\u001b[0;31m---------------------------------------------------------------------------\u001b[0m",
      "\u001b[0;31mKeyboardInterrupt\u001b[0m                         Traceback (most recent call last)",
      "Cell \u001b[0;32mIn[8], line 65\u001b[0m\n\u001b[1;32m     62\u001b[0m shard_iterator \u001b[38;5;241m=\u001b[39m get_shard_iterator(stream_name, shard_id)\n\u001b[1;32m     64\u001b[0m \u001b[38;5;66;03m# Start the dispatcher\u001b[39;00m\n\u001b[0;32m---> 65\u001b[0m \u001b[43mdispatcher\u001b[49m\u001b[43m(\u001b[49m\u001b[43mshard_iterator\u001b[49m\u001b[43m)\u001b[49m\n",
      "Cell \u001b[0;32mIn[8], line 57\u001b[0m, in \u001b[0;36mdispatcher\u001b[0;34m(shard_iterator)\u001b[0m\n\u001b[1;32m     55\u001b[0m \u001b[38;5;66;03m# Update shard iterator for the next batch\u001b[39;00m\n\u001b[1;32m     56\u001b[0m shard_iterator \u001b[38;5;241m=\u001b[39m response[\u001b[38;5;124m'\u001b[39m\u001b[38;5;124mNextShardIterator\u001b[39m\u001b[38;5;124m'\u001b[39m]\n\u001b[0;32m---> 57\u001b[0m time\u001b[38;5;241m.\u001b[39msleep(\u001b[38;5;241m2\u001b[39m)\n",
      "\u001b[0;31mKeyboardInterrupt\u001b[0m: "
     ]
    }
   ],
   "source": [
    "import time\n",
    "import json\n",
    "\n",
    "# Initialize buffer, limits, and thresholds\n",
    "order_buffer = []\n",
    "weight_threshold = 700  # Example weight threshold (can be adjusted)\n",
    "volume_threshold = 500  # Example volume threshold (can be adjusted)\n",
    "time_threshold = 60 * 45 # Example time threshold (e.g., 30 minutes)\n",
    "buffer_limit = 10000      # Optional, max number of orders in the buffer\n",
    "last_flush_time = time.time()\n",
    "\n",
    "# S3 path for Delta table\n",
    "delta_table_path = \"s3a://orders-for-dispatch/dispatching\"\n",
    "\n",
    "# Dispatcher function to read Kinesis records, accumulate, and process them\n",
    "def dispatcher(shard_iterator):\n",
    "    global order_buffer, last_flush_time\n",
    "\n",
    "    while True:\n",
    "        # Fetch records from Kinesis using shard_iterator\n",
    "        response = kinesis_client.get_records(ShardIterator=shard_iterator)\n",
    "        records = response['Records']\n",
    "\n",
    "        # Parse and accumulate orders\n",
    "        for record in records:\n",
    "            order_data = json.loads(record['Data'])\n",
    "            order_buffer.append(order_data)\n",
    "            print(f\"Accumulated order: {order_data}\")\n",
    "\n",
    "        # Convert timestamps if necessary\n",
    "        order_buffer = convert_timestamps(order_buffer)\n",
    "\n",
    "        # Calculate accumulated weight and volume\n",
    "        total_weight = sum(order['total_weight'] for order in order_buffer)\n",
    "        total_volume = sum(order['total_volume'] for order in order_buffer)\n",
    "        time_elapsed = time.time() - last_flush_time\n",
    "\n",
    "        # Check if any thresholds are met (weight, volume, or time)\n",
    "        if total_weight >= weight_threshold or total_volume >= volume_threshold or time_elapsed >= time_threshold:\n",
    "            print(f\"Threshold met: Dispatching {len(order_buffer)} orders.\")\n",
    "            \n",
    "            # Update the status of all orders to 'DISPATCH_READY'\n",
    "            for order in order_buffer:\n",
    "                order['status'] = 'READY_FOR_DISPATCH'\n",
    "\n",
    "            # Convert buffer to DataFrame and write to Delta table\n",
    "            df = spark.createDataFrame(order_buffer, schema=schema)\n",
    "            df.write.format(\"delta\").mode(\"append\").save(delta_table_path)\n",
    "            print(f\"Saved {len(order_buffer)} orders to Delta table.\")\n",
    "            \n",
    "            # Clear the buffer and reset flush time\n",
    "            order_buffer.clear()\n",
    "            last_flush_time = time.time()\n",
    "\n",
    "        # Update shard iterator for the next batch\n",
    "        shard_iterator = response['NextShardIterator']\n",
    "        time.sleep(2)  # Sleep to avoid rate limits\n",
    "\n",
    "# Get the shard iterator\n",
    "stream_name = 'OrderStreamForDispatching'  # Replace with your stream name\n",
    "shard_id = 'shardId-000000000000'  # Get the shard ID from the stream's details\n",
    "shard_iterator = get_shard_iterator(stream_name, shard_id)\n",
    "\n",
    "# Start the dispatcher\n",
    "dispatcher(shard_iterator)\n"
   ]
  },
  {
   "cell_type": "code",
   "execution_count": 9,
   "metadata": {},
   "outputs": [],
   "source": [
    "spark.stop()"
   ]
  }
 ],
 "metadata": {
  "kernelspec": {
   "display_name": "route-optimizer-AqO2e-Ud-py3.11",
   "language": "python",
   "name": "python3"
  },
  "language_info": {
   "codemirror_mode": {
    "name": "ipython",
    "version": 3
   },
   "file_extension": ".py",
   "mimetype": "text/x-python",
   "name": "python",
   "nbconvert_exporter": "python",
   "pygments_lexer": "ipython3",
   "version": "3.11.8"
  }
 },
 "nbformat": 4,
 "nbformat_minor": 2
}

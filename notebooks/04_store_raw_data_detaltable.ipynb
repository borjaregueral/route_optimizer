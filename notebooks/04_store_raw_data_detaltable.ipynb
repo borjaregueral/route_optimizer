{
 "cells": [
  {
   "cell_type": "code",
   "execution_count": 25,
   "metadata": {},
   "outputs": [],
   "source": [
    "from pyspark.sql import SparkSession\n",
    "from pyspark.sql.functions import col, from_json\n",
    "from pyspark.sql.types import StructType, StructField, StringType, DoubleType, IntegerType, LongType, TimestampType\n",
    "from dotenv import load_dotenv\n",
    "import os\n",
    "import json\n",
    "import time\n",
    "import boto3\n",
    "from pyspark.sql import SparkSession\n",
    "from datetime import datetime "
   ]
  },
  {
   "cell_type": "code",
   "execution_count": 26,
   "metadata": {},
   "outputs": [],
   "source": [
    "# Load environment variables from .env file\n",
    "load_dotenv()\n",
    "\n",
    "# Initialize AWS credentials from the .env file\n",
    "AWS_ACCESS_KEY_ID = os.getenv('AWS_ACCESS_KEY_ID')\n",
    "AWS_SECRET_ACCESS_KEY = os.getenv('AWS_SECRET_ACCESS_KEY')\n",
    "AWS_SESSION_TOKEN = os.getenv('AWS_SESSION_TOKEN')\n",
    "AWS_REGION = os.getenv('AWS_REGION')"
   ]
  },
  {
   "cell_type": "code",
   "execution_count": 27,
   "metadata": {},
   "outputs": [],
   "source": [
    "#spark.stop()"
   ]
  },
  {
   "cell_type": "code",
   "execution_count": 28,
   "metadata": {},
   "outputs": [],
   "source": [
    "from pyspark.sql import SparkSession\n",
    "\n",
    "# Path to your local JAR files\n",
    "local_jars = \"/Users/borja/Documents/Somniumrema/projects/de/route_optimizer/jars/aws-java-sdk-kinesis-1.12.364.jar\"\n",
    "\n",
    "# Initialize Spark session with Delta and S3 settings\n",
    "spark = SparkSession.builder \\\n",
    "    .appName(\"KinesisToDeltaLake\") \\\n",
    "    .config(\"spark.sql.extensions\", \"io.delta.sql.DeltaSparkSessionExtension\") \\\n",
    "    .config(\"spark.sql.catalog.spark_catalog\", \"org.apache.spark.sql.delta.catalog.DeltaCatalog\") \\\n",
    "    .config(\"spark.jars.packages\", \"io.delta:delta-core_2.12:2.4.0,org.apache.hadoop:hadoop-aws:3.3.2,com.amazonaws:aws-java-sdk-bundle:1.11.1026\") \\\n",
    "    .config(\"spark.hadoop.fs.s3a.impl\", \"org.apache.hadoop.fs.s3a.S3AFileSystem\") \\\n",
    "    .config(\"spark.hadoop.fs.s3a.access.key\", AWS_ACCESS_KEY_ID) \\\n",
    "    .config(\"spark.hadoop.fs.s3a.secret.key\", AWS_SECRET_ACCESS_KEY) \\\n",
    "    .config(\"spark.hadoop.fs.s3a.session.token\", AWS_SESSION_TOKEN) \\\n",
    "    .config(\"spark.hadoop.fs.s3a.endpoint\", \"s3.amazonaws.com\") \\\n",
    "    .config(\"spark.sql.files.maxPartitionBytes\", \"134217728\") \\\n",
    "    .getOrCreate()\n",
    "\n",
    "# Optional: Adjust logging level\n",
    "spark.sparkContext.setLogLevel(\"WARN\")"
   ]
  },
  {
   "cell_type": "code",
   "execution_count": 29,
   "metadata": {},
   "outputs": [],
   "source": [
    "# Initialize boto3 client for Kinesis with your credentials\n",
    "kinesis_client = boto3.client(\n",
    "    'kinesis',\n",
    "    aws_access_key_id=AWS_ACCESS_KEY_ID,\n",
    "    aws_secret_access_key=AWS_SECRET_ACCESS_KEY,\n",
    "    aws_session_token=AWS_SESSION_TOKEN,\n",
    "    region_name=AWS_REGION\n",
    ")"
   ]
  },
  {
   "cell_type": "code",
   "execution_count": 30,
   "metadata": {},
   "outputs": [],
   "source": [
    "# Define the schema\n",
    "schema = StructType([\n",
    "    StructField(\"order_id\", StringType(), True),\n",
    "    StructField(\"customer_id\", StringType(), True),\n",
    "    StructField(\"total_weight\", DoubleType(), True),\n",
    "    StructField(\"total_volume\", DoubleType(), True),\n",
    "    StructField(\"total_price\", DoubleType(), True),\n",
    "    StructField(\"order_timestamp\", TimestampType(), True),\n",
    "    StructField(\"status\", StringType(), True),\n",
    "    StructField(\"lat\", DoubleType(), True),\n",
    "    StructField(\"lon\", DoubleType(), True)\n",
    "])"
   ]
  },
  {
   "cell_type": "code",
   "execution_count": 31,
   "metadata": {},
   "outputs": [],
   "source": [
    "# Function to convert the timestamps to proper datetime objects\n",
    "def convert_timestamps(orders):\n",
    "    for order in orders:\n",
    "        if isinstance(order['order_timestamp'], str):\n",
    "            # Only convert if the timestamp is a string\n",
    "            order['order_timestamp'] = datetime.strptime(order['order_timestamp'], '%Y-%m-%d %H:%M:%S')\n",
    "    return orders\n",
    "\n",
    "# Function to convert the location field from MapType to StructType\n",
    "def transform_location(order):\n",
    "    if isinstance(order['location'], dict):\n",
    "        location_data = order['location']\n",
    "        order['location'] = {\n",
    "            \"address\": location_data['address'],\n",
    "            \"lat\": float(location_data['lat']),\n",
    "            \"lon\": float(location_data['lon'])\n",
    "        }\n",
    "    return order\n",
    "\n",
    "# Function to get the shard iterator\n",
    "def get_shard_iterator(stream_name, shard_id):\n",
    "    response = kinesis_client.get_shard_iterator(\n",
    "        StreamName=stream_name,\n",
    "        ShardId=shard_id,\n",
    "        ShardIteratorType='LATEST'  # or 'LATEST' for new records\n",
    "    )\n",
    "    return response['ShardIterator']\n",
    "\n",
    "# Function to read records from the Kinesis stream\n",
    "def read_kinesis_records(stream_name, shard_iterator):\n",
    "    while True:\n",
    "        response = kinesis_client.get_records(ShardIterator=shard_iterator, Limit=100)\n",
    "        records = response['Records']\n",
    "        for record in records:\n",
    "            # No need to base64 decode, just parse the data directly\n",
    "            order_data = record['Data']\n",
    "            order = json.loads(order_data)\n",
    "            print(\"Received order:\", order)\n",
    "\n",
    "        # Update the shard iterator for the next batch of records\n",
    "        shard_iterator = response['NextShardIterator']\n",
    "\n",
    "        # Sleep to avoid hitting API rate limits\n",
    "        time.sleep(1)"
   ]
  },
  {
   "cell_type": "code",
   "execution_count": 32,
   "metadata": {},
   "outputs": [
    {
     "name": "stdout",
     "output_type": "stream",
     "text": [
      "Accumulated order: {'order_id': 'a2cd0a55-1478-4547-95a0-604e9064c322', 'customer_id': 'cus-d352a54f-081c-474f-9385-4cacfeb28550', 'total_weight': 50.24349559200699, 'total_volume': 230.2995934060175, 'total_price': 464.91533542238864, 'order_timestamp': '2024-10-03 03:28:51', 'status': 'RECEIVED', 'lat': 40.4144975398355, 'lon': -3.6476090614891197}\n",
      "Accumulated order: {'order_id': 'bfc9983d-23f7-4163-8c03-98cc7a041555', 'customer_id': 'cus-f1595d2d-7f14-455e-95f8-3cfa96d040e4', 'total_weight': 48.517479450213614, 'total_volume': 151.80363378642684, 'total_price': 576.5663611345955, 'order_timestamp': '2024-10-03 03:28:52', 'status': 'RECEIVED', 'lat': 40.58429278033965, 'lon': -3.6723275932801482}\n",
      "Threshold met: Dispatching 2 orders.\n"
     ]
    },
    {
     "name": "stderr",
     "output_type": "stream",
     "text": [
      "                                                                                \r"
     ]
    },
    {
     "name": "stdout",
     "output_type": "stream",
     "text": [
      "Saved 2 orders to Delta table.\n",
      "Accumulated order: {'order_id': '5745fd6b-50c3-4312-bb01-4166198341fe', 'customer_id': 'cus-2260441b-7585-4cff-b1e9-f9787083a80b', 'total_weight': 58.88165842260217, 'total_volume': 306.4266408049731, 'total_price': 111.27774445952106, 'order_timestamp': '2024-10-03 03:28:53', 'status': 'RECEIVED', 'lat': 40.428046957340584, 'lon': -3.576625841448611}\n",
      "Accumulated order: {'order_id': '672832ba-7972-4cb3-bd63-55d47800d25c', 'customer_id': 'cus-1e36370f-561f-4079-b666-c2e7723f2c0e', 'total_weight': 44.15439393755439, 'total_volume': 128.28959664119728, 'total_price': 111.22498346602471, 'order_timestamp': '2024-10-03 03:28:58', 'status': 'RECEIVED', 'lat': 40.35225661127856, 'lon': -3.7780006064006884}\n",
      "Accumulated order: {'order_id': '6f0b12bc-7dfc-4432-8b19-25a1d545ee26', 'customer_id': 'cus-c7255b5b-f67f-4f66-b5dc-1d340ab2cbeb', 'total_weight': 30.93436584680427, 'total_volume': 361.3511529789953, 'total_price': 109.69888627248581, 'order_timestamp': '2024-10-03 03:28:59', 'status': 'RECEIVED', 'lat': 40.37587721528003, 'lon': -3.8458455782855085}\n",
      "Threshold met: Dispatching 3 orders.\n"
     ]
    },
    {
     "name": "stderr",
     "output_type": "stream",
     "text": [
      "                                                                                \r"
     ]
    },
    {
     "name": "stdout",
     "output_type": "stream",
     "text": [
      "Saved 3 orders to Delta table.\n",
      "Accumulated order: {'order_id': '84480db6-91fe-440a-88a1-4db7e1a33d75', 'customer_id': 'cus-30e3b389-4422-45f2-9cd2-88786e803733', 'total_weight': 72.1901243513759, 'total_volume': 73.28362535583715, 'total_price': 677.8554469928214, 'order_timestamp': '2024-10-03 03:29:04', 'status': 'RECEIVED', 'lat': 40.56922872974951, 'lon': -3.7982647031500174}\n",
      "Accumulated order: {'order_id': 'bd0b02bd-31e0-4880-928a-c98faac904f3', 'customer_id': 'cus-a939ebd7-17ee-4f03-9d66-0143e6df5161', 'total_weight': 88.95039929601127, 'total_volume': 267.78345207028593, 'total_price': 655.5447554905642, 'order_timestamp': '2024-10-03 03:29:05', 'status': 'RECEIVED', 'lat': 40.55046202585554, 'lon': -3.706952056857951}\n",
      "Accumulated order: {'order_id': 'edcf7ff2-66b5-443f-b6a2-d0ddf01f1b30', 'customer_id': 'cus-2a0cddf4-cfc0-45f8-8502-abe13dee4284', 'total_weight': 17.259033231844175, 'total_volume': 445.6190094796965, 'total_price': 550.4551319757289, 'order_timestamp': '2024-10-03 03:29:09', 'status': 'RECEIVED', 'lat': 40.52626939841648, 'lon': -3.5995964047383446}\n",
      "Threshold met: Dispatching 3 orders.\n"
     ]
    },
    {
     "name": "stderr",
     "output_type": "stream",
     "text": [
      "                                                                                \r"
     ]
    },
    {
     "name": "stdout",
     "output_type": "stream",
     "text": [
      "Saved 3 orders to Delta table.\n",
      "Accumulated order: {'order_id': 'b961bacd-1430-495e-9f16-97dcc45af8f8', 'customer_id': 'cus-0c77cf12-ac06-43b9-8a79-31afc67d7de1', 'total_weight': 3.1571422581544826, 'total_volume': 298.11847062150247, 'total_price': 731.8285689833602, 'order_timestamp': '2024-10-03 03:29:13', 'status': 'RECEIVED', 'lat': 40.64490857977663, 'lon': -3.652433484248254}\n",
      "Accumulated order: {'order_id': 'a4079fc6-a8d5-4c0c-b527-f80c493d582e', 'customer_id': 'cus-1c2638df-a1c1-4e5e-89a4-ea6191fa09fb', 'total_weight': 59.691198598938726, 'total_volume': 467.8211192765681, 'total_price': 644.943878516838, 'order_timestamp': '2024-10-03 03:29:16', 'status': 'RECEIVED', 'lat': 40.41386973125359, 'lon': -3.6560283921570176}\n",
      "Threshold met: Dispatching 2 orders.\n"
     ]
    },
    {
     "name": "stderr",
     "output_type": "stream",
     "text": [
      "                                                                                \r"
     ]
    },
    {
     "name": "stdout",
     "output_type": "stream",
     "text": [
      "Saved 2 orders to Delta table.\n",
      "Accumulated order: {'order_id': '5399273a-82e1-4ca4-b437-effff04d670d', 'customer_id': 'cus-99826dbf-a9fe-431b-95e7-eb7e01c9e2b2', 'total_weight': 96.25855669558426, 'total_volume': 170.38916914958972, 'total_price': 784.2206543526623, 'order_timestamp': '2024-10-03 03:29:19', 'status': 'RECEIVED', 'lat': 40.54888623050556, 'lon': -3.744010416526562}\n",
      "Accumulated order: {'order_id': 'f492198f-bb13-4c07-ad78-1fe6e6a16849', 'customer_id': 'cus-2f527c49-a8e6-4d82-b936-2d6a4e1a752f', 'total_weight': 30.680417031314136, 'total_volume': 348.9601670537983, 'total_price': 292.0274341356672, 'order_timestamp': '2024-10-03 03:29:21', 'status': 'RECEIVED', 'lat': 40.48968175161479, 'lon': -3.820339619194109}\n",
      "Accumulated order: {'order_id': '42661805-2649-4d4f-a1cc-ede1cfea2050', 'customer_id': 'cus-313f79db-bfc4-4775-b765-05525bc0f73f', 'total_weight': 82.88947462279884, 'total_volume': 89.02021135773377, 'total_price': 243.52158147628816, 'order_timestamp': '2024-10-03 03:29:26', 'status': 'RECEIVED', 'lat': 40.37863052330596, 'lon': -3.66133083731901}\n",
      "Threshold met: Dispatching 3 orders.\n"
     ]
    },
    {
     "name": "stderr",
     "output_type": "stream",
     "text": [
      "                                                                                \r"
     ]
    },
    {
     "name": "stdout",
     "output_type": "stream",
     "text": [
      "Saved 3 orders to Delta table.\n",
      "Accumulated order: {'order_id': '00e87267-15f0-4077-948a-1ab81ff2bd67', 'customer_id': 'cus-e614c9ff-ef42-4d5d-97ca-752c6edb75f8', 'total_weight': 58.44216192997558, 'total_volume': 408.22713743944286, 'total_price': 519.2051794051508, 'order_timestamp': '2024-10-03 03:29:27', 'status': 'RECEIVED', 'lat': 40.48277185569072, 'lon': -3.6599028035634893}\n",
      "Accumulated order: {'order_id': '19be4cd2-60bf-4e61-ab6f-72b6e181047d', 'customer_id': 'cus-65ca0831-b406-46f3-a6aa-4b5c4fdb9bf0', 'total_weight': 94.69422916408409, 'total_volume': 188.4398716487217, 'total_price': 652.5068471965462, 'order_timestamp': '2024-10-03 03:29:30', 'status': 'RECEIVED', 'lat': 40.31589731819739, 'lon': -3.714286264007037}\n",
      "Threshold met: Dispatching 2 orders.\n"
     ]
    },
    {
     "name": "stderr",
     "output_type": "stream",
     "text": [
      "                                                                                \r"
     ]
    },
    {
     "name": "stdout",
     "output_type": "stream",
     "text": [
      "Saved 2 orders to Delta table.\n",
      "Accumulated order: {'order_id': '2278325a-4750-4bf1-8dad-31674469c5d4', 'customer_id': 'cus-ecd091c4-91ee-4449-b9d2-7b38c0ed44d9', 'total_weight': 1.193613536122798, 'total_volume': 121.57733232918049, 'total_price': 886.822133557382, 'order_timestamp': '2024-10-03 03:29:35', 'status': 'RECEIVED', 'lat': 40.583862749016774, 'lon': -3.728352818309908}\n",
      "Accumulated order: {'order_id': '0f229ce5-284d-4755-87aa-48f7c8f5f756', 'customer_id': 'cus-45aaaea9-81d1-49fc-aba5-35692ba64573', 'total_weight': 40.11426056023342, 'total_volume': 103.92263727405202, 'total_price': 204.62111765843758, 'order_timestamp': '2024-10-03 03:29:38', 'status': 'RECEIVED', 'lat': 40.33042131498153, 'lon': -3.781308752550864}\n",
      "Accumulated order: {'order_id': '6462ae5a-d92d-4953-b484-541c5b7c142f', 'customer_id': 'cus-ca693a19-80da-40a1-b8d3-377404f372d6', 'total_weight': 48.241366979967324, 'total_volume': 190.47766150235054, 'total_price': 900.3170878791465, 'order_timestamp': '2024-10-03 03:29:40', 'status': 'RECEIVED', 'lat': 40.380652639144635, 'lon': -3.859395593451745}\n",
      "Threshold met: Dispatching 3 orders.\n"
     ]
    },
    {
     "name": "stderr",
     "output_type": "stream",
     "text": [
      "                                                                                \r"
     ]
    },
    {
     "name": "stdout",
     "output_type": "stream",
     "text": [
      "Saved 3 orders to Delta table.\n",
      "Accumulated order: {'order_id': 'a2b89b86-13fb-4bf7-831b-72326bafabe3', 'customer_id': 'cus-6bf87077-5e08-4fd1-838f-f3006e2f58dc', 'total_weight': 51.91328065838457, 'total_volume': 454.09330436935704, 'total_price': 503.29033208358646, 'order_timestamp': '2024-10-03 03:29:42', 'status': 'RECEIVED', 'lat': 40.32504615541614, 'lon': -3.6601375855664404}\n",
      "Accumulated order: {'order_id': '45016b4c-539f-4018-aeed-0a1c16065c01', 'customer_id': 'cus-9ef25f15-402d-4544-bb89-cc34a8b6caad', 'total_weight': 14.31662874544056, 'total_volume': 100.63390849224307, 'total_price': 996.4008999951797, 'order_timestamp': '2024-10-03 03:29:46', 'status': 'RECEIVED', 'lat': 40.34767508646556, 'lon': -3.6064301714925873}\n",
      "Accumulated order: {'order_id': 'cfb7854d-d9f1-476c-92e1-49d122bdc28f', 'customer_id': 'cus-c42061b9-ecf7-43ec-b2a3-996da0e347e8', 'total_weight': 2.46885282504842, 'total_volume': 447.85599760480284, 'total_price': 407.11068436879293, 'order_timestamp': '2024-10-03 03:29:48', 'status': 'RECEIVED', 'lat': 40.523645059159016, 'lon': -3.8281741001500764}\n",
      "Threshold met: Dispatching 3 orders.\n"
     ]
    },
    {
     "name": "stderr",
     "output_type": "stream",
     "text": [
      "                                                                                \r"
     ]
    },
    {
     "name": "stdout",
     "output_type": "stream",
     "text": [
      "Saved 3 orders to Delta table.\n",
      "Accumulated order: {'order_id': 'f997139d-ac2c-4efb-8670-3d357a2c4f83', 'customer_id': 'cus-2bdcc414-58ea-4f84-8e3a-e830a68dfdeb', 'total_weight': 56.63562360386277, 'total_volume': 186.6719928491948, 'total_price': 188.57300369783277, 'order_timestamp': '2024-10-03 03:29:52', 'status': 'RECEIVED', 'lat': 40.359449100720745, 'lon': -3.696714550454512}\n",
      "Accumulated order: {'order_id': '5bbb1b11-84b9-4063-a2b0-d5cba0a50915', 'customer_id': 'cus-607eff8c-4ad4-4a2e-8abe-1b72d8be173f', 'total_weight': 93.56297878334279, 'total_volume': 263.46680252659087, 'total_price': 340.0504072557011, 'order_timestamp': '2024-10-03 03:29:53', 'status': 'RECEIVED', 'lat': 40.359048692487264, 'lon': -3.6889593020307916}\n",
      "Accumulated order: {'order_id': 'c9c92207-9e3d-4248-9710-dedb9899ccb2', 'customer_id': 'cus-5b9324f6-e59f-403a-9505-802734cb9be5', 'total_weight': 39.08198158018332, 'total_volume': 311.76839696253967, 'total_price': 479.83285898645164, 'order_timestamp': '2024-10-03 03:29:57', 'status': 'RECEIVED', 'lat': 40.33006194161545, 'lon': -3.637714299861406}\n",
      "Threshold met: Dispatching 3 orders.\n"
     ]
    },
    {
     "name": "stderr",
     "output_type": "stream",
     "text": [
      "                                                                                \r"
     ]
    },
    {
     "name": "stdout",
     "output_type": "stream",
     "text": [
      "Saved 3 orders to Delta table.\n",
      "Accumulated order: {'order_id': '5a3646c0-fc0d-48cc-b20a-26da8ab5c07e', 'customer_id': 'cus-c85c717a-78fd-4c44-b151-14387d4b8d74', 'total_weight': 76.89711470276836, 'total_volume': 189.4248487210732, 'total_price': 934.4575800252746, 'order_timestamp': '2024-10-03 03:30:01', 'status': 'RECEIVED', 'lat': 40.34432315392608, 'lon': -3.756750482945305}\n",
      "Threshold met: Dispatching 1 orders.\n"
     ]
    },
    {
     "name": "stderr",
     "output_type": "stream",
     "text": [
      "                                                                                \r"
     ]
    },
    {
     "name": "stdout",
     "output_type": "stream",
     "text": [
      "Saved 1 orders to Delta table.\n",
      "Accumulated order: {'order_id': '6e732153-21cf-48a4-b57a-72ac52805319', 'customer_id': 'cus-eb59dcb2-e9f6-4618-9fd1-ce4edfe82f56', 'total_weight': 11.094735577695262, 'total_volume': 145.44833091436257, 'total_price': 855.0417856860107, 'order_timestamp': '2024-10-03 03:30:29', 'status': 'RECEIVED', 'lat': 40.46876017548401, 'lon': -3.785652437277328}\n",
      "Accumulated order: {'order_id': '4180b84e-9d03-4043-b10d-2c091704e4d6', 'customer_id': 'cus-b8cbb5c0-5b28-47d6-9540-0c3ef36d5ed3', 'total_weight': 68.5031615708456, 'total_volume': 282.50666760898105, 'total_price': 452.0562452134644, 'order_timestamp': '2024-10-03 03:30:39', 'status': 'RECEIVED', 'lat': 40.57757714586696, 'lon': -3.8292132860303356}\n",
      "Threshold met: Dispatching 2 orders.\n"
     ]
    },
    {
     "name": "stderr",
     "output_type": "stream",
     "text": [
      "                                                                                \r"
     ]
    },
    {
     "name": "stdout",
     "output_type": "stream",
     "text": [
      "Saved 2 orders to Delta table.\n",
      "Accumulated order: {'order_id': '471ff0a5-2d71-437c-b296-7c29ed66a2de', 'customer_id': 'cus-353e28e2-a1bb-44c2-98d8-750cf042a6b2', 'total_weight': 89.86688228654444, 'total_volume': 42.800186027793416, 'total_price': 885.1006818632128, 'order_timestamp': '2024-10-03 03:31:00', 'status': 'RECEIVED', 'lat': 40.55640483941277, 'lon': -3.6155475464761224}\n",
      "Threshold met: Dispatching 1 orders.\n"
     ]
    },
    {
     "name": "stderr",
     "output_type": "stream",
     "text": [
      "                                                                                \r"
     ]
    },
    {
     "name": "stdout",
     "output_type": "stream",
     "text": [
      "Saved 1 orders to Delta table.\n",
      "Accumulated order: {'order_id': 'ab5e47c3-9746-4465-8ded-1ef7be52f27a', 'customer_id': 'cus-2f223354-8820-471b-912f-55b6277bf74a', 'total_weight': 67.33967029370095, 'total_volume': 247.11035826742275, 'total_price': 562.2725310335214, 'order_timestamp': '2024-10-03 03:31:16', 'status': 'RECEIVED', 'lat': 40.36813753087676, 'lon': -3.6758687629745723}\n",
      "Threshold met: Dispatching 1 orders.\n"
     ]
    },
    {
     "name": "stderr",
     "output_type": "stream",
     "text": [
      "                                                                                \r"
     ]
    },
    {
     "name": "stdout",
     "output_type": "stream",
     "text": [
      "Saved 1 orders to Delta table.\n",
      "Accumulated order: {'order_id': 'a13d4038-26cd-4628-8e63-8acbd171a1e3', 'customer_id': 'cus-f212afed-e5aa-4fc1-a20c-82e51772e119', 'total_weight': 5.195906521139581, 'total_volume': 53.17527548648447, 'total_price': 616.9570752913897, 'order_timestamp': '2024-10-03 03:31:33', 'status': 'RECEIVED', 'lat': 40.31713972576694, 'lon': -3.7057502415603447}\n",
      "Accumulated order: {'order_id': '552fc2b3-ea39-4698-a211-bd98d99294e9', 'customer_id': 'cus-c5661968-261e-4008-a5f8-330d626504be', 'total_weight': 47.33167194989712, 'total_volume': 148.42671794201303, 'total_price': 913.9345274665333, 'order_timestamp': '2024-10-03 03:31:47', 'status': 'RECEIVED', 'lat': 40.51058125835963, 'lon': -3.7204986053130877}\n",
      "Threshold met: Dispatching 2 orders.\n"
     ]
    },
    {
     "name": "stderr",
     "output_type": "stream",
     "text": [
      "ERROR:root:Exception while sending command.\n",
      "Traceback (most recent call last):\n",
      "  File \"/Users/borja/Library/Caches/pypoetry/virtualenvs/route-optimizer-AqO2e-Ud-py3.11/lib/python3.11/site-packages/py4j/clientserver.py\", line 516, in send_command\n",
      "    raise Py4JNetworkError(\"Answer from Java side is empty\")\n",
      "py4j.protocol.Py4JNetworkError: Answer from Java side is empty\n",
      "\n",
      "During handling of the above exception, another exception occurred:\n",
      "\n",
      "Traceback (most recent call last):\n",
      "  File \"/Users/borja/Library/Caches/pypoetry/virtualenvs/route-optimizer-AqO2e-Ud-py3.11/lib/python3.11/site-packages/py4j/java_gateway.py\", line 1038, in send_command\n",
      "    response = connection.send_command(command)\n",
      "               ^^^^^^^^^^^^^^^^^^^^^^^^^^^^^^^^\n",
      "  File \"/Users/borja/Library/Caches/pypoetry/virtualenvs/route-optimizer-AqO2e-Ud-py3.11/lib/python3.11/site-packages/py4j/clientserver.py\", line 539, in send_command\n",
      "    raise Py4JNetworkError(\n",
      "py4j.protocol.Py4JNetworkError: Error while sending or receiving\n"
     ]
    },
    {
     "name": "stdout",
     "output_type": "stream",
     "text": [
      "#\n",
      "# A fatal error has been detected by the Java Runtime Environment:\n",
      "#\n",
      "#  SIGSEGV (0xb) at pc=0x0000000107aa51b8, pid=10178, tid=145703\n",
      "#\n",
      "# JRE version: OpenJDK Runtime Environment Homebrew (11.0.24) (build 11.0.24+0)\n",
      "# Java VM: OpenJDK 64-Bit Server VM Homebrew (11.0.24+0, mixed mode, tiered, compressed oops, g1 gc, bsd-aarch64)\n",
      "# Problematic frame:\n",
      "# V  [libjvm.dylib+0x6951b8]  ObjectSynchronizer::inflate(Thread*, oopDesc*, ObjectSynchronizer::InflateCause)+0x18c\n",
      "#\n",
      "# No core dump will be written. Core dumps have been disabled. To enable core dumping, try \"ulimit -c unlimited\" before starting Java again\n",
      "#\n",
      "# An error report file with more information is saved as:\n",
      "# /Users/borja/Documents/Somniumrema/projects/de/route_optimizer/notebooks/hs_err_pid10178.log\n",
      "#\n",
      "# If you would like to submit a bug report, please visit:\n",
      "#   https://github.com/Homebrew/homebrew-core/issues\n",
      "#\n"
     ]
    },
    {
     "ename": "Py4JError",
     "evalue": "An error occurred while calling o986.save",
     "output_type": "error",
     "traceback": [
      "\u001b[0;31m---------------------------------------------------------------------------\u001b[0m",
      "\u001b[0;31mPy4JError\u001b[0m                                 Traceback (most recent call last)",
      "Cell \u001b[0;32mIn[32], line 65\u001b[0m\n\u001b[1;32m     62\u001b[0m shard_iterator \u001b[38;5;241m=\u001b[39m get_shard_iterator(stream_name, shard_id)\n\u001b[1;32m     64\u001b[0m \u001b[38;5;66;03m# Start the dispatcher\u001b[39;00m\n\u001b[0;32m---> 65\u001b[0m \u001b[43mdispatcher\u001b[49m\u001b[43m(\u001b[49m\u001b[43mshard_iterator\u001b[49m\u001b[43m)\u001b[49m\n",
      "Cell \u001b[0;32mIn[32], line 48\u001b[0m, in \u001b[0;36mdispatcher\u001b[0;34m(shard_iterator)\u001b[0m\n\u001b[1;32m     46\u001b[0m \u001b[38;5;66;03m# Convert buffer to DataFrame and write to Delta table\u001b[39;00m\n\u001b[1;32m     47\u001b[0m df \u001b[38;5;241m=\u001b[39m spark\u001b[38;5;241m.\u001b[39mcreateDataFrame(order_buffer, schema\u001b[38;5;241m=\u001b[39mschema)\n\u001b[0;32m---> 48\u001b[0m \u001b[43mdf\u001b[49m\u001b[38;5;241;43m.\u001b[39;49m\u001b[43mwrite\u001b[49m\u001b[38;5;241;43m.\u001b[39;49m\u001b[43mformat\u001b[49m\u001b[43m(\u001b[49m\u001b[38;5;124;43m\"\u001b[39;49m\u001b[38;5;124;43mdelta\u001b[39;49m\u001b[38;5;124;43m\"\u001b[39;49m\u001b[43m)\u001b[49m\u001b[38;5;241;43m.\u001b[39;49m\u001b[43mmode\u001b[49m\u001b[43m(\u001b[49m\u001b[38;5;124;43m\"\u001b[39;49m\u001b[38;5;124;43mappend\u001b[39;49m\u001b[38;5;124;43m\"\u001b[39;49m\u001b[43m)\u001b[49m\u001b[38;5;241;43m.\u001b[39;49m\u001b[43msave\u001b[49m\u001b[43m(\u001b[49m\u001b[43mdelta_table_path\u001b[49m\u001b[43m)\u001b[49m\n\u001b[1;32m     49\u001b[0m \u001b[38;5;28mprint\u001b[39m(\u001b[38;5;124mf\u001b[39m\u001b[38;5;124m\"\u001b[39m\u001b[38;5;124mSaved \u001b[39m\u001b[38;5;132;01m{\u001b[39;00m\u001b[38;5;28mlen\u001b[39m(order_buffer)\u001b[38;5;132;01m}\u001b[39;00m\u001b[38;5;124m orders to Delta table.\u001b[39m\u001b[38;5;124m\"\u001b[39m)\n\u001b[1;32m     51\u001b[0m \u001b[38;5;66;03m# Clear the buffer and reset flush time\u001b[39;00m\n",
      "File \u001b[0;32m~/Library/Caches/pypoetry/virtualenvs/route-optimizer-AqO2e-Ud-py3.11/lib/python3.11/site-packages/pyspark/sql/readwriter.py:1398\u001b[0m, in \u001b[0;36mDataFrameWriter.save\u001b[0;34m(self, path, format, mode, partitionBy, **options)\u001b[0m\n\u001b[1;32m   1396\u001b[0m     \u001b[38;5;28mself\u001b[39m\u001b[38;5;241m.\u001b[39m_jwrite\u001b[38;5;241m.\u001b[39msave()\n\u001b[1;32m   1397\u001b[0m \u001b[38;5;28;01melse\u001b[39;00m:\n\u001b[0;32m-> 1398\u001b[0m     \u001b[38;5;28;43mself\u001b[39;49m\u001b[38;5;241;43m.\u001b[39;49m\u001b[43m_jwrite\u001b[49m\u001b[38;5;241;43m.\u001b[39;49m\u001b[43msave\u001b[49m\u001b[43m(\u001b[49m\u001b[43mpath\u001b[49m\u001b[43m)\u001b[49m\n",
      "File \u001b[0;32m~/Library/Caches/pypoetry/virtualenvs/route-optimizer-AqO2e-Ud-py3.11/lib/python3.11/site-packages/py4j/java_gateway.py:1322\u001b[0m, in \u001b[0;36mJavaMember.__call__\u001b[0;34m(self, *args)\u001b[0m\n\u001b[1;32m   1316\u001b[0m command \u001b[38;5;241m=\u001b[39m proto\u001b[38;5;241m.\u001b[39mCALL_COMMAND_NAME \u001b[38;5;241m+\u001b[39m\\\n\u001b[1;32m   1317\u001b[0m     \u001b[38;5;28mself\u001b[39m\u001b[38;5;241m.\u001b[39mcommand_header \u001b[38;5;241m+\u001b[39m\\\n\u001b[1;32m   1318\u001b[0m     args_command \u001b[38;5;241m+\u001b[39m\\\n\u001b[1;32m   1319\u001b[0m     proto\u001b[38;5;241m.\u001b[39mEND_COMMAND_PART\n\u001b[1;32m   1321\u001b[0m answer \u001b[38;5;241m=\u001b[39m \u001b[38;5;28mself\u001b[39m\u001b[38;5;241m.\u001b[39mgateway_client\u001b[38;5;241m.\u001b[39msend_command(command)\n\u001b[0;32m-> 1322\u001b[0m return_value \u001b[38;5;241m=\u001b[39m \u001b[43mget_return_value\u001b[49m\u001b[43m(\u001b[49m\n\u001b[1;32m   1323\u001b[0m \u001b[43m    \u001b[49m\u001b[43manswer\u001b[49m\u001b[43m,\u001b[49m\u001b[43m \u001b[49m\u001b[38;5;28;43mself\u001b[39;49m\u001b[38;5;241;43m.\u001b[39;49m\u001b[43mgateway_client\u001b[49m\u001b[43m,\u001b[49m\u001b[43m \u001b[49m\u001b[38;5;28;43mself\u001b[39;49m\u001b[38;5;241;43m.\u001b[39;49m\u001b[43mtarget_id\u001b[49m\u001b[43m,\u001b[49m\u001b[43m \u001b[49m\u001b[38;5;28;43mself\u001b[39;49m\u001b[38;5;241;43m.\u001b[39;49m\u001b[43mname\u001b[49m\u001b[43m)\u001b[49m\n\u001b[1;32m   1325\u001b[0m \u001b[38;5;28;01mfor\u001b[39;00m temp_arg \u001b[38;5;129;01min\u001b[39;00m temp_args:\n\u001b[1;32m   1326\u001b[0m     \u001b[38;5;28;01mif\u001b[39;00m \u001b[38;5;28mhasattr\u001b[39m(temp_arg, \u001b[38;5;124m\"\u001b[39m\u001b[38;5;124m_detach\u001b[39m\u001b[38;5;124m\"\u001b[39m):\n",
      "File \u001b[0;32m~/Library/Caches/pypoetry/virtualenvs/route-optimizer-AqO2e-Ud-py3.11/lib/python3.11/site-packages/pyspark/errors/exceptions/captured.py:169\u001b[0m, in \u001b[0;36mcapture_sql_exception.<locals>.deco\u001b[0;34m(*a, **kw)\u001b[0m\n\u001b[1;32m    167\u001b[0m \u001b[38;5;28;01mdef\u001b[39;00m \u001b[38;5;21mdeco\u001b[39m(\u001b[38;5;241m*\u001b[39ma: Any, \u001b[38;5;241m*\u001b[39m\u001b[38;5;241m*\u001b[39mkw: Any) \u001b[38;5;241m-\u001b[39m\u001b[38;5;241m>\u001b[39m Any:\n\u001b[1;32m    168\u001b[0m     \u001b[38;5;28;01mtry\u001b[39;00m:\n\u001b[0;32m--> 169\u001b[0m         \u001b[38;5;28;01mreturn\u001b[39;00m \u001b[43mf\u001b[49m\u001b[43m(\u001b[49m\u001b[38;5;241;43m*\u001b[39;49m\u001b[43ma\u001b[49m\u001b[43m,\u001b[49m\u001b[43m \u001b[49m\u001b[38;5;241;43m*\u001b[39;49m\u001b[38;5;241;43m*\u001b[39;49m\u001b[43mkw\u001b[49m\u001b[43m)\u001b[49m\n\u001b[1;32m    170\u001b[0m     \u001b[38;5;28;01mexcept\u001b[39;00m Py4JJavaError \u001b[38;5;28;01mas\u001b[39;00m e:\n\u001b[1;32m    171\u001b[0m         converted \u001b[38;5;241m=\u001b[39m convert_exception(e\u001b[38;5;241m.\u001b[39mjava_exception)\n",
      "File \u001b[0;32m~/Library/Caches/pypoetry/virtualenvs/route-optimizer-AqO2e-Ud-py3.11/lib/python3.11/site-packages/py4j/protocol.py:334\u001b[0m, in \u001b[0;36mget_return_value\u001b[0;34m(answer, gateway_client, target_id, name)\u001b[0m\n\u001b[1;32m    330\u001b[0m             \u001b[38;5;28;01mraise\u001b[39;00m Py4JError(\n\u001b[1;32m    331\u001b[0m                 \u001b[38;5;124m\"\u001b[39m\u001b[38;5;124mAn error occurred while calling \u001b[39m\u001b[38;5;132;01m{0}\u001b[39;00m\u001b[38;5;132;01m{1}\u001b[39;00m\u001b[38;5;132;01m{2}\u001b[39;00m\u001b[38;5;124m. Trace:\u001b[39m\u001b[38;5;130;01m\\n\u001b[39;00m\u001b[38;5;132;01m{3}\u001b[39;00m\u001b[38;5;130;01m\\n\u001b[39;00m\u001b[38;5;124m\"\u001b[39m\u001b[38;5;241m.\u001b[39m\n\u001b[1;32m    332\u001b[0m                 \u001b[38;5;28mformat\u001b[39m(target_id, \u001b[38;5;124m\"\u001b[39m\u001b[38;5;124m.\u001b[39m\u001b[38;5;124m\"\u001b[39m, name, value))\n\u001b[1;32m    333\u001b[0m     \u001b[38;5;28;01melse\u001b[39;00m:\n\u001b[0;32m--> 334\u001b[0m         \u001b[38;5;28;01mraise\u001b[39;00m Py4JError(\n\u001b[1;32m    335\u001b[0m             \u001b[38;5;124m\"\u001b[39m\u001b[38;5;124mAn error occurred while calling \u001b[39m\u001b[38;5;132;01m{0}\u001b[39;00m\u001b[38;5;132;01m{1}\u001b[39;00m\u001b[38;5;132;01m{2}\u001b[39;00m\u001b[38;5;124m\"\u001b[39m\u001b[38;5;241m.\u001b[39m\n\u001b[1;32m    336\u001b[0m             \u001b[38;5;28mformat\u001b[39m(target_id, \u001b[38;5;124m\"\u001b[39m\u001b[38;5;124m.\u001b[39m\u001b[38;5;124m\"\u001b[39m, name))\n\u001b[1;32m    337\u001b[0m \u001b[38;5;28;01melse\u001b[39;00m:\n\u001b[1;32m    338\u001b[0m     \u001b[38;5;28mtype\u001b[39m \u001b[38;5;241m=\u001b[39m answer[\u001b[38;5;241m1\u001b[39m]\n",
      "\u001b[0;31mPy4JError\u001b[0m: An error occurred while calling o986.save"
     ]
    },
    {
     "name": "stderr",
     "output_type": "stream",
     "text": [
      "ERROR:root:Exception while sending command.\n",
      "Traceback (most recent call last):\n",
      "  File \"/Users/borja/Library/Caches/pypoetry/virtualenvs/route-optimizer-AqO2e-Ud-py3.11/lib/python3.11/site-packages/py4j/clientserver.py\", line 516, in send_command\n",
      "    raise Py4JNetworkError(\"Answer from Java side is empty\")\n",
      "py4j.protocol.Py4JNetworkError: Answer from Java side is empty\n",
      "\n",
      "During handling of the above exception, another exception occurred:\n",
      "\n",
      "Traceback (most recent call last):\n",
      "  File \"/Users/borja/Library/Caches/pypoetry/virtualenvs/route-optimizer-AqO2e-Ud-py3.11/lib/python3.11/site-packages/py4j/java_gateway.py\", line 1038, in send_command\n",
      "    response = connection.send_command(command)\n",
      "               ^^^^^^^^^^^^^^^^^^^^^^^^^^^^^^^^\n",
      "  File \"/Users/borja/Library/Caches/pypoetry/virtualenvs/route-optimizer-AqO2e-Ud-py3.11/lib/python3.11/site-packages/py4j/clientserver.py\", line 539, in send_command\n",
      "    raise Py4JNetworkError(\n",
      "py4j.protocol.Py4JNetworkError: Error while sending or receiving\n"
     ]
    }
   ],
   "source": [
    "import time\n",
    "import json\n",
    "\n",
    "# Initialize buffer, limits, and thresholds\n",
    "order_buffer = []\n",
    "weight_threshold = 15  # Example weight threshold (can be adjusted)\n",
    "volume_threshold = 500  # Example volume threshold (can be adjusted)\n",
    "time_threshold = 60 * 30 # Example time threshold (e.g., 30 minutes)\n",
    "buffer_limit = 1000       # Optional, max number of orders in the buffer\n",
    "last_flush_time = time.time()\n",
    "\n",
    "# S3 path for Delta table\n",
    "delta_table_path = \"s3a://orders-for-dispatch/dispatching\"\n",
    "\n",
    "# Dispatcher function to read Kinesis records, accumulate, and process them\n",
    "def dispatcher(shard_iterator):\n",
    "    global order_buffer, last_flush_time\n",
    "\n",
    "    while True:\n",
    "        # Fetch records from Kinesis using shard_iterator\n",
    "        response = kinesis_client.get_records(ShardIterator=shard_iterator)\n",
    "        records = response['Records']\n",
    "\n",
    "        # Parse and accumulate orders\n",
    "        for record in records:\n",
    "            order_data = json.loads(record['Data'])\n",
    "            order_buffer.append(order_data)\n",
    "            print(f\"Accumulated order: {order_data}\")\n",
    "\n",
    "        # Convert timestamps if necessary\n",
    "        order_buffer = convert_timestamps(order_buffer)\n",
    "\n",
    "        # Calculate accumulated weight and volume\n",
    "        total_weight = sum(order['total_weight'] for order in order_buffer)\n",
    "        total_volume = sum(order['total_volume'] for order in order_buffer)\n",
    "        time_elapsed = time.time() - last_flush_time\n",
    "\n",
    "        # Check if any thresholds are met (weight, volume, or time)\n",
    "        if total_weight >= weight_threshold or total_volume >= volume_threshold or time_elapsed >= time_threshold:\n",
    "            print(f\"Threshold met: Dispatching {len(order_buffer)} orders.\")\n",
    "            \n",
    "            # Update the status of all orders to 'DISPATCH_READY'\n",
    "            for order in order_buffer:\n",
    "                order['status'] = 'READY_FOR_DISPATCH'\n",
    "\n",
    "            # Convert buffer to DataFrame and write to Delta table\n",
    "            df = spark.createDataFrame(order_buffer, schema=schema)\n",
    "            df.write.format(\"delta\").mode(\"append\").save(delta_table_path)\n",
    "            print(f\"Saved {len(order_buffer)} orders to Delta table.\")\n",
    "            \n",
    "            # Clear the buffer and reset flush time\n",
    "            order_buffer.clear()\n",
    "            last_flush_time = time.time()\n",
    "\n",
    "        # Update shard iterator for the next batch\n",
    "        shard_iterator = response['NextShardIterator']\n",
    "        time.sleep(2)  # Sleep to avoid rate limits\n",
    "\n",
    "# Get the shard iterator\n",
    "stream_name = 'OrderStreamForDispatching'  # Replace with your stream name\n",
    "shard_id = 'shardId-000000000000'  # Get the shard ID from the stream's details\n",
    "shard_iterator = get_shard_iterator(stream_name, shard_id)\n",
    "\n",
    "# Start the dispatcher\n",
    "dispatcher(shard_iterator)\n"
   ]
  }
 ],
 "metadata": {
  "kernelspec": {
   "display_name": "route-optimizer-AqO2e-Ud-py3.11",
   "language": "python",
   "name": "python3"
  },
  "language_info": {
   "codemirror_mode": {
    "name": "ipython",
    "version": 3
   },
   "file_extension": ".py",
   "mimetype": "text/x-python",
   "name": "python",
   "nbconvert_exporter": "python",
   "pygments_lexer": "ipython3",
   "version": "3.11.8"
  }
 },
 "nbformat": 4,
 "nbformat_minor": 2
}

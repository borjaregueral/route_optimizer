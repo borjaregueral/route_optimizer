{
 "cells": [
  {
   "cell_type": "code",
   "execution_count": 1,
   "metadata": {},
   "outputs": [],
   "source": [
    "import boto3\n",
    "import json\n",
    "import time\n",
    "from dotenv import load_dotenv\n",
    "from datetime import datetime\n",
    "import os\n",
    "\n",
    "# Load environment variables from .env file\n",
    "load_dotenv()\n",
    "\n",
    "# Initialize AWS credentials from the .env file\n",
    "AWS_ACCESS_KEY_ID = os.getenv('AWS_ACCESS_KEY_ID')\n",
    "AWS_SECRET_ACCESS_KEY = os.getenv('AWS_SECRET_ACCESS_KEY')\n",
    "AWS_SESSION_TOKEN = os.getenv('AWS_SESSION_TOKEN')\n",
    "AWS_REGION = os.getenv('AWS_REGION')"
   ]
  },
  {
   "cell_type": "code",
   "execution_count": 2,
   "metadata": {},
   "outputs": [],
   "source": [
    "# Initialize boto3 client for Kinesis with your credentials\n",
    "kinesis_client = boto3.client(\n",
    "    's3',\n",
    "    aws_access_key_id=AWS_ACCESS_KEY_ID,\n",
    "    aws_secret_access_key=AWS_SECRET_ACCESS_KEY,\n",
    "    aws_session_token=AWS_SESSION_TOKEN,\n",
    "    region_name=AWS_REGION\n",
    ")"
   ]
  },
  {
   "cell_type": "code",
   "execution_count": 3,
   "metadata": {},
   "outputs": [
    {
     "name": "stderr",
     "output_type": "stream",
     "text": [
      "24/09/30 20:44:35 WARN Utils: Your hostname, Somnium.local resolves to a loopback address: 127.0.0.1; using 172.28.59.194 instead (on interface en0)\n",
      "24/09/30 20:44:35 WARN Utils: Set SPARK_LOCAL_IP if you need to bind to another address\n"
     ]
    },
    {
     "name": "stdout",
     "output_type": "stream",
     "text": [
      ":: loading settings :: url = jar:file:/Users/borja/Library/Caches/pypoetry/virtualenvs/route-optimizer-AqO2e-Ud-py3.11/lib/python3.11/site-packages/pyspark/jars/ivy-2.5.1.jar!/org/apache/ivy/core/settings/ivysettings.xml\n"
     ]
    },
    {
     "name": "stderr",
     "output_type": "stream",
     "text": [
      "Ivy Default Cache set to: /Users/borja/.ivy2/cache\n",
      "The jars for the packages stored in: /Users/borja/.ivy2/jars\n",
      "io.delta#delta-core_2.12 added as a dependency\n",
      "org.apache.hadoop#hadoop-aws added as a dependency\n",
      ":: resolving dependencies :: org.apache.spark#spark-submit-parent-94836227-bc3e-4d36-83c8-692d4cf8b10c;1.0\n",
      "\tconfs: [default]\n",
      "\tfound io.delta#delta-core_2.12;2.4.0 in central\n",
      "\tfound io.delta#delta-storage;2.4.0 in central\n",
      "\tfound org.antlr#antlr4-runtime;4.9.3 in central\n",
      "\tfound org.apache.hadoop#hadoop-aws;3.3.1 in central\n",
      "\tfound com.amazonaws#aws-java-sdk-bundle;1.11.901 in central\n",
      "\tfound org.wildfly.openssl#wildfly-openssl;1.0.7.Final in central\n",
      "downloading https://repo1.maven.org/maven2/org/apache/hadoop/hadoop-aws/3.3.1/hadoop-aws-3.3.1.jar ...\n",
      "\t[SUCCESSFUL ] org.apache.hadoop#hadoop-aws;3.3.1!hadoop-aws.jar (97ms)\n",
      "downloading https://repo1.maven.org/maven2/com/amazonaws/aws-java-sdk-bundle/1.11.901/aws-java-sdk-bundle-1.11.901.jar ...\n",
      "\t[SUCCESSFUL ] com.amazonaws#aws-java-sdk-bundle;1.11.901!aws-java-sdk-bundle.jar (32128ms)\n",
      ":: resolution report :: resolve 2440ms :: artifacts dl 32232ms\n",
      "\t:: modules in use:\n",
      "\tcom.amazonaws#aws-java-sdk-bundle;1.11.901 from central in [default]\n",
      "\tio.delta#delta-core_2.12;2.4.0 from central in [default]\n",
      "\tio.delta#delta-storage;2.4.0 from central in [default]\n",
      "\torg.antlr#antlr4-runtime;4.9.3 from central in [default]\n",
      "\torg.apache.hadoop#hadoop-aws;3.3.1 from central in [default]\n",
      "\torg.wildfly.openssl#wildfly-openssl;1.0.7.Final from central in [default]\n",
      "\t---------------------------------------------------------------------\n",
      "\t|                  |            modules            ||   artifacts   |\n",
      "\t|       conf       | number| search|dwnlded|evicted|| number|dwnlded|\n",
      "\t---------------------------------------------------------------------\n",
      "\t|      default     |   6   |   2   |   2   |   0   ||   6   |   2   |\n",
      "\t---------------------------------------------------------------------\n",
      ":: retrieving :: org.apache.spark#spark-submit-parent-94836227-bc3e-4d36-83c8-692d4cf8b10c\n",
      "\tconfs: [default]\n",
      "\t2 artifacts copied, 4 already retrieved (188663kB/117ms)\n",
      "24/09/30 20:45:11 WARN NativeCodeLoader: Unable to load native-hadoop library for your platform... using builtin-java classes where applicable\n",
      "Setting default log level to \"WARN\".\n",
      "To adjust logging level use sc.setLogLevel(newLevel). For SparkR, use setLogLevel(newLevel).\n"
     ]
    }
   ],
   "source": [
    "from pyspark.sql import SparkSession\n",
    "\n",
    "spark = SparkSession.builder \\\n",
    "    .appName(\"DeltaTableReader\") \\\n",
    "    .config(\"spark.jars.packages\", \"io.delta:delta-core_2.12:2.4.0,org.apache.hadoop:hadoop-aws:3.3.1\") \\\n",
    "    .config(\"spark.sql.extensions\", \"io.delta.sql.DeltaSparkSessionExtension\") \\\n",
    "    .config(\"spark.sql.catalog.spark_catalog\", \"org.apache.spark.sql.delta.catalog.DeltaCatalog\") \\\n",
    "    .getOrCreate()\n",
    "\n",
    "# Path to the Delta table in S3\n",
    "delta_table_path = \"s3a://orders-for-dispatch/ready_for_dispatch\"\n"
   ]
  },
  {
   "cell_type": "code",
   "execution_count": 4,
   "metadata": {},
   "outputs": [],
   "source": [
    "# Path to the Delta table in S3\n",
    "delta_table_path = 's3a://orders-for-dispatch/ready_for_dispatching'"
   ]
  },
  {
   "cell_type": "code",
   "execution_count": 7,
   "metadata": {},
   "outputs": [
    {
     "name": "stderr",
     "output_type": "stream",
     "text": [
      "[Stage 10:>                                                         (0 + 1) / 1]\r"
     ]
    },
    {
     "name": "stdout",
     "output_type": "stream",
     "text": [
      "+------------+---------------------------------------------------------------------------------------------------------------------+------------------------------------------------+------------------------------------+------------------+-------------------+\n",
      "|client_id   |location                                                                                                             |order                                           |order_id                            |status            |timestamp          |\n",
      "+------------+---------------------------------------------------------------------------------------------------------------------+------------------------------------------------+------------------------------------+------------------+-------------------+\n",
      "|966388710620|{lon -> -3.691248605006199, address -> Pasadizo de Elvira Murcia, 22, Madrid, Spain, lat -> 40.52362535729707}       |{volume -> null, n_objects -> 8, weight -> null}|a764f612-d877-477e-8798-ee45543e950f|ready_for_dispatch|2024-09-29 21:01:21|\n",
      "|409075305396|{lon -> -3.7730642144358133, address -> Avenida de Anastasio Fernandez, 44, Madrid, Spain, lat -> 40.555017583068704}|{volume -> null, n_objects -> 2, weight -> null}|beebd249-b816-4a53-84f3-a9ff13ed13ac|ready_for_dispatch|2024-09-29 21:01:35|\n",
      "|471096860824|{lon -> -3.607689302973302, address -> Calle de Ofelia Saldaña, 6, Madrid, Spain, lat -> 40.33843238246461}          |{volume -> null, n_objects -> 5, weight -> null}|7e50eaab-fe14-4dbb-b95e-5da4f95e1508|ready_for_dispatch|2024-09-29 21:01:57|\n",
      "|775303547021|{lon -> -3.6139924931034284, address -> Calle Obdulia Ariño, 83, Madrid, Spain, lat -> 40.6177637979817}             |{volume -> null, n_objects -> 8, weight -> null}|5c7f9ec4-0bc4-4823-accb-f34fe0f47fbc|ready_for_dispatch|2024-09-29 21:02:28|\n",
      "|458175538176|{lon -> -3.840729590075482, address -> Cañada Graciana Escrivá, 2, Madrid, Spain, lat -> 40.397162167667}            |{volume -> null, n_objects -> 1, weight -> null}|09469c97-b76f-4ed3-ab5d-3bb7f3b39ec0|ready_for_dispatch|2024-09-29 21:02:42|\n",
      "|358106990655|{lon -> -3.8827473097100804, address -> Pasaje de Carlos Ballesteros, 521, Madrid, Spain, lat -> 40.31428421069598}  |{volume -> null, n_objects -> 8, weight -> null}|0d4f012c-2f20-4b22-b315-ca2a7b4c1ce7|ready_for_dispatch|2024-09-29 21:02:57|\n",
      "|379769084554|{lon -> -3.711089915340069, address -> Pasadizo de Eliseo Martínez, 11, Madrid, Spain, lat -> 40.44343272940199}     |{volume -> null, n_objects -> 5, weight -> null}|ff5b518c-428f-4db4-8bcd-36552d5795c2|ready_for_dispatch|2024-09-29 21:03:08|\n",
      "|582587950017|{lon -> -3.7070133134531877, address -> Paseo de Amando Múñiz, 473, Madrid, Spain, lat -> 40.33252932781965}         |{volume -> null, n_objects -> 2, weight -> null}|f0306896-ab64-4334-91e6-a5264c86eadc|ready_for_dispatch|2024-09-29 21:03:33|\n",
      "|831883719833|{lon -> -3.7455508418867067, address -> Alameda Teresita Menendez, 39, Madrid, Spain, lat -> 40.347251139733665}     |{volume -> null, n_objects -> 8, weight -> null}|f2858179-7eb2-40ba-ad13-92ba60d57697|ready_for_dispatch|2024-09-29 21:03:58|\n",
      "|917107921063|{lon -> -3.7470353683440996, address -> Cuesta de Héctor Esteban, 95, Madrid, Spain, lat -> 40.52907839445643}       |{volume -> null, n_objects -> 7, weight -> null}|786ae3dc-a674-491d-bce7-108744000c0a|ready_for_dispatch|2024-09-29 21:04:15|\n",
      "|665740872883|{lon -> -3.6920519532642984, address -> Glorieta de Mariano Duarte, 690, Madrid, Spain, lat -> 40.58668798141048}    |{volume -> null, n_objects -> 1, weight -> null}|1601aec0-626e-4c3a-9ee1-a53c3260a2b7|ready_for_dispatch|2024-09-29 21:04:37|\n",
      "|846367198596|{lon -> -3.5759976640181366, address -> Rambla de David Cabañas, 557, Madrid, Spain, lat -> 40.59261052718335}       |{volume -> null, n_objects -> 3, weight -> null}|007ae7ea-e0d2-46e2-9788-5cf380d7ec78|ready_for_dispatch|2024-09-29 21:05:03|\n",
      "|419575440090|{lon -> -3.675922936930919, address -> Cañada de Anabel Niño, 91, Madrid, Spain, lat -> 40.45246475585207}           |{volume -> null, n_objects -> 9, weight -> null}|79029536-89fa-42e2-a469-fc8d4e8b3d2d|ready_for_dispatch|2024-09-29 21:05:13|\n",
      "|939812540939|{lon -> -3.704662400639491, address -> Pasaje Plácido Escobar, 48, Madrid, Spain, lat -> 40.589051858976795}         |{volume -> null, n_objects -> 5, weight -> null}|3fd84b7a-33f7-44d1-9585-6f30f551a09e|ready_for_dispatch|2024-09-29 21:05:20|\n",
      "|947187205354|{lon -> -3.597503375054044, address -> Cañada Wilfredo Jordán, 6, Madrid, Spain, lat -> 40.39147021344994}           |{volume -> null, n_objects -> 6, weight -> null}|8f2d9436-ddc5-4f13-be7f-3cb435730b8f|ready_for_dispatch|2024-09-29 21:05:34|\n",
      "|802337517867|{lon -> -3.7385290916577802, address -> Avenida de Dan Alcántara, 82, Madrid, Spain, lat -> 40.39614150852301}       |{volume -> null, n_objects -> 6, weight -> null}|c34d22e9-a004-4fe3-8765-191edbcac258|ready_for_dispatch|2024-09-29 21:06:04|\n",
      "|966388710620|{lon -> -3.691248605006199, address -> Pasadizo de Elvira Murcia, 22, Madrid, Spain, lat -> 40.52362535729707}       |{volume -> null, n_objects -> 8, weight -> null}|a764f612-d877-477e-8798-ee45543e950f|ready_for_dispatch|2024-09-29 21:01:21|\n",
      "|409075305396|{lon -> -3.7730642144358133, address -> Avenida de Anastasio Fernandez, 44, Madrid, Spain, lat -> 40.555017583068704}|{volume -> null, n_objects -> 2, weight -> null}|beebd249-b816-4a53-84f3-a9ff13ed13ac|ready_for_dispatch|2024-09-29 21:01:35|\n",
      "|471096860824|{lon -> -3.607689302973302, address -> Calle de Ofelia Saldaña, 6, Madrid, Spain, lat -> 40.33843238246461}          |{volume -> null, n_objects -> 5, weight -> null}|7e50eaab-fe14-4dbb-b95e-5da4f95e1508|ready_for_dispatch|2024-09-29 21:01:57|\n",
      "|775303547021|{lon -> -3.6139924931034284, address -> Calle Obdulia Ariño, 83, Madrid, Spain, lat -> 40.6177637979817}             |{volume -> null, n_objects -> 8, weight -> null}|5c7f9ec4-0bc4-4823-accb-f34fe0f47fbc|ready_for_dispatch|2024-09-29 21:02:28|\n",
      "+------------+---------------------------------------------------------------------------------------------------------------------+------------------------------------------------+------------------------------------+------------------+-------------------+\n",
      "only showing top 20 rows\n",
      "\n"
     ]
    },
    {
     "name": "stderr",
     "output_type": "stream",
     "text": [
      "                                                                                \r"
     ]
    }
   ],
   "source": [
    "from delta.tables import DeltaTable\n",
    "\n",
    "# Function to read records marked as ready for dispatch\n",
    "def read_ready_for_dispatch_orders():\n",
    "    # Load the Delta table\n",
    "    delta_table = DeltaTable.forPath(spark, delta_table_path)\n",
    "    \n",
    "    # Query the Delta table to fetch only the records marked as ready for dispatch\n",
    "    df = delta_table.toDF().filter(\"status = 'ready_for_dispatch'\")\n",
    "    \n",
    "    # Show the records\n",
    "    df.show(truncate=False)\n",
    "\n",
    "    # You can return the DataFrame or process it further\n",
    "    return df\n",
    "\n",
    "# Read the ready-for-dispatch orders\n",
    "ready_orders_df = read_ready_for_dispatch_orders()"
   ]
  },
  {
   "cell_type": "code",
   "execution_count": null,
   "metadata": {},
   "outputs": [],
   "source": []
  },
  {
   "cell_type": "code",
   "execution_count": null,
   "metadata": {},
   "outputs": [],
   "source": []
  },
  {
   "cell_type": "code",
   "execution_count": null,
   "metadata": {},
   "outputs": [],
   "source": []
  },
  {
   "cell_type": "code",
   "execution_count": null,
   "metadata": {},
   "outputs": [],
   "source": []
  }
 ],
 "metadata": {
  "kernelspec": {
   "display_name": "route-optimizer-AqO2e-Ud-py3.11",
   "language": "python",
   "name": "python3"
  },
  "language_info": {
   "codemirror_mode": {
    "name": "ipython",
    "version": 3
   },
   "file_extension": ".py",
   "mimetype": "text/x-python",
   "name": "python",
   "nbconvert_exporter": "python",
   "pygments_lexer": "ipython3",
   "version": "3.11.8"
  }
 },
 "nbformat": 4,
 "nbformat_minor": 2
}

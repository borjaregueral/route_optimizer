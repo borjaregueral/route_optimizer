{
 "cells": [
  {
   "cell_type": "code",
   "execution_count": 3,
   "metadata": {},
   "outputs": [],
   "source": [
    "import boto3\n",
    "import json\n",
    "import time\n",
    "from dotenv import load_dotenv\n",
    "from pyspark.sql import SparkSession\n",
    "from pyspark.sql.functions import col, to_timestamp\n",
    "from pyspark.sql.types import StructType, StructField, StringType, TimestampType, DoubleType\n",
    "import os\n",
    "\n",
    "# Load environment variables from .env file\n",
    "load_dotenv()\n",
    "\n",
    "# Initialize AWS credentials from the .env file\n",
    "AWS_ACCESS_KEY_ID = os.getenv('AWS_ACCESS_KEY_ID')\n",
    "AWS_SECRET_ACCESS_KEY = os.getenv('AWS_SECRET_ACCESS_KEY')\n",
    "AWS_SESSION_TOKEN = os.getenv('AWS_SESSION_TOKEN')\n",
    "AWS_REGION = os.getenv('AWS_REGION')"
   ]
  },
  {
   "cell_type": "code",
   "execution_count": 4,
   "metadata": {},
   "outputs": [
    {
     "name": "stdout",
     "output_type": "stream",
     "text": [
      "root\n",
      " |-- order_id: string (nullable = true)\n",
      " |-- customer_id: string (nullable = true)\n",
      " |-- total_weight: double (nullable = true)\n",
      " |-- total_volume: double (nullable = true)\n",
      " |-- total_price: double (nullable = true)\n",
      " |-- order_timestamp: timestamp (nullable = true)\n",
      " |-- status: string (nullable = true)\n",
      " |-- lat: double (nullable = true)\n",
      " |-- lon: double (nullable = true)\n",
      " |-- order_hour: string (nullable = true)\n",
      "\n"
     ]
    },
    {
     "name": "stderr",
     "output_type": "stream",
     "text": [
      "[Stage 3:>                                                          (0 + 1) / 1]\r"
     ]
    },
    {
     "name": "stdout",
     "output_type": "stream",
     "text": [
      "+--------------------+--------------------+------------------+------------------+------------------+-------------------+------------------+------------------+-------------------+-------------+\n",
      "|            order_id|         customer_id|      total_weight|      total_volume|       total_price|    order_timestamp|            status|               lat|                lon|   order_hour|\n",
      "+--------------------+--------------------+------------------+------------------+------------------+-------------------+------------------+------------------+-------------------+-------------+\n",
      "|ddf388df-0ba7-466...|cus-7936923a-9497...|53.704967191021616|  158.020036789502|  391.369766741626|2024-10-05 00:05:27|READY_FOR_DELIVERY| 40.57537902504314|-3.8109392727805593|2024-10-05-00|\n",
      "|00097dc9-c9d9-470...|cus-eb2b10f9-0386...| 46.85114562865591|31.315665829003166|372.29208926344467|2024-10-05 00:05:28|READY_FOR_DELIVERY| 40.61009126019276| -3.651427946689784|2024-10-05-00|\n",
      "|33d73aa7-2983-4be...|cus-f67fa0f8-d162...| 49.66787177855763| 92.73329135420282| 877.7743053786115|2024-10-05 00:05:29|READY_FOR_DELIVERY|40.334528330556125| -3.581659815108595|2024-10-05-00|\n",
      "|8b715cc8-747d-4e1...|cus-94a1bba0-7d3d...|  64.4904162082709|117.85973766620498|  33.6196878730833|2024-10-05 00:05:30|READY_FOR_DELIVERY| 40.42115679494082| -3.726517802320431|2024-10-05-00|\n",
      "|a7150987-3fab-4f4...|cus-525a407d-a729...| 44.45344990327035|197.50092853377737| 82.18522140041715|2024-10-05 00:05:07|READY_FOR_DELIVERY| 40.35586099986641|-3.6186105244587936|2024-10-05-00|\n",
      "|040f51ff-5cb9-4c7...|cus-8841dd00-42de...|  90.7984620060629|2.0223508447577343| 813.8440473115177|2024-10-05 00:05:09|READY_FOR_DELIVERY| 40.47058419086819|-3.6428007480874984|2024-10-05-00|\n",
      "|3fe83b12-b074-4f7...|cus-d640444f-f9bd...| 63.37630345161752|314.79547121630213| 369.8366336506766|2024-10-05 00:05:11|READY_FOR_DELIVERY| 40.60356195953753| -3.601780332850962|2024-10-05-00|\n",
      "|735bad48-e71b-472...|cus-1110f0e8-4d0f...| 34.01030713405926| 76.85976764008393|  634.233571989953|2024-10-05 00:05:12|READY_FOR_DELIVERY|40.591931297065074| -3.719242579306918|2024-10-05-00|\n",
      "|2f767003-8c9f-46f...|cus-9e34f9c3-8af6...|25.123297446685232|179.02994615584225| 474.1675439457292|2024-10-05 00:05:15|READY_FOR_DELIVERY|40.599868106255116| -3.860983398617378|2024-10-05-00|\n",
      "|64dd61a2-be94-466...|cus-7cf284dc-7467...|20.249710951166403|  493.258487921246|126.39249766673476|2024-10-05 00:05:16|READY_FOR_DELIVERY| 40.49420197328407|-3.7636899092139458|2024-10-05-00|\n",
      "+--------------------+--------------------+------------------+------------------+------------------+-------------------+------------------+------------------+-------------------+-------------+\n",
      "only showing top 10 rows\n",
      "\n"
     ]
    },
    {
     "name": "stderr",
     "output_type": "stream",
     "text": [
      "                                                                                \r"
     ]
    }
   ],
   "source": [
    "from pyspark.sql import SparkSession\n",
    "\n",
    "# Path to the Silver Delta table\n",
    "silver_table_path = \"s3a://orders-for-dispatch/silver/\"\n",
    "\n",
    "# Path to your local JAR files (optional, only necessary if running locally with custom JARs)\n",
    "local_jars = \"/Users/borja/Documents/Somniumrema/projects/de/route_optimizer/jars/aws-java-sdk-kinesis-1.12.364.jar\"\n",
    "\n",
    "# Initialize Spark session with Delta and S3 settings\n",
    "spark = (SparkSession.builder\n",
    "    .appName(\"DeltaLakeAggregation\")\n",
    "    .config(\"spark.sql.extensions\", \"io.delta.sql.DeltaSparkSessionExtension\")\n",
    "    .config(\"spark.sql.catalog.spark_catalog\", \"org.apache.spark.sql.delta.catalog.DeltaCatalog\")\n",
    "    .config(\"spark.jars.packages\", \"io.delta:delta-core_2.12:2.4.0,org.apache.hadoop:hadoop-aws:3.3.2,com.amazonaws:aws-java-sdk-bundle:1.11.1026\")\n",
    "    .config(\"spark.hadoop.fs.s3a.impl\", \"org.apache.hadoop.fs.s3a.S3AFileSystem\")\n",
    "    .config(\"spark.hadoop.fs.s3a.access.key\", AWS_ACCESS_KEY_ID)\n",
    "    .config(\"spark.hadoop.fs.s3a.secret.key\", AWS_SECRET_ACCESS_KEY)\n",
    "    .config(\"spark.hadoop.fs.s3a.session.token\", AWS_SESSION_TOKEN)\n",
    "    .config(\"spark.hadoop.fs.s3a.endpoint\", \"s3.amazonaws.com\")\n",
    "    .config(\"spark.sql.files.maxPartitionBytes\", \"134217728\")\n",
    "    .config(\"spark.driver.memory\", \"6g\")\n",
    "    .config(\"spark.executor.memory\", \"6g\")\n",
    "    .config(\"spark.sql.adaptive.enabled\", \"false\")\n",
    "    .config(\"spark.sql.debug.maxToStringFields\", \"100\")\n",
    "    .config(\"spark.databricks.delta.schema.autoMerge.enabled\", \"true\") \n",
    "    .config(\"spark.sql.execution.arrow.pyspark.enabled\", \"true\")\n",
    "    .getOrCreate())\n",
    "\n",
    "# Optional: Adjust logging level\n",
    "spark.sparkContext.setLogLevel(\"WARN\")\n",
    "\n",
    "# Read the Delta table from the Silver layer\n",
    "df_silver = spark.read \\\n",
    "    .format(\"parquet\") \\\n",
    "    .load(silver_table_path)\n",
    "\n",
    "# Show the schema and first few records to verify\n",
    "df_silver.printSchema()\n",
    "df_silver.show(10)\n"
   ]
  }
 ],
 "metadata": {
  "kernelspec": {
   "display_name": "route-optimizer-AqO2e-Ud-py3.11",
   "language": "python",
   "name": "python3"
  },
  "language_info": {
   "codemirror_mode": {
    "name": "ipython",
    "version": 3
   },
   "file_extension": ".py",
   "mimetype": "text/x-python",
   "name": "python",
   "nbconvert_exporter": "python",
   "pygments_lexer": "ipython3",
   "version": "3.11.8"
  }
 },
 "nbformat": 4,
 "nbformat_minor": 2
}
